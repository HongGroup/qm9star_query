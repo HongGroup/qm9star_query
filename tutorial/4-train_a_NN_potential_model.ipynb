{
 "cells": [
  {
   "cell_type": "markdown",
   "metadata": {},
   "source": [
    "# Train a NN potential model\n",
    "We briefly demonstrate in this notebook how the QM9star dataset can be used to train a graph neural network model capable of predicting the potential energy of a non-neutral molecular system. In theory, the model could also be used to learn other global features."
   ]
  },
  {
   "cell_type": "markdown",
   "metadata": {},
   "source": [
    "## Requirements\n",
    "In order to run the notebook, you need to install additional dependencies.\n",
    "```bash\n",
    "poetry install -E dl\n",
    "```\n",
    "If you have problems configuring your environment, please refer to the README for solutions!"
   ]
  },
  {
   "cell_type": "code",
   "execution_count": 1,
   "metadata": {},
   "outputs": [],
   "source": [
    "import os\n",
    "\n",
    "import matplotlib.pyplot as plt\n",
    "import numpy as np\n",
    "import torch\n",
    "from nff.train import Adam, Trainer, hooks, loss, metrics\n",
    "from pint import UnitRegistry\n",
    "from rdkit import Chem\n",
    "from sqlmodel import col, select\n",
    "from sqlmodel.sql.expression import SelectOfScalar\n",
    "from torch_geometric.data import Data\n",
    "from torch_geometric.loader import DataLoader\n",
    "\n",
    "from qm9star_query.dataset.base_dataset import BaseQM9starDataset\n",
    "from qm9star_query.models import Snapshot\n",
    "from qm9star_query.nn.dimenetpp import DimeNetPPCM\n",
    "\n",
    "ureg = UnitRegistry()\n",
    "hartree2kcal = ureg.convert(1, \"hartree/particle\", \"kcal/mol\")\n",
    "hartree_bohr2kcal_mol_angstrom = ureg.convert(\n",
    "    1, \"hartree/bohr/particle\", \"kcal/mol/angstrom\"\n",
    ")\n",
    "# energy from /tutorial/atom_ref\n",
    "atom_single_point_energy = {\n",
    "    \"H\": -0.5021559 * hartree2kcal,\n",
    "    \"C\": -37.7375894 * hartree2kcal,\n",
    "    \"N\": -54.4992609 * hartree2kcal,\n",
    "    \"O\": -74.9889063 * hartree2kcal,\n",
    "    \"F\": -99.7605802 * hartree2kcal,\n",
    "}\n",
    "\n",
    "\n",
    "def get_total_atom_energy(atom_list: list[int]):\n",
    "    res = 0\n",
    "    for atom in atom_list:\n",
    "        res += atom_single_point_energy[Chem.Atom(atom).GetSymbol()]\n",
    "    return res\n",
    "\n",
    "\n",
    "device = \"cuda:0\" if torch.cuda.is_available() else \"cpu\"\n",
    "\n",
    "\n",
    "def transform_data(raw_data):\n",
    "    pos = torch.tensor(raw_data[\"coords\"], dtype=torch.float32)\n",
    "    z = torch.tensor(raw_data[\"atoms\"], dtype=torch.int64)\n",
    "    energy = torch.tensor(\n",
    "        raw_data[\"single_point_energy\"] * hartree2kcal\n",
    "        - get_total_atom_energy(raw_data[\"atoms\"]),\n",
    "        dtype=torch.float32,\n",
    "    )\n",
    "    return Data(\n",
    "        pos=pos,\n",
    "        z=z,\n",
    "        bonds=torch.tensor(raw_data[\"bonds\"], dtype=torch.int64),\n",
    "        nxyz=torch.concat([z.view(-1, 1), pos], dim=-1),\n",
    "        formal_charges=torch.tensor(\n",
    "            raw_data[\"formal_charges\"], dtype=torch.int64),\n",
    "        formal_num_radicals=torch.tensor(\n",
    "            raw_data[\"formal_num_radicals\"], dtype=torch.int64\n",
    "        ),\n",
    "        energy=energy,\n",
    "        energy_grad=-torch.tensor(raw_data[\"forces\"], dtype=torch.float32)\n",
    "        * hartree_bohr2kcal_mol_angstrom,\n",
    "        id=torch.tensor(raw_data[\"id\"], dtype=torch.int64),\n",
    "    )"
   ]
  },
  {
   "cell_type": "markdown",
   "metadata": {},
   "source": [
    "## Data preparation\n",
    "We provide the data split used for training with train:valid:test = 8:1:1. Executing the following code automatically downloads and preprocesses the data from the deployed QM9star dataset. Depending on the network speed it may take about 2h, in the meantime you can enjoy your coffee break first."
   ]
  },
  {
   "cell_type": "code",
   "execution_count": 2,
   "metadata": {},
   "outputs": [],
   "source": [
    "scheme = \"postgresql+psycopg2\"\n",
    "POSTGRES_USER = \"hxchem\"\n",
    "POSTGRES_PASSWD = \"hxchem\"\n",
    "POSTGRES_SERVER = \"127.0.0.1\"  # actual server address\n",
    "POSTGRES_PORT = 35432  # actual port\n",
    "POSTGRES_DB = \"qm9star\""
   ]
  },
  {
   "cell_type": "code",
   "execution_count": 3,
   "metadata": {},
   "outputs": [
    {
     "name": "stdout",
     "output_type": "stream",
     "text": [
      "Train: 1607044, Valid: 200881, test: 200881\n"
     ]
    }
   ],
   "source": [
    "if os.path.exists(\"data_split\"):\n",
    "    trainset_ids = torch.load(\"data_split/trainset_ids.pt\")\n",
    "    valset_ids = torch.load(\"data_split/validset_ids.pt\")\n",
    "    testset_ids = torch.load(\"data_split/testset_ids.pt\")\n",
    "\n",
    "    def select_train(\n",
    "        selector=select(Snapshot),\n",
    "    ) -> SelectOfScalar[int] | SelectOfScalar[Snapshot]:\n",
    "        return selector.where(col(Snapshot.id).in_(np.array(trainset_ids).tolist()))\n",
    "\n",
    "    def select_val(\n",
    "        selector=select(Snapshot),\n",
    "    ) -> SelectOfScalar[int] | SelectOfScalar[Snapshot]:\n",
    "        return selector.where(col(Snapshot.id).in_(np.array(valset_ids).tolist()))\n",
    "\n",
    "    def select_test(\n",
    "        selector=select(Snapshot),\n",
    "    ) -> SelectOfScalar[int] | SelectOfScalar[Snapshot]:\n",
    "        return selector.where(col(Snapshot.id).in_(np.array(testset_ids).tolist()))\n",
    "\n",
    "    train_dataset = BaseQM9starDataset(\n",
    "        user=POSTGRES_USER,\n",
    "        password=POSTGRES_PASSWD,\n",
    "        server=POSTGRES_SERVER,\n",
    "        port=POSTGRES_PORT,\n",
    "        db=POSTGRES_DB,\n",
    "        dataset_name=\"qm9star_all_train\",\n",
    "        block_num=5,\n",
    "        log=True,\n",
    "        transform=transform_data,\n",
    "        selector_func=select_train,\n",
    "    )\n",
    "\n",
    "    valid_dataset = BaseQM9starDataset(\n",
    "        user=POSTGRES_USER,\n",
    "        password=POSTGRES_PASSWD,\n",
    "        server=POSTGRES_SERVER,\n",
    "        port=POSTGRES_PORT,\n",
    "        db=POSTGRES_DB,\n",
    "        dataset_name=\"qm9star_all_valid\",\n",
    "        block_num=5,\n",
    "        log=True,\n",
    "        transform=transform_data,\n",
    "        selector_func=select_val,\n",
    "    )\n",
    "\n",
    "    test_dataset = BaseQM9starDataset(\n",
    "        user=POSTGRES_USER,\n",
    "        password=POSTGRES_PASSWD,\n",
    "        server=POSTGRES_SERVER,\n",
    "        port=POSTGRES_PORT,\n",
    "        db=POSTGRES_DB,\n",
    "        dataset_name=\"qm9star_all_test\",\n",
    "        block_num=5,\n",
    "        log=True,\n",
    "        transform=transform_data,\n",
    "        selector_func=select_test,\n",
    "    )\n",
    "    print(\n",
    "        f\"Train: {len(train_dataset)}, Valid: {len(valid_dataset)}, test: {len(test_dataset)}\"\n",
    "    )\n",
    "\n",
    "else:\n",
    "    total_dataset = BaseQM9starDataset(\n",
    "        user=POSTGRES_USER,\n",
    "        password=POSTGRES_PASSWD,\n",
    "        server=POSTGRES_SERVER,\n",
    "        port=POSTGRES_PORT,\n",
    "        db=POSTGRES_DB,\n",
    "        dataset_name=\"qm9star_all\",\n",
    "        block_num=5,\n",
    "        log=True,\n",
    "        transform=transform_data,\n",
    "    )\n",
    "    train_split = 0.8\n",
    "    val_split = 0.1\n",
    "    test_split = 0.1\n",
    "\n",
    "    rng = np.random.default_rng(seed=3407)\n",
    "    ids = list(total_dataset.indices())\n",
    "    rng.shuffle(ids)\n",
    "\n",
    "    train_ids = ids[: int(len(ids) * train_split)]\n",
    "    val_ids = ids[\n",
    "        int(len(ids) * train_split) : int(len(ids) * (train_split + val_split))\n",
    "    ]\n",
    "    test_ids = ids[int(len(ids) * (train_split + val_split)) :]\n",
    "\n",
    "    print(f\"Train: {len(train_ids)}, Valid: {len(val_ids)}, test: {len(test_ids)}\")\n",
    "\n",
    "    train_dataset = total_dataset[train_ids]\n",
    "    valid_dataset = total_dataset[val_ids]\n",
    "    test_dataset = total_dataset[test_ids]\n",
    "    torch.save(train_dataset.id, \"data_split/trainset_ids.pt\")\n",
    "    torch.save(valid_dataset.id, \"data_split/validset_ids.pt\")\n",
    "    torch.save(test_dataset.id, \"data_split/testset_ids.pt\")"
   ]
  },
  {
   "cell_type": "code",
   "execution_count": 4,
   "metadata": {},
   "outputs": [],
   "source": [
    "train_loader = DataLoader(\n",
    "    train_dataset, 192, shuffle=True, follow_batch=[\"nxyz\"])\n",
    "valid_loader = DataLoader(\n",
    "    valid_dataset, 192, shuffle=False, follow_batch=[\"nxyz\"])\n",
    "test_loader = DataLoader(\n",
    "    test_dataset, 128, shuffle=False, follow_batch=[\"nxyz\"])"
   ]
  },
  {
   "cell_type": "markdown",
   "metadata": {},
   "source": [
    "## Define model"
   ]
  },
  {
   "cell_type": "code",
   "execution_count": 5,
   "metadata": {},
   "outputs": [],
   "source": [
    "model = DimeNetPPCM(energy_and_force=False, ret_res_dict=True)\n",
    "OUTDIR = \"./sandbox\""
   ]
  },
  {
   "cell_type": "code",
   "execution_count": 6,
   "metadata": {},
   "outputs": [],
   "source": [
    "loss_fn = loss.build_mae_loss(loss_coef={\"energy\": 1})\n",
    "\n",
    "trainable_params = filter(lambda p: p.requires_grad, model.parameters())\n",
    "optimizer = Adam(trainable_params, lr=1e-4)\n",
    "train_metrics = [\n",
    "    metrics.MeanAbsoluteError(\"energy\"),\n",
    "    # metrics.MeanAbsoluteError(\"energy_grad\"),\n",
    "]\n",
    "train_hooks = [\n",
    "    hooks.MaxEpochHook(300),\n",
    "    hooks.CSVHook(\n",
    "        OUTDIR,\n",
    "        metrics=train_metrics,\n",
    "    ),\n",
    "    hooks.PrintingHook(\n",
    "        OUTDIR, metrics=train_metrics, separator=\" | \", time_strf=\"%M:%S\"\n",
    "    ),\n",
    "    hooks.ReduceLROnPlateauHook(\n",
    "        optimizer=optimizer,\n",
    "        patience=30,\n",
    "        factor=0.5,\n",
    "        min_lr=1e-7,\n",
    "        window_length=1,\n",
    "        stop_after_min=True,\n",
    "    ),\n",
    "]\n",
    "T = Trainer(\n",
    "    model_path=OUTDIR,\n",
    "    model=model,\n",
    "    loss_fn=loss_fn,\n",
    "    optimizer=optimizer,\n",
    "    train_loader=train_loader,\n",
    "    validation_loader=valid_loader,\n",
    "    checkpoint_interval=1,\n",
    "    hooks=train_hooks,\n",
    ")"
   ]
  },
  {
   "cell_type": "code",
   "execution_count": 7,
   "metadata": {},
   "outputs": [
    {
     "name": "stdout",
     "output_type": "stream",
     "text": [
      " Time | Epoch | Learning rate | Train loss | Validation loss | MAE_energy | GPU Memory (MB)\n"
     ]
    }
   ],
   "source": [
    "T.train(device=device, n_epochs=500)"
   ]
  },
  {
   "cell_type": "markdown",
   "metadata": {},
   "source": [
    "## Result analysis"
   ]
  },
  {
   "cell_type": "code",
   "execution_count": 23,
   "metadata": {},
   "outputs": [
    {
     "data": {
      "text/html": [
       "<div>\n",
       "<style scoped>\n",
       "    .dataframe tbody tr th:only-of-type {\n",
       "        vertical-align: middle;\n",
       "    }\n",
       "\n",
       "    .dataframe tbody tr th {\n",
       "        vertical-align: top;\n",
       "    }\n",
       "\n",
       "    .dataframe thead th {\n",
       "        text-align: right;\n",
       "    }\n",
       "</style>\n",
       "<table border=\"1\" class=\"dataframe\">\n",
       "  <thead>\n",
       "    <tr style=\"text-align: right;\">\n",
       "      <th></th>\n",
       "      <th>Time</th>\n",
       "      <th>Learning Rate</th>\n",
       "      <th>Training Loss</th>\n",
       "      <th>Validation Loss</th>\n",
       "      <th>MAE_energy</th>\n",
       "      <th>Epoch</th>\n",
       "    </tr>\n",
       "  </thead>\n",
       "  <tbody>\n",
       "    <tr>\n",
       "      <th>0</th>\n",
       "      <td>977.477456</td>\n",
       "      <td>0.000100</td>\n",
       "      <td>22.182571</td>\n",
       "      <td>5.324299</td>\n",
       "      <td>5.325535</td>\n",
       "      <td>1</td>\n",
       "    </tr>\n",
       "    <tr>\n",
       "      <th>1</th>\n",
       "      <td>1754.361884</td>\n",
       "      <td>0.000100</td>\n",
       "      <td>8.263110</td>\n",
       "      <td>7.888897</td>\n",
       "      <td>7.887667</td>\n",
       "      <td>2</td>\n",
       "    </tr>\n",
       "    <tr>\n",
       "      <th>2</th>\n",
       "      <td>2525.960714</td>\n",
       "      <td>0.000100</td>\n",
       "      <td>6.168878</td>\n",
       "      <td>5.199538</td>\n",
       "      <td>5.200261</td>\n",
       "      <td>3</td>\n",
       "    </tr>\n",
       "    <tr>\n",
       "      <th>3</th>\n",
       "      <td>3297.790652</td>\n",
       "      <td>0.000100</td>\n",
       "      <td>5.235123</td>\n",
       "      <td>3.435690</td>\n",
       "      <td>3.435735</td>\n",
       "      <td>4</td>\n",
       "    </tr>\n",
       "    <tr>\n",
       "      <th>4</th>\n",
       "      <td>4067.463570</td>\n",
       "      <td>0.000100</td>\n",
       "      <td>4.596150</td>\n",
       "      <td>3.730829</td>\n",
       "      <td>3.731346</td>\n",
       "      <td>5</td>\n",
       "    </tr>\n",
       "    <tr>\n",
       "      <th>...</th>\n",
       "      <td>...</td>\n",
       "      <td>...</td>\n",
       "      <td>...</td>\n",
       "      <td>...</td>\n",
       "      <td>...</td>\n",
       "      <td>...</td>\n",
       "    </tr>\n",
       "    <tr>\n",
       "      <th>495</th>\n",
       "      <td>381851.528622</td>\n",
       "      <td>0.000003</td>\n",
       "      <td>0.099040</td>\n",
       "      <td>0.257387</td>\n",
       "      <td>0.257430</td>\n",
       "      <td>496</td>\n",
       "    </tr>\n",
       "    <tr>\n",
       "      <th>496</th>\n",
       "      <td>382620.280214</td>\n",
       "      <td>0.000003</td>\n",
       "      <td>0.098934</td>\n",
       "      <td>0.243944</td>\n",
       "      <td>0.243988</td>\n",
       "      <td>497</td>\n",
       "    </tr>\n",
       "    <tr>\n",
       "      <th>497</th>\n",
       "      <td>383385.203482</td>\n",
       "      <td>0.000003</td>\n",
       "      <td>0.098846</td>\n",
       "      <td>0.238127</td>\n",
       "      <td>0.238172</td>\n",
       "      <td>498</td>\n",
       "    </tr>\n",
       "    <tr>\n",
       "      <th>498</th>\n",
       "      <td>384157.276111</td>\n",
       "      <td>0.000003</td>\n",
       "      <td>0.098954</td>\n",
       "      <td>0.251974</td>\n",
       "      <td>0.252017</td>\n",
       "      <td>499</td>\n",
       "    </tr>\n",
       "    <tr>\n",
       "      <th>499</th>\n",
       "      <td>384932.189884</td>\n",
       "      <td>0.000003</td>\n",
       "      <td>0.098760</td>\n",
       "      <td>0.236271</td>\n",
       "      <td>0.236316</td>\n",
       "      <td>500</td>\n",
       "    </tr>\n",
       "  </tbody>\n",
       "</table>\n",
       "<p>500 rows × 6 columns</p>\n",
       "</div>"
      ],
      "text/plain": [
       "              Time  Learning Rate  Training Loss  Validation Loss  MAE_energy  \\\n",
       "0       977.477456       0.000100      22.182571         5.324299    5.325535   \n",
       "1      1754.361884       0.000100       8.263110         7.888897    7.887667   \n",
       "2      2525.960714       0.000100       6.168878         5.199538    5.200261   \n",
       "3      3297.790652       0.000100       5.235123         3.435690    3.435735   \n",
       "4      4067.463570       0.000100       4.596150         3.730829    3.731346   \n",
       "..             ...            ...            ...              ...         ...   \n",
       "495  381851.528622       0.000003       0.099040         0.257387    0.257430   \n",
       "496  382620.280214       0.000003       0.098934         0.243944    0.243988   \n",
       "497  383385.203482       0.000003       0.098846         0.238127    0.238172   \n",
       "498  384157.276111       0.000003       0.098954         0.251974    0.252017   \n",
       "499  384932.189884       0.000003       0.098760         0.236271    0.236316   \n",
       "\n",
       "     Epoch  \n",
       "0        1  \n",
       "1        2  \n",
       "2        3  \n",
       "3        4  \n",
       "4        5  \n",
       "..     ...  \n",
       "495    496  \n",
       "496    497  \n",
       "497    498  \n",
       "498    499  \n",
       "499    500  \n",
       "\n",
       "[500 rows x 6 columns]"
      ]
     },
     "execution_count": 23,
     "metadata": {},
     "output_type": "execute_result"
    }
   ],
   "source": [
    "import seaborn as sns\n",
    "import pandas as pd\n",
    "from sklearn.metrics import mean_absolute_error, r2_score, root_mean_squared_error\n",
    "\n",
    "log = pd.read_csv(\"sandbox/log.csv\")\n",
    "log[\"Epoch\"] = log.index + 1\n",
    "log.columns = [\n",
    "    \"Time\",\n",
    "    \"Learning Rate\",\n",
    "    \"Training Loss\",\n",
    "    \"Validation Loss\",\n",
    "    \"MAE_energy\",\n",
    "    \"Epoch\",\n",
    "]\n",
    "log"
   ]
  },
  {
   "cell_type": "code",
   "execution_count": 50,
   "metadata": {},
   "outputs": [
    {
     "data": {
      "image/png": "[encoded data removed]",
      "text/plain": [
       "<Figure size 600x400 with 1 Axes>"
      ]
     },
     "metadata": {},
     "output_type": "display_data"
    }
   ],
   "source": [
    "with sns.axes_style(\"ticks\"):\n",
    "    g = sns.lineplot(data=log, x=\"Epoch\", y=\"Training Loss\")\n",
    "    g.set_yscale(\"log\")\n",
    "g.figure.set_size_inches(6, 4)\n",
    "g.figure.savefig(\"img/loss.svg\", bbox_inches=\"tight\")"
   ]
  },
  {
   "cell_type": "code",
   "execution_count": 51,
   "metadata": {},
   "outputs": [
    {
     "data": {
      "image/png": "[encoded data removed]",
      "text/plain": [
       "<Figure size 600x400 with 1 Axes>"
      ]
     },
     "metadata": {},
     "output_type": "display_data"
    }
   ],
   "source": [
    "with sns.axes_style(\"ticks\"):\n",
    "    g = sns.lineplot(data=log, x=\"Epoch\", y=\"Learning Rate\")\n",
    "    g.set_yscale(\"log\")\n",
    "g.figure.set_size_inches(6, 4)\n",
    "g.figure.savefig(\"img/learning_rate.svg\", bbox_inches=\"tight\")"
   ]
  },
  {
   "cell_type": "code",
   "execution_count": 11,
   "metadata": {},
   "outputs": [
    {
     "name": "stderr",
     "output_type": "stream",
     "text": [
      "/home/tmj/miniconda3/envs/qm9q/lib/python3.10/site-packages/dig/threedgraph/utils/geometric_computing.py:47: UserWarning: Using torch.cross without specifying the dim arg is deprecated.\n",
      "Please either pass the dim explicitly or simply use torch.linalg.cross.\n",
      "The default value of dim will change to agree with that of linalg.cross in a future release. (Triggered internally at ../aten/src/ATen/native/Cross.cpp:62.)\n",
      "  b = torch.cross(pos_ji, pos_jk).norm(dim=-1) # sin_angle * |pos_ji| * |pos_jk|\n"
     ]
    }
   ],
   "source": [
    "preds = []\n",
    "observed_values = []\n",
    "for batch in test_loader:\n",
    "    observed_values.append(batch.energy.detach_().cpu().double())\n",
    "    batch = batch.to(device)\n",
    "    out_res = model(batch)\n",
    "    out = out_res[\"energy\"].detach_().cpu().double()\n",
    "    preds.append(out)"
   ]
  },
  {
   "cell_type": "code",
   "execution_count": 48,
   "metadata": {},
   "outputs": [],
   "source": [
    "pred_value = torch.concat(preds).flatten()\n",
    "calc_value = torch.concat(observed_values)\n",
    "result_df = pd.DataFrame(\n",
    "    {\n",
    "        \"Formation Energy$_{calc}$($\\\\times10^3$ kcal/mol)\": calc_value / 1e3,\n",
    "        \"Formation Energy$_{pred}$($\\\\times10^3$ kcal/mol)\": pred_value / 1e3,\n",
    "    }\n",
    ")\n",
    "result_df[\"Residual Distribution of Formation Energy (kcal/mol)\"] = (\n",
    "    pred_value - calc_value\n",
    ")"
   ]
  },
  {
   "cell_type": "code",
   "execution_count": 60,
   "metadata": {},
   "outputs": [
    {
     "data": {
      "image/png": "[encoded data removed]",
      "text/plain": [
       "<Figure size 600x400 with 1 Axes>"
      ]
     },
     "metadata": {},
     "output_type": "display_data"
    }
   ],
   "source": [
    "with sns.axes_style(\"ticks\"):\n",
    "    g = sns.regplot(\n",
    "        data=result_df,\n",
    "        x=\"Formation Energy$_{calc}$($\\\\times10^3$ kcal/mol)\",\n",
    "        y=\"Formation Energy$_{pred}$($\\\\times10^3$ kcal/mol)\",\n",
    "        scatter_kws={\"alpha\": 0.2},\n",
    "    )\n",
    "    g.text(\n",
    "        0.1,\n",
    "        0.8,\n",
    "        f\"MAE = {mean_absolute_error(calc_value, pred_value):>8.3f} kcal/mol\\nRMSE = {root_mean_squared_error(calc_value, pred_value):>8.3f} kcal/mol\",\n",
    "        transform=g.transAxes,\n",
    "    )\n",
    "plt.ticklabel_format(style=\"sci\", axis=\"x\", scilimits=(0, 0), useMathText=True)\n",
    "plt.ticklabel_format(style=\"sci\", axis=\"y\", scilimits=(0, 0), useMathText=True)\n",
    "g.figure.set_size_inches(6, 4)\n",
    "g.figure.savefig(\"img/reg.svg\", bbox_inches=\"tight\")"
   ]
  },
  {
   "cell_type": "code",
   "execution_count": 53,
   "metadata": {},
   "outputs": [
    {
     "data": {
      "image/png": "[encoded data removed]",
      "text/plain": [
       "<Figure size 600x400 with 1 Axes>"
      ]
     },
     "metadata": {},
     "output_type": "display_data"
    }
   ],
   "source": [
    "with sns.axes_style(\"ticks\"):\n",
    "    g = sns.histplot(\n",
    "        data=result_df,\n",
    "        x=\"Residual Distribution of Formation Energy (kcal/mol)\",\n",
    "    )\n",
    "    g.set_xscale(\"symlog\")\n",
    "plt.ticklabel_format(style=\"sci\", axis=\"y\", scilimits=(0, 0), useMathText=True)\n",
    "g.figure.set_size_inches(6, 4)\n",
    "g.figure.savefig(\"img/resig.svg\", bbox_inches=\"tight\")"
   ]
  },
  {
   "cell_type": "markdown",
   "metadata": {},
   "source": []
  }
 ],
 "metadata": {
  "kernelspec": {
   "display_name": "qm9q",
   "language": "python",
   "name": "python3"
  },
  "language_info": {
   "codemirror_mode": {
    "name": "ipython",
    "version": 3
   },
   "file_extension": ".py",
   "mimetype": "text/x-python",
   "name": "python",
   "nbconvert_exporter": "python",
   "pygments_lexer": "ipython3",
   "version": "3.1.-1"
  }
 },
 "nbformat": 4,
 "nbformat_minor": 2
}
