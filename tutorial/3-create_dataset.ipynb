{
 "cells": [
  {
   "cell_type": "markdown",
   "metadata": {},
   "source": [
    "# Create Datasets"
   ]
  },
  {
   "cell_type": "markdown",
   "metadata": {},
   "source": [
    "We have written several pre-made datasets based on [PyG's dataset specifications](https://pytorch-geometric.readthedocs.io/en/latest/tutorial/create_dataset.html) and provide easy ways to help you build the subsets of data you need!"
   ]
  },
  {
   "cell_type": "code",
   "execution_count": 1,
   "metadata": {},
   "outputs": [],
   "source": [
    "from qm9star_query.dataset.base_dataset import BaseQM9starDataset, transform_data\n",
    "from qm9star_query.dataset.sub_datasets import (\n",
    "    NeutralQM9starDataset,\n",
    "    CationQM9starDataset,\n",
    "    AnionQM9starDataset,\n",
    "    RadicalQM9starDataset,\n",
    ")"
   ]
  },
  {
   "cell_type": "markdown",
   "metadata": {},
   "source": [
    "As with several of the dataset classes imported above, the `BaseQM9starDataset` class is a base class that is not recommended to be used directly. Instead, you should use one of the subclasses that are defined in the `qm9star_query.dataset.sub_datasets` module, or create your own subclass of `BaseQM9starDataset`.\n",
    "\n",
    "If you are using these dataset classes for the first time, you must specify the PostgreSQL database instance to which you need to connect in the initialisation. How to deploy it is described in the [download_and_deploy_qm9star](1-download_and_deploy_qm9star.md).\n",
    "\n",
    "After executing the following code, a subset of the specified range will be downloaded from the QM9star database and cached in npz format. The dataset will then execute the `process` method to transform each piece of data into a tensor based on the `transform` function passed in.You can replace the `transform` function as per your requirement."
   ]
  },
  {
   "cell_type": "code",
   "execution_count": 2,
   "metadata": {},
   "outputs": [],
   "source": [
    "neutral_dataset = NeutralQM9starDataset(\n",
    "    user=\"hxchem\",\n",
    "    password=\"hxchem\",\n",
    "    server=\"127.0.0.1\",\n",
    "    port=35432,\n",
    "    db=\"qm9star\",\n",
    "    dataset_name=\"qm9star_neutral\",\n",
    "    block_num=5,\n",
    "    log=True,\n",
    "    transform=transform_data,\n",
    ")"
   ]
  },
  {
   "cell_type": "code",
   "execution_count": 3,
   "metadata": {},
   "outputs": [
    {
     "data": {
      "text/plain": [
       "Data(y=[1], pos=[15, 3], z=[15], energy=[1], energy_grad=[15, 3], formal_charges=[15], formal_num_radicals=[15], bonds=[15, 3])"
      ]
     },
     "execution_count": 3,
     "metadata": {},
     "output_type": "execute_result"
    }
   ],
   "source": [
    "neutral_dataset[0]"
   ]
  },
  {
   "cell_type": "code",
   "execution_count": 5,
   "metadata": {},
   "outputs": [
    {
     "data": {
      "image/png": "[encoded data removed]",
      "text/plain": [
       "<rdkit.Chem.rdchem.Mol at 0x7f85b05da0a0>"
      ]
     },
     "execution_count": 5,
     "metadata": {},
     "output_type": "execute_result"
    }
   ],
   "source": [
    "neutral_dataset.get_rdmol(100000)"
   ]
  },
  {
   "cell_type": "code",
   "execution_count": null,
   "metadata": {},
   "outputs": [],
   "source": []
  }
 ],
 "metadata": {
  "kernelspec": {
   "display_name": "qm9q",
   "language": "python",
   "name": "python3"
  },
  "language_info": {
   "codemirror_mode": {
    "name": "ipython",
    "version": 3
   },
   "file_extension": ".py",
   "mimetype": "text/x-python",
   "name": "python",
   "nbconvert_exporter": "python",
   "pygments_lexer": "ipython3",
   "version": "3.10.14"
  }
 },
 "nbformat": 4,
 "nbformat_minor": 2
}
