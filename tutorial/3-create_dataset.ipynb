{
 "cells": [
  {
   "cell_type": "markdown",
   "metadata": {},
   "source": [
    "# Create Datasets"
   ]
  },
  {
   "cell_type": "markdown",
   "metadata": {},
   "source": [
    "We have written several pre-made datasets based on [PyG's dataset specifications](https://pytorch-geometric.readthedocs.io/en/latest/tutorial/create_dataset.html) and provide easy ways to help you build the subsets of data you need!"
   ]
  },
  {
   "cell_type": "code",
   "execution_count": 1,
   "metadata": {},
   "outputs": [],
   "source": [
    "from qm9star_query.dataset.base_dataset import BaseQM9starDataset\n",
    "from qm9star_query.dataset.sub_datasets import (\n",
    "    NeutralQM9starDataset,\n",
    "    CationQM9starDataset,\n",
    "    AnionQM9starDataset,\n",
    "    RadicalQM9starDataset,\n",
    ")\n",
    "\n",
    "from torch_geometric.data import Data\n",
    "import torch\n",
    "\n",
    "\n",
    "def transform_data(raw_data):\n",
    "    return Data(\n",
    "        pos=torch.tensor(raw_data[\"coords\"], dtype=torch.float32),\n",
    "        z=torch.tensor(raw_data[\"atoms\"], dtype=torch.int64),\n",
    "        energy=torch.tensor(\n",
    "            raw_data[\"single_point_energy\"], dtype=torch.float32),\n",
    "        y=torch.tensor(raw_data[\"single_point_energy\"], dtype=torch.float32),\n",
    "        energy_grad=-torch.tensor(raw_data[\"forces\"], dtype=torch.float32),\n",
    "        formal_charges=torch.tensor(\n",
    "            raw_data[\"formal_charges\"], dtype=torch.int64),\n",
    "        formal_num_radicals=torch.tensor(\n",
    "            raw_data[\"formal_num_radicals\"], dtype=torch.int64\n",
    "        ),\n",
    "        bonds=torch.tensor(raw_data[\"bonds\"], dtype=torch.int64),\n",
    "        mulliken_charge=torch.tensor(\n",
    "            raw_data[\"mulliken_charge\"], dtype=torch.float32),\n",
    "        spin_densities=torch.tensor(\n",
    "            raw_data[\"spin_densities\"], dtype=torch.float32),\n",
    "        zpve=torch.tensor(raw_data[\"zpve\"], dtype=torch.float32),\n",
    "        energy_correction=torch.tensor(\n",
    "            raw_data[\"energy_correction\"], dtype=torch.float32\n",
    "        ),\n",
    "        enthalpy_correction=torch.tensor(\n",
    "            raw_data[\"enthalpy_correction\"], dtype=torch.float32\n",
    "        ),\n",
    "        gibbs_free_energy_correction=torch.tensor(\n",
    "            raw_data[\"gibbs_free_energy_correction\"], dtype=torch.float32\n",
    "        ),\n",
    "        U_0=torch.tensor(raw_data[\"U_0\"], dtype=torch.float32),\n",
    "        U_T=torch.tensor(raw_data[\"U_T\"], dtype=torch.float32),\n",
    "        H_T=torch.tensor(raw_data[\"H_T\"], dtype=torch.float32),\n",
    "        G_T=torch.tensor(raw_data[\"G_T\"], dtype=torch.float32),\n",
    "        S=torch.tensor(raw_data[\"S\"], dtype=torch.float32),\n",
    "        Cv=torch.tensor(raw_data[\"Cv\"], dtype=torch.float32),\n",
    "        rotation_consts=torch.tensor(\n",
    "            raw_data[\"rotation_consts\"], dtype=torch.float32),\n",
    "        isotropic_polarizability=torch.tensor(\n",
    "            raw_data[\"isotropic_polarizability\"], dtype=torch.float32\n",
    "        ),\n",
    "        electronic_spatial_extent=torch.tensor(\n",
    "            raw_data[\"electronic_spatial_extent\"], dtype=torch.float32\n",
    "        ),\n",
    "        alpha_homo=torch.tensor(raw_data[\"alpha_homo\"], dtype=torch.float32),\n",
    "        alpha_lumo=torch.tensor(raw_data[\"alpha_lumo\"], dtype=torch.float32),\n",
    "        alpha_gap=torch.tensor(raw_data[\"alpha_gap\"], dtype=torch.float32),\n",
    "    )"
   ]
  },
  {
   "cell_type": "markdown",
   "metadata": {},
   "source": [
    "As with several of the dataset classes imported above, the `BaseQM9starDataset` class is a base class that is not recommended to be used directly. Instead, you should use one of the subclasses that are defined in the `qm9star_query.dataset.sub_datasets` module, or create your own subclass of `BaseQM9starDataset`.\n",
    "\n",
    "If you are using these dataset classes for the first time, you must specify the PostgreSQL database instance to which you need to connect in the initialisation. How to deploy it is described in the [download_and_deploy_qm9star](1-download_and_deploy_qm9star.md).\n",
    "\n",
    "After executing the following code, a subset of the specified range will be downloaded from the QM9star database and cached in npz format. The dataset will then execute the `process` method to transform each piece of data into a tensor based on the `transform` function passed in.You can replace the `transform` function as per your requirement."
   ]
  },
  {
   "cell_type": "code",
   "execution_count": 2,
   "metadata": {},
   "outputs": [],
   "source": [
    "neutral_dataset = NeutralQM9starDataset(\n",
    "    user=\"hxchem\",\n",
    "    password=\"hxchem\",\n",
    "    server=\"127.0.0.1\",\n",
    "    port=35432,\n",
    "    db=\"qm9star\",\n",
    "    dataset_name=\"qm9star_neutral\",\n",
    "    block_num=5,\n",
    "    log=True,\n",
    "    transform=transform_data,\n",
    ")"
   ]
  },
  {
   "cell_type": "code",
   "execution_count": 6,
   "metadata": {},
   "outputs": [
    {
     "name": "stdout",
     "output_type": "stream",
     "text": [
      "tensor([ 0,  0,  0,  0,  0,  0,  0,  0,  0,  0,  0,  0,  0,  1,  1,  1,  1,  1,\n",
      "         1,  1,  1,  1,  1,  1,  1,  1,  1,  1,  1,  2,  2,  2,  2,  2,  2,  2,\n",
      "         2,  2,  2,  2,  2,  2,  2,  2,  2,  2,  3,  3,  3,  3,  3,  3,  3,  3,\n",
      "         3,  3,  3,  3,  4,  4,  4,  4,  4,  4,  4,  4,  4,  4,  4,  4,  4,  4,\n",
      "         4,  4,  4,  4,  5,  5,  5,  5,  5,  5,  5,  5,  5,  5,  5,  5,  5,  5,\n",
      "         5,  5,  5,  5,  5,  5,  5,  5,  5,  6,  6,  6,  6,  6,  6,  6,  6,  6,\n",
      "         6,  6,  6,  6,  6,  6,  6,  6,  6,  6,  6,  6,  6,  6,  7,  7,  7,  7,\n",
      "         7,  7,  7,  7,  7,  7,  7,  7,  7,  7,  7,  7,  7,  7,  7,  7,  7,  8,\n",
      "         8,  8,  8,  8,  8,  8,  8,  8,  8,  8,  8,  8,  8,  8,  9,  9,  9,  9,\n",
      "         9,  9,  9,  9,  9,  9,  9,  9,  9,  9,  9,  9,  9,  9, 10, 10, 10, 10,\n",
      "        10, 10, 10, 10, 10, 10, 10, 10, 10, 10, 10, 10, 10, 10, 10, 11, 11, 11,\n",
      "        11, 11, 11, 11, 11, 11, 11, 11, 11, 11, 11, 11, 11, 12, 12, 12, 12, 12,\n",
      "        12, 12, 12, 12, 12, 12, 12, 12, 12, 12, 12, 13, 13, 13, 13, 13, 13, 13,\n",
      "        13, 13, 13, 13, 13, 13, 13, 13, 14, 14, 14, 14, 14, 14, 14, 14, 14, 14,\n",
      "        14, 14, 14, 14, 14, 14, 14, 14, 15, 15, 15, 15, 15, 15, 15, 15, 15, 15,\n",
      "        15, 16, 16, 16, 16, 16, 16, 16, 16, 16, 16, 16, 16, 16, 16, 16, 16, 16,\n",
      "        16, 16, 16, 17, 17, 17, 17, 17, 17, 17, 17, 17, 17, 17, 17, 17, 17, 18,\n",
      "        18, 18, 18, 18, 18, 18, 18, 18, 18, 18, 18, 18, 18, 18, 18, 18, 19, 19,\n",
      "        19, 19, 19, 19, 19, 19, 19, 19, 19, 19, 19, 19, 19, 20, 20, 20, 20, 20,\n",
      "        20, 20, 20, 20, 20, 20, 20, 20, 20, 20, 20, 21, 21, 21, 21, 21, 21, 21,\n",
      "        21, 21, 21, 21, 21, 21, 21, 21, 22, 22, 22, 22, 22, 22, 22, 22, 22, 22,\n",
      "        22, 22, 22, 22, 23, 23, 23, 23, 23, 23, 23, 23, 23, 23, 23, 23, 23, 23,\n",
      "        23, 23, 23, 23, 24, 24, 24, 24, 24, 24, 24, 24, 24, 24, 24, 24, 24, 24,\n",
      "        24, 24, 24, 24, 24, 24, 25, 25, 25, 25, 25, 25, 25, 25, 25, 25, 25, 25,\n",
      "        25, 25, 25, 25, 25, 25, 25, 25, 26, 26, 26, 26, 26, 26, 26, 26, 26, 26,\n",
      "        26, 26, 26, 26, 26, 26, 27, 27, 27, 27, 27, 27, 27, 27, 27, 27, 27, 27,\n",
      "        27, 27, 27, 27, 27, 27, 27, 27, 27, 27, 28, 28, 28, 28, 28, 28, 28, 28,\n",
      "        28, 28, 28, 28, 28, 28, 28, 28, 29, 29, 29, 29, 29, 29, 29, 29, 29, 29,\n",
      "        29, 29, 29, 29, 29, 29, 29, 29, 29, 29, 29, 30, 30, 30, 30, 30, 30, 30,\n",
      "        30, 30, 30, 30, 30, 30, 30, 30, 30, 30, 30, 30, 30, 30, 30, 30, 30, 31,\n",
      "        31, 31, 31, 31, 31, 31, 31, 31, 31, 31, 31, 31, 31, 31, 31, 31])\n"
     ]
    }
   ],
   "source": [
    "from torch_geometric.loader import DataLoader\n",
    "\n",
    "train_loader = DataLoader(\n",
    "    neutral_dataset, batch_size=32, shuffle=True, num_workers=0, follow_batch=[\"nxyz\"]\n",
    ")\n",
    "for batch in train_loader:\n",
    "    print(batch[\"batch\"])\n",
    "    break"
   ]
  },
  {
   "cell_type": "code",
   "execution_count": 5,
   "metadata": {},
   "outputs": [
    {
     "name": "stderr",
     "output_type": "stream",
     "text": [
      "Downloading data qm9star_cation chunk 00: 100%|██████████| 87587/87587 [02:22<00:00, 613.32it/s]\n"
     ]
    },
    {
     "name": "stdout",
     "output_type": "stream",
     "text": [
      "./raw/qm9star_cation_chunk00.npz saved\n"
     ]
    },
    {
     "name": "stderr",
     "output_type": "stream",
     "text": [
      "Downloading data qm9star_cation chunk 01: 100%|██████████| 87587/87587 [02:28<00:00, 589.26it/s]\n"
     ]
    },
    {
     "name": "stdout",
     "output_type": "stream",
     "text": [
      "./raw/qm9star_cation_chunk01.npz saved\n"
     ]
    },
    {
     "name": "stderr",
     "output_type": "stream",
     "text": [
      "Downloading data qm9star_cation chunk 02: 100%|██████████| 87587/87587 [02:22<00:00, 615.25it/s]\n"
     ]
    },
    {
     "name": "stdout",
     "output_type": "stream",
     "text": [
      "./raw/qm9star_cation_chunk02.npz saved\n"
     ]
    },
    {
     "name": "stderr",
     "output_type": "stream",
     "text": [
      "Downloading data qm9star_cation chunk 03: 100%|██████████| 87587/87587 [02:17<00:00, 637.70it/s]\n"
     ]
    },
    {
     "name": "stdout",
     "output_type": "stream",
     "text": [
      "./raw/qm9star_cation_chunk03.npz saved\n"
     ]
    },
    {
     "name": "stderr",
     "output_type": "stream",
     "text": [
      "Downloading data qm9star_cation chunk 04: 100%|██████████| 87587/87587 [01:55<00:00, 756.59it/s]\n"
     ]
    },
    {
     "name": "stdout",
     "output_type": "stream",
     "text": [
      "./raw/qm9star_cation_chunk04.npz saved\n",
      "processing ./processed/qm9star_cation_chunk00_processed.pt\n"
     ]
    },
    {
     "name": "stderr",
     "output_type": "stream",
     "text": [
      "Processing...\n"
     ]
    },
    {
     "name": "stdout",
     "output_type": "stream",
     "text": [
      "./processed/qm9star_cation_chunk00_processed.pt saved\n",
      "processing ./processed/qm9star_cation_chunk01_processed.pt\n",
      "./processed/qm9star_cation_chunk01_processed.pt saved\n",
      "processing ./processed/qm9star_cation_chunk02_processed.pt\n",
      "./processed/qm9star_cation_chunk02_processed.pt saved\n",
      "processing ./processed/qm9star_cation_chunk03_processed.pt\n",
      "./processed/qm9star_cation_chunk03_processed.pt saved\n",
      "processing ./processed/qm9star_cation_chunk04_processed.pt\n",
      "./processed/qm9star_cation_chunk04_processed.pt saved\n"
     ]
    },
    {
     "name": "stderr",
     "output_type": "stream",
     "text": [
      "Done!\n"
     ]
    }
   ],
   "source": [
    "cation_dataset = CationQM9starDataset(\n",
    "    user=\"hxchem\",\n",
    "    password=\"hxchem\",\n",
    "    server=\"127.0.0.1\",\n",
    "    port=35432,\n",
    "    db=\"qm9star\",\n",
    "    dataset_name=\"qm9star_cation\",\n",
    "    block_num=5,\n",
    "    log=True,\n",
    "    transform=transform_data,\n",
    ")"
   ]
  },
  {
   "cell_type": "code",
   "execution_count": 6,
   "metadata": {},
   "outputs": [
    {
     "name": "stderr",
     "output_type": "stream",
     "text": [
      "Downloading data qm9star_anion chunk 00: 100%|██████████| 144424/144424 [04:01<00:00, 598.61it/s]\n"
     ]
    },
    {
     "name": "stdout",
     "output_type": "stream",
     "text": [
      "./raw/qm9star_anion_chunk00.npz saved\n"
     ]
    },
    {
     "name": "stderr",
     "output_type": "stream",
     "text": [
      "Downloading data qm9star_anion chunk 01: 100%|██████████| 144424/144424 [03:51<00:00, 623.28it/s]\n"
     ]
    },
    {
     "name": "stdout",
     "output_type": "stream",
     "text": [
      "./raw/qm9star_anion_chunk01.npz saved\n"
     ]
    },
    {
     "name": "stderr",
     "output_type": "stream",
     "text": [
      "Downloading data qm9star_anion chunk 02: 100%|██████████| 144424/144424 [04:34<00:00, 525.85it/s]\n"
     ]
    },
    {
     "name": "stdout",
     "output_type": "stream",
     "text": [
      "./raw/qm9star_anion_chunk02.npz saved\n"
     ]
    },
    {
     "name": "stderr",
     "output_type": "stream",
     "text": [
      "Downloading data qm9star_anion chunk 03: 100%|██████████| 144424/144424 [04:32<00:00, 529.49it/s]\n"
     ]
    },
    {
     "name": "stdout",
     "output_type": "stream",
     "text": [
      "./raw/qm9star_anion_chunk03.npz saved\n"
     ]
    },
    {
     "name": "stderr",
     "output_type": "stream",
     "text": [
      "Downloading data qm9star_anion chunk 04: 100%|██████████| 144423/144423 [04:25<00:00, 544.63it/s]\n"
     ]
    },
    {
     "name": "stdout",
     "output_type": "stream",
     "text": [
      "./raw/qm9star_anion_chunk04.npz saved\n",
      "processing ./processed/qm9star_anion_chunk00_processed.pt\n"
     ]
    },
    {
     "name": "stderr",
     "output_type": "stream",
     "text": [
      "Processing...\n"
     ]
    },
    {
     "name": "stdout",
     "output_type": "stream",
     "text": [
      "./processed/qm9star_anion_chunk00_processed.pt saved\n",
      "processing ./processed/qm9star_anion_chunk01_processed.pt\n",
      "./processed/qm9star_anion_chunk01_processed.pt saved\n",
      "processing ./processed/qm9star_anion_chunk02_processed.pt\n",
      "./processed/qm9star_anion_chunk02_processed.pt saved\n",
      "processing ./processed/qm9star_anion_chunk03_processed.pt\n",
      "./processed/qm9star_anion_chunk03_processed.pt saved\n",
      "processing ./processed/qm9star_anion_chunk04_processed.pt\n",
      "./processed/qm9star_anion_chunk04_processed.pt saved\n"
     ]
    },
    {
     "name": "stderr",
     "output_type": "stream",
     "text": [
      "Done!\n"
     ]
    }
   ],
   "source": [
    "anion_dataset = AnionQM9starDataset(\n",
    "    user=\"hxchem\",\n",
    "    password=\"hxchem\",\n",
    "    server=\"127.0.0.1\",\n",
    "    port=35432,\n",
    "    db=\"qm9star\",\n",
    "    dataset_name=\"qm9star_anion\",\n",
    "    block_num=5,\n",
    "    log=True,\n",
    "    transform=transform_data,\n",
    ")"
   ]
  },
  {
   "cell_type": "code",
   "execution_count": 7,
   "metadata": {},
   "outputs": [
    {
     "name": "stderr",
     "output_type": "stream",
     "text": [
      "Downloading data qm9star_radical chunk 00: 100%|██████████| 146321/146321 [04:51<00:00, 502.51it/s]\n"
     ]
    },
    {
     "name": "stdout",
     "output_type": "stream",
     "text": [
      "./raw/qm9star_radical_chunk00.npz saved\n"
     ]
    },
    {
     "name": "stderr",
     "output_type": "stream",
     "text": [
      "Downloading data qm9star_radical chunk 01: 100%|██████████| 146321/146321 [04:14<00:00, 574.89it/s]\n"
     ]
    },
    {
     "name": "stdout",
     "output_type": "stream",
     "text": [
      "./raw/qm9star_radical_chunk01.npz saved\n"
     ]
    },
    {
     "name": "stderr",
     "output_type": "stream",
     "text": [
      "Downloading data qm9star_radical chunk 02: 100%|██████████| 146321/146321 [04:13<00:00, 577.51it/s]\n"
     ]
    },
    {
     "name": "stdout",
     "output_type": "stream",
     "text": [
      "./raw/qm9star_radical_chunk02.npz saved\n"
     ]
    },
    {
     "name": "stderr",
     "output_type": "stream",
     "text": [
      "Downloading data qm9star_radical chunk 03: 100%|██████████| 146321/146321 [04:11<00:00, 582.18it/s]\n"
     ]
    },
    {
     "name": "stdout",
     "output_type": "stream",
     "text": [
      "./raw/qm9star_radical_chunk03.npz saved\n"
     ]
    },
    {
     "name": "stderr",
     "output_type": "stream",
     "text": [
      "Downloading data qm9star_radical chunk 04: 100%|██████████| 146321/146321 [04:12<00:00, 578.36it/s]\n"
     ]
    },
    {
     "name": "stdout",
     "output_type": "stream",
     "text": [
      "./raw/qm9star_radical_chunk04.npz saved\n",
      "processing ./processed/qm9star_radical_chunk00_processed.pt\n"
     ]
    },
    {
     "name": "stderr",
     "output_type": "stream",
     "text": [
      "Processing...\n"
     ]
    },
    {
     "name": "stdout",
     "output_type": "stream",
     "text": [
      "./processed/qm9star_radical_chunk00_processed.pt saved\n",
      "processing ./processed/qm9star_radical_chunk01_processed.pt\n",
      "./processed/qm9star_radical_chunk01_processed.pt saved\n",
      "processing ./processed/qm9star_radical_chunk02_processed.pt\n",
      "./processed/qm9star_radical_chunk02_processed.pt saved\n",
      "processing ./processed/qm9star_radical_chunk03_processed.pt\n",
      "./processed/qm9star_radical_chunk03_processed.pt saved\n",
      "processing ./processed/qm9star_radical_chunk04_processed.pt\n",
      "./processed/qm9star_radical_chunk04_processed.pt saved\n"
     ]
    },
    {
     "name": "stderr",
     "output_type": "stream",
     "text": [
      "Done!\n"
     ]
    }
   ],
   "source": [
    "radical_dataset = RadicalQM9starDataset(\n",
    "    user=\"hxchem\",\n",
    "    password=\"hxchem\",\n",
    "    server=\"127.0.0.1\",\n",
    "    port=35432,\n",
    "    db=\"qm9star\",\n",
    "    dataset_name=\"qm9star_radical\",\n",
    "    block_num=5,\n",
    "    log=True,\n",
    "    transform=transform_data,\n",
    ")"
   ]
  },
  {
   "cell_type": "code",
   "execution_count": 3,
   "metadata": {},
   "outputs": [
    {
     "data": {
      "text/plain": [
       "Data(y=[1], pos=[15, 3], z=[15], energy=[1], energy_grad=[15, 3], formal_charges=[15], formal_num_radicals=[15], bonds=[15, 3])"
      ]
     },
     "execution_count": 3,
     "metadata": {},
     "output_type": "execute_result"
    }
   ],
   "source": [
    "neutral_dataset[0]"
   ]
  },
  {
   "cell_type": "code",
   "execution_count": 5,
   "metadata": {},
   "outputs": [
    {
     "data": {
      "image/png": "[encoded data removed]",
      "text/plain": [
       "<rdkit.Chem.rdchem.Mol at 0x7f85b05da0a0>"
      ]
     },
     "execution_count": 5,
     "metadata": {},
     "output_type": "execute_result"
    }
   ],
   "source": [
    "neutral_dataset.get_rdmol(100000)"
   ]
  },
  {
   "cell_type": "code",
   "execution_count": 11,
   "metadata": {},
   "outputs": [],
   "source": [
    "total_dataset = BaseQM9starDataset(\n",
    "    user=\"hxchem\",\n",
    "    password=\"hxchem\",\n",
    "    server=\"127.0.0.1\",\n",
    "    port=35432,\n",
    "    db=\"qm9star\",\n",
    "    dataset_name=\"qm9star_all\",\n",
    "    block_num=5,\n",
    "    log=True,\n",
    "    transform=transform_data,\n",
    ")"
   ]
  },
  {
   "cell_type": "code",
   "execution_count": 4,
   "metadata": {},
   "outputs": [],
   "source": [
    "from sqlmodel import Session, col, create_engine, func, select\n",
    "\n",
    "from qm9star_query.models import Formula, Molecule, Snapshot\n",
    "\n",
    "scheme = \"postgresql+psycopg2\"\n",
    "POSTGRES_USER = \"hxchem\"\n",
    "POSTGRES_PASSWD = \"hxchem\"\n",
    "POSTGRES_SERVER = \"127.0.0.1\"\n",
    "POSTGRES_PORT = 35432\n",
    "POSTGRES_DB = \"qm9star\"\n",
    "\n",
    "engine = create_engine(\n",
    "    f\"{scheme}://{POSTGRES_USER}:{POSTGRES_PASSWD}@{POSTGRES_SERVER}:{POSTGRES_PORT}/{POSTGRES_DB}\"\n",
    ")\n",
    "session = Session(engine)"
   ]
  },
  {
   "cell_type": "code",
   "execution_count": 13,
   "metadata": {},
   "outputs": [],
   "source": [
    "snaps = session.exec(select(Snapshot).where(Snapshot.is_TS == True)).all()"
   ]
  },
  {
   "cell_type": "code",
   "execution_count": 15,
   "metadata": {},
   "outputs": [
    {
     "data": {
      "text/plain": [
       "1222"
      ]
     },
     "execution_count": 15,
     "metadata": {},
     "output_type": "execute_result"
    }
   ],
   "source": [
    "len(snaps)"
   ]
  },
  {
   "cell_type": "code",
   "execution_count": 8,
   "metadata": {},
   "outputs": [],
   "source": [
    "def delete_snapshot(\n",
    "    *,\n",
    "    session: Session,\n",
    "    snapshot_id: int,\n",
    ") -> Snapshot:\n",
    "    db_snapshot = session.get(Snapshot, snapshot_id)\n",
    "    db_molecule = session.get(Molecule, db_snapshot.molecule_id)\n",
    "    db_molecule.snapshot_ids = [\n",
    "        snapshot_id\n",
    "        for snapshot_id in db_molecule.snapshot_ids\n",
    "        if snapshot_id != snapshot_id\n",
    "    ]\n",
    "    db_molecule.snapshot_number = db_molecule.snapshot_number - 1\n",
    "    session.add(db_molecule)\n",
    "    session.delete(db_snapshot)\n",
    "    session.commit()\n",
    "    return Snapshot"
   ]
  },
  {
   "cell_type": "code",
   "execution_count": 16,
   "metadata": {},
   "outputs": [],
   "source": [
    "for snap in snaps:\n",
    "    delete_snapshot(session=session, snapshot_id=snap.id)"
   ]
  },
  {
   "cell_type": "code",
   "execution_count": 18,
   "metadata": {},
   "outputs": [
    {
     "data": {
      "text/plain": [
       "2011964"
      ]
     },
     "execution_count": 18,
     "metadata": {},
     "output_type": "execute_result"
    }
   ],
   "source": [
    "len(total_dataset)"
   ]
  },
  {
   "cell_type": "code",
   "execution_count": 22,
   "metadata": {},
   "outputs": [
    {
     "data": {
      "text/plain": [
       "tensor([-132.1043, -224.6220, -155.2765,  ..., -422.4995, -349.3400,\n",
       "        -400.1524])"
      ]
     },
     "execution_count": 22,
     "metadata": {},
     "output_type": "execute_result"
    }
   ],
   "source": [
    "total_dataset.U_T"
   ]
  },
  {
   "cell_type": "code",
   "execution_count": 21,
   "metadata": {},
   "outputs": [
    {
     "data": {
      "text/plain": [
       "tensor(-408.3981)"
      ]
     },
     "execution_count": 21,
     "metadata": {},
     "output_type": "execute_result"
    }
   ],
   "source": [
    "total_dataset.U_0.mean()"
   ]
  },
  {
   "cell_type": "code",
   "execution_count": 64,
   "metadata": {},
   "outputs": [],
   "source": [
    "import pandas as pd\n",
    "\n",
    "total_df = pd.DataFrame(\n",
    "    {\"energy(Hartree)\": total_dataset.energy, \"gap(Hartree)\": total_dataset.alpha_gap}\n",
    ")\n",
    "total_df[\"class\"] = \"total\"\n",
    "\n",
    "neutral_df = pd.DataFrame(\n",
    "    {\n",
    "        \"energy(Hartree)\": neutral_dataset.energy,\n",
    "        \"gap(Hartree)\": neutral_dataset.alpha_gap,\n",
    "    }\n",
    ")\n",
    "neutral_df[\"class\"] = \"neutral\"\n",
    "\n",
    "cation_df = pd.DataFrame(\n",
    "    {\"energy(Hartree)\": cation_dataset.energy, \"gap(Hartree)\": cation_dataset.alpha_gap}\n",
    ")\n",
    "cation_df[\"class\"] = \"cation\"\n",
    "\n",
    "anion_df = pd.DataFrame(\n",
    "    {\"energy(Hartree)\": anion_dataset.energy, \"gap(Hartree)\": anion_dataset.alpha_gap}\n",
    ")\n",
    "anion_df[\"class\"] = \"anion\"\n",
    "\n",
    "radical_df = pd.DataFrame(\n",
    "    {\n",
    "        \"energy(Hartree)\": radical_dataset.energy,\n",
    "        \"gap(Hartree)\": radical_dataset.alpha_gap,\n",
    "    }\n",
    ")\n",
    "radical_df[\"class\"] = \"radical\"\n",
    "\n",
    "df = pd.concat([neutral_df, cation_df, anion_df, radical_df]).reset_index(drop=True)"
   ]
  },
  {
   "cell_type": "code",
   "execution_count": 65,
   "metadata": {},
   "outputs": [
    {
     "data": {
      "text/html": [
       "<div>\n",
       "<style scoped>\n",
       "    .dataframe tbody tr th:only-of-type {\n",
       "        vertical-align: middle;\n",
       "    }\n",
       "\n",
       "    .dataframe tbody tr th {\n",
       "        vertical-align: top;\n",
       "    }\n",
       "\n",
       "    .dataframe thead th {\n",
       "        text-align: right;\n",
       "    }\n",
       "</style>\n",
       "<table border=\"1\" class=\"dataframe\">\n",
       "  <thead>\n",
       "    <tr style=\"text-align: right;\">\n",
       "      <th></th>\n",
       "      <th>energy(Hartree)</th>\n",
       "      <th>gap(Hartree)</th>\n",
       "      <th>class</th>\n",
       "    </tr>\n",
       "  </thead>\n",
       "  <tbody>\n",
       "    <tr>\n",
       "      <th>0</th>\n",
       "      <td>-454.149689</td>\n",
       "      <td>0.25996</td>\n",
       "      <td>neutral</td>\n",
       "    </tr>\n",
       "    <tr>\n",
       "      <th>1</th>\n",
       "      <td>-376.329956</td>\n",
       "      <td>0.19819</td>\n",
       "      <td>neutral</td>\n",
       "    </tr>\n",
       "    <tr>\n",
       "      <th>2</th>\n",
       "      <td>-339.636932</td>\n",
       "      <td>0.17901</td>\n",
       "      <td>neutral</td>\n",
       "    </tr>\n",
       "    <tr>\n",
       "      <th>3</th>\n",
       "      <td>-326.030396</td>\n",
       "      <td>0.28679</td>\n",
       "      <td>neutral</td>\n",
       "    </tr>\n",
       "    <tr>\n",
       "      <th>4</th>\n",
       "      <td>-340.830017</td>\n",
       "      <td>0.24059</td>\n",
       "      <td>neutral</td>\n",
       "    </tr>\n",
       "    <tr>\n",
       "      <th>...</th>\n",
       "      <td>...</td>\n",
       "      <td>...</td>\n",
       "      <td>...</td>\n",
       "    </tr>\n",
       "    <tr>\n",
       "      <th>2011959</th>\n",
       "      <td>-347.423676</td>\n",
       "      <td>0.10031</td>\n",
       "      <td>radical</td>\n",
       "    </tr>\n",
       "    <tr>\n",
       "      <th>2011960</th>\n",
       "      <td>-347.423096</td>\n",
       "      <td>0.10125</td>\n",
       "      <td>radical</td>\n",
       "    </tr>\n",
       "    <tr>\n",
       "      <th>2011961</th>\n",
       "      <td>-387.999390</td>\n",
       "      <td>0.04673</td>\n",
       "      <td>radical</td>\n",
       "    </tr>\n",
       "    <tr>\n",
       "      <th>2011962</th>\n",
       "      <td>-387.999390</td>\n",
       "      <td>0.04671</td>\n",
       "      <td>radical</td>\n",
       "    </tr>\n",
       "    <tr>\n",
       "      <th>2011963</th>\n",
       "      <td>-341.160706</td>\n",
       "      <td>0.05468</td>\n",
       "      <td>radical</td>\n",
       "    </tr>\n",
       "  </tbody>\n",
       "</table>\n",
       "<p>2011964 rows × 3 columns</p>\n",
       "</div>"
      ],
      "text/plain": [
       "         energy(Hartree)  gap(Hartree)    class\n",
       "0            -454.149689       0.25996  neutral\n",
       "1            -376.329956       0.19819  neutral\n",
       "2            -339.636932       0.17901  neutral\n",
       "3            -326.030396       0.28679  neutral\n",
       "4            -340.830017       0.24059  neutral\n",
       "...                  ...           ...      ...\n",
       "2011959      -347.423676       0.10031  radical\n",
       "2011960      -347.423096       0.10125  radical\n",
       "2011961      -387.999390       0.04673  radical\n",
       "2011962      -387.999390       0.04671  radical\n",
       "2011963      -341.160706       0.05468  radical\n",
       "\n",
       "[2011964 rows x 3 columns]"
      ]
     },
     "execution_count": 65,
     "metadata": {},
     "output_type": "execute_result"
    }
   ],
   "source": [
    "df"
   ]
  },
  {
   "cell_type": "code",
   "execution_count": 66,
   "metadata": {},
   "outputs": [],
   "source": [
    "import seaborn as sns\n",
    "from matplotlib import pyplot as plt"
   ]
  },
  {
   "cell_type": "code",
   "execution_count": 67,
   "metadata": {},
   "outputs": [
    {
     "data": {
      "image/png": "[encoded data removed]",
      "text/plain": [
       "<Figure size 1200x400 with 4 Axes>"
      ]
     },
     "metadata": {},
     "output_type": "display_data"
    }
   ],
   "source": [
    "sns.set_context({\"figure.figsize\": [20, 10]})\n",
    "g = sns.FacetGrid(df, col=\"class\", hue=\"class\", col_wrap=2)\n",
    "g = g.map(sns.histplot, \"energy(Hartree)\", bins=50, alpha=0.5)\n",
    "g.figure.set_size_inches(12, 4)"
   ]
  },
  {
   "cell_type": "code",
   "execution_count": 68,
   "metadata": {},
   "outputs": [
    {
     "data": {
      "image/png": "[encoded data removed]",
      "text/plain": [
       "<Figure size 1200x400 with 4 Axes>"
      ]
     },
     "metadata": {},
     "output_type": "display_data"
    }
   ],
   "source": [
    "g = sns.FacetGrid(df, col=\"class\", hue=\"class\", col_wrap=2)\n",
    "g = g.map(sns.histplot, \"gap(Hartree)\", bins=20, alpha=0.5)\n",
    "g.figure.set_size_inches(12, 4)"
   ]
  },
  {
   "cell_type": "code",
   "execution_count": null,
   "metadata": {},
   "outputs": [],
   "source": []
  }
 ],
 "metadata": {
  "kernelspec": {
   "display_name": "qm9q",
   "language": "python",
   "name": "python3"
  },
  "language_info": {
   "codemirror_mode": {
    "name": "ipython",
    "version": 3
   },
   "file_extension": ".py",
   "mimetype": "text/x-python",
   "name": "python",
   "nbconvert_exporter": "python",
   "pygments_lexer": "ipython3",
   "version": "3.10.14"
  }
 },
 "nbformat": 4,
 "nbformat_minor": 2
}
