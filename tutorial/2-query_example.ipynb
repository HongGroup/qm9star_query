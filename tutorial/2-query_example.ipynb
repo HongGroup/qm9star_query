{
 "cells": [
  {
   "cell_type": "markdown",
   "metadata": {},
   "source": [
    "# qm9star database query examples"
   ]
  },
  {
   "cell_type": "code",
   "execution_count": 1,
   "metadata": {},
   "outputs": [],
   "source": [
    "from sqlmodel import Session, create_engine\n",
    "\n",
    "from qm9star_query.crud import formulas_crud, molecules_crud, snapshots_crud\n",
    "from qm9star_query.models.utils import *\n",
    "from qm9star_query.utils import recover_rdmol_from_snapshot"
   ]
  },
  {
   "cell_type": "markdown",
   "metadata": {},
   "source": [
    "## Connect to the database\n",
    "\n",
    "Change the variables below to fit your database setting"
   ]
  },
  {
   "cell_type": "code",
   "execution_count": 2,
   "metadata": {},
   "outputs": [],
   "source": [
    "scheme = \"postgresql+psycopg2\"\n",
    "POSTGRES_USER = \"hxchem\"\n",
    "POSTGRES_PASSWD = \"hxchem\"\n",
    "POSTGRES_SERVER = \"10.72.201.58\"\n",
    "POSTGRES_PORT = 25432\n",
    "POSTGRES_DB = \"qm9star\"\n",
    "\n",
    "engine = create_engine(\n",
    "    f\"{scheme}://{POSTGRES_USER}:{POSTGRES_PASSWD}@{POSTGRES_SERVER}:{POSTGRES_PORT}/{POSTGRES_DB}\"\n",
    ")\n",
    "session = Session(engine)"
   ]
  },
  {
   "cell_type": "markdown",
   "metadata": {},
   "source": [
    "## Query a Formula\n",
    "\n",
    "Formula in the qm9star database refers to the elemental composition of a molecule and stores a specific number of each atom, which can be used to query molecules of a specified elemental composition and molecular mass range"
   ]
  },
  {
   "cell_type": "markdown",
   "metadata": {},
   "source": [
    "### Get Formula count"
   ]
  },
  {
   "cell_type": "code",
   "execution_count": 3,
   "metadata": {},
   "outputs": [
    {
     "data": {
      "text/plain": [
       "ItemCount(count=1261)"
      ]
     },
     "execution_count": 3,
     "metadata": {},
     "output_type": "execute_result"
    }
   ],
   "source": [
    "formulas_crud.get_formula_count(session=session)"
   ]
  },
  {
   "cell_type": "markdown",
   "metadata": {},
   "source": [
    "### Get Formula by id"
   ]
  },
  {
   "cell_type": "code",
   "execution_count": 4,
   "metadata": {},
   "outputs": [
    {
     "data": {
      "text/plain": [
       "Formula(H=2, Zn=0, Eu=0, Pu=0, formula_string='H2C4N1O2', Ga=0, Gd=0, Am=0, He=0, Ge=0, Tb=0, Cm=0, Li=0, Se=0, Dy=0, Bk=0, Be=0, Br=0, Ho=0, Cf=0, B=0, Kr=0, Er=0, Es=0, C=4, Rb=0, Tm=0, Fm=0, N=1, Sr=0, Yb=0, Md=0, O=2, Y=0, Lu=0, No=0, F=0, Zr=0, Hf=0, Lr=0, Ne=0, Nb=0, Ta=0, Rf=0, Na=0, Mo=0, W=0, Db=0, Mg=0, Tc=0, Re=0, Sg=0, Al=0, Ru=0, Os=0, Bh=0, Si=0, Rh=0, Ir=0, Hs=0, P=0, Pd=0, Pt=0, Mt=0, S=0, Ag=0, Au=0, Ds=0, Cl=0, Cd=0, Hg=0, Rg=0, Ar=0, In=0, Tl=0, Cn=0, K=0, Sn=0, Pb=0, Nh=0, Ca=0, Sb=0, Bi=0, Fl=0, Sc=0, Te=0, Po=0, Mc=0, Ti=0, I=0, At=0, Lv=0, V=0, Xe=0, Rn=0, Ts=0, Cr=0, Cs=0, Fr=0, Og=0, As=0, Ba=0, Ra=0, atom_number=9, Mn=0, La=0, Ac=0, molwt=96.06499999999998, Fe=0, Ce=0, Th=0, id=100, Co=0, Pr=0, Pa=0, commit_time=datetime.datetime(2024, 4, 27, 22, 30, 43, 171626), Ni=0, Nd=0, U=0, update_time=datetime.datetime(2024, 4, 28, 18, 48, 6, 312714), Cu=0, Pm=0, Np=0, molecule_number=157, Sm=0, molecule_ids=[517, 518, 521, 1686, 1689, 1983, 1986, 2020, 2024, 2026, 2028, 2268, 2270, 2291, 2292, 2580, 2878, 2900, 2904, 3261, 3267, 3682, 3684, 3928, 3931, 4307, 4327, 5498, 5594, 5681, 5684, 5687, 5972, 5974, 8033, 8084, 8104, 8110, 8130, 8143, 8291, 8369, 8384, 9219, 9224, 9607, 10118, 10615, 10639, 10642, 11247, 12624, 13593, 13898, 13908, 18169, 499368, 499373, 499375, 600282, 611129, 611134, 611288, 611294, 611997, 612003, 612006, 622785, 622854, 623353, 625975, 625983, 625990, 626459, 626465, 666981, 666984, 667078, 669547, 834356, 834385, 834386, 834387, 850362, 850364, 850424, 850426, 894441, 894442, 894443, 894491, 894492, 894493, 894494, 894495, 894496, 894497, 894498, 894853, 894854, 894855, 894860, 894861, 894862, 894875, 894876, 894877, 895514, 895515, 896179, 896180, 896185, 896186, 896187, 896198, 896199, 896200, 896203, 896204, 896205, 897114, 897120, 897121, 898057, 898058, 898059, 898062, 898063, 898553, 898554, 899303, 899304, 899305, 901333, 901334, 901997, 901998, 902009, 902010, 902378, 902379, 902380, 903023, 903024, 906994, 907015, 907016, 907017, 907028, 907029, 907030, 907040, 907041, 907042, 907052, 907053, 907054])"
      ]
     },
     "execution_count": 4,
     "metadata": {},
     "output_type": "execute_result"
    }
   ],
   "source": [
    "formula = formulas_crud.get_formula_by_id(session=session, formula_id=100)\n",
    "formula"
   ]
  },
  {
   "cell_type": "markdown",
   "metadata": {},
   "source": [
    "### Get Formulas by conditions"
   ]
  },
  {
   "cell_type": "code",
   "execution_count": 5,
   "metadata": {},
   "outputs": [
    {
     "data": {
      "text/plain": [
       "[Formula(H=2, Zn=0, Eu=0, Pu=0, formula_string='H2C1N7', Ga=0, Gd=0, Am=0, He=0, Ge=0, Tb=0, Cm=0, Li=0, Se=0, Dy=0, Bk=0, Be=0, Br=0, Ho=0, Cf=0, B=0, Kr=0, Er=0, Es=0, C=1, Rb=0, Tm=0, Fm=0, N=7, Sr=0, Yb=0, Md=0, O=0, Y=0, Lu=0, No=0, F=0, Zr=0, Hf=0, Lr=0, Ne=0, Nb=0, Ta=0, Rf=0, Na=0, Mo=0, W=0, Db=0, Mg=0, Tc=0, Re=0, Sg=0, Al=0, Ru=0, Os=0, Bh=0, Si=0, Rh=0, Ir=0, Hs=0, P=0, Pd=0, Pt=0, Mt=0, S=0, Ag=0, Au=0, Ds=0, Cl=0, Cd=0, Hg=0, Rg=0, Ar=0, In=0, Tl=0, Cn=0, K=0, Sn=0, Pb=0, Nh=0, Ca=0, Sb=0, Bi=0, Fl=0, Sc=0, Te=0, Po=0, Mc=0, Ti=0, I=0, At=0, Lv=0, V=0, Xe=0, Rn=0, Ts=0, Cr=0, Cs=0, Fr=0, Og=0, As=0, Ba=0, Ra=0, atom_number=10, Mn=0, La=0, Ac=0, molwt=112.07600000000002, Fe=0, Ce=0, Th=0, id=548, Co=0, Pr=0, Pa=0, commit_time=datetime.datetime(2024, 4, 28, 12, 5, 32, 808612), Ni=0, Nd=0, U=0, update_time=datetime.datetime(2024, 4, 29, 9, 0, 57, 609479), Cu=0, Pm=0, Np=0, molecule_number=3, Sm=0, molecule_ids=[503737, 1497960, 1497967]),\n",
       " Formula(H=1, Zn=0, Eu=0, Pu=0, formula_string='H1C1N6O1', Ga=0, Gd=0, Am=0, He=0, Ge=0, Tb=0, Cm=0, Li=0, Se=0, Dy=0, Bk=0, Be=0, Br=0, Ho=0, Cf=0, B=0, Kr=0, Er=0, Es=0, C=1, Rb=0, Tm=0, Fm=0, N=6, Sr=0, Yb=0, Md=0, O=1, Y=0, Lu=0, No=0, F=0, Zr=0, Hf=0, Lr=0, Ne=0, Nb=0, Ta=0, Rf=0, Na=0, Mo=0, W=0, Db=0, Mg=0, Tc=0, Re=0, Sg=0, Al=0, Ru=0, Os=0, Bh=0, Si=0, Rh=0, Ir=0, Hs=0, P=0, Pd=0, Pt=0, Mt=0, S=0, Ag=0, Au=0, Ds=0, Cl=0, Cd=0, Hg=0, Rg=0, Ar=0, In=0, Tl=0, Cn=0, K=0, Sn=0, Pb=0, Nh=0, Ca=0, Sb=0, Bi=0, Fl=0, Sc=0, Te=0, Po=0, Mc=0, Ti=0, I=0, At=0, Lv=0, V=0, Xe=0, Rn=0, Ts=0, Cr=0, Cs=0, Fr=0, Og=0, As=0, Ba=0, Ra=0, atom_number=9, Mn=0, La=0, Ac=0, molwt=113.06000000000002, Fe=0, Ce=0, Th=0, id=569, Co=0, Pr=0, Pa=0, commit_time=datetime.datetime(2024, 4, 28, 12, 12, 11, 509201), Ni=0, Nd=0, U=0, update_time=datetime.datetime(2024, 4, 29, 8, 58, 3, 518736), Cu=0, Pm=0, Np=0, molecule_number=2, Sm=0, molecule_ids=[524876, 1493742]),\n",
       " Formula(H=0, Zn=0, Eu=0, Pu=0, formula_string='C1N4O3', Ga=0, Gd=0, Am=0, He=0, Ge=0, Tb=0, Cm=0, Li=0, Se=0, Dy=0, Bk=0, Be=0, Br=0, Ho=0, Cf=0, B=0, Kr=0, Er=0, Es=0, C=1, Rb=0, Tm=0, Fm=0, N=4, Sr=0, Yb=0, Md=0, O=3, Y=0, Lu=0, No=0, F=0, Zr=0, Hf=0, Lr=0, Ne=0, Nb=0, Ta=0, Rf=0, Na=0, Mo=0, W=0, Db=0, Mg=0, Tc=0, Re=0, Sg=0, Al=0, Ru=0, Os=0, Bh=0, Si=0, Rh=0, Ir=0, Hs=0, P=0, Pd=0, Pt=0, Mt=0, S=0, Ag=0, Au=0, Ds=0, Cl=0, Cd=0, Hg=0, Rg=0, Ar=0, In=0, Tl=0, Cn=0, K=0, Sn=0, Pb=0, Nh=0, Ca=0, Sb=0, Bi=0, Fl=0, Sc=0, Te=0, Po=0, Mc=0, Ti=0, I=0, At=0, Lv=0, V=0, Xe=0, Rn=0, Ts=0, Cr=0, Cs=0, Fr=0, Og=0, As=0, Ba=0, Ra=0, atom_number=8, Mn=0, La=0, Ac=0, molwt=116.03600000000002, Fe=0, Ce=0, Th=0, id=1149, Co=0, Pr=0, Pa=0, commit_time=datetime.datetime(2024, 4, 29, 11, 1, 6, 268576), Ni=0, Nd=0, U=0, update_time=datetime.datetime(2024, 4, 29, 11, 1, 6, 306789), Cu=0, Pm=0, Np=0, molecule_number=1, Sm=0, molecule_ids=[1619125]),\n",
       " Formula(H=0, Zn=0, Eu=0, Pu=0, formula_string='C1N6O1', Ga=0, Gd=0, Am=0, He=0, Ge=0, Tb=0, Cm=0, Li=0, Se=0, Dy=0, Bk=0, Be=0, Br=0, Ho=0, Cf=0, B=0, Kr=0, Er=0, Es=0, C=1, Rb=0, Tm=0, Fm=0, N=6, Sr=0, Yb=0, Md=0, O=1, Y=0, Lu=0, No=0, F=0, Zr=0, Hf=0, Lr=0, Ne=0, Nb=0, Ta=0, Rf=0, Na=0, Mo=0, W=0, Db=0, Mg=0, Tc=0, Re=0, Sg=0, Al=0, Ru=0, Os=0, Bh=0, Si=0, Rh=0, Ir=0, Hs=0, P=0, Pd=0, Pt=0, Mt=0, S=0, Ag=0, Au=0, Ds=0, Cl=0, Cd=0, Hg=0, Rg=0, Ar=0, In=0, Tl=0, Cn=0, K=0, Sn=0, Pb=0, Nh=0, Ca=0, Sb=0, Bi=0, Fl=0, Sc=0, Te=0, Po=0, Mc=0, Ti=0, I=0, At=0, Lv=0, V=0, Xe=0, Rn=0, Ts=0, Cr=0, Cs=0, Fr=0, Og=0, As=0, Ba=0, Ra=0, atom_number=8, Mn=0, La=0, Ac=0, molwt=112.05200000000002, Fe=0, Ce=0, Th=0, id=1148, Co=0, Pr=0, Pa=0, commit_time=datetime.datetime(2024, 4, 29, 11, 1, 1, 934277), Ni=0, Nd=0, U=0, update_time=datetime.datetime(2024, 4, 29, 11, 1, 1, 973375), Cu=0, Pm=0, Np=0, molecule_number=1, Sm=0, molecule_ids=[1618997]),\n",
       " Formula(H=0, Zn=0, Eu=0, Pu=0, formula_string='C1N4O2', Ga=0, Gd=0, Am=0, He=0, Ge=0, Tb=0, Cm=0, Li=0, Se=0, Dy=0, Bk=0, Be=0, Br=0, Ho=0, Cf=0, B=0, Kr=0, Er=0, Es=0, C=1, Rb=0, Tm=0, Fm=0, N=4, Sr=0, Yb=0, Md=0, O=2, Y=0, Lu=0, No=0, F=0, Zr=0, Hf=0, Lr=0, Ne=0, Nb=0, Ta=0, Rf=0, Na=0, Mo=0, W=0, Db=0, Mg=0, Tc=0, Re=0, Sg=0, Al=0, Ru=0, Os=0, Bh=0, Si=0, Rh=0, Ir=0, Hs=0, P=0, Pd=0, Pt=0, Mt=0, S=0, Ag=0, Au=0, Ds=0, Cl=0, Cd=0, Hg=0, Rg=0, Ar=0, In=0, Tl=0, Cn=0, K=0, Sn=0, Pb=0, Nh=0, Ca=0, Sb=0, Bi=0, Fl=0, Sc=0, Te=0, Po=0, Mc=0, Ti=0, I=0, At=0, Lv=0, V=0, Xe=0, Rn=0, Ts=0, Cr=0, Cs=0, Fr=0, Og=0, As=0, Ba=0, Ra=0, atom_number=7, Mn=0, La=0, Ac=0, molwt=100.037, Fe=0, Ce=0, Th=0, id=980, Co=0, Pr=0, Pa=0, commit_time=datetime.datetime(2024, 4, 29, 10, 44, 16, 962079), Ni=0, Nd=0, U=0, update_time=datetime.datetime(2024, 4, 29, 10, 44, 17, 7787), Cu=0, Pm=0, Np=0, molecule_number=1, Sm=0, molecule_ids=[1594479]),\n",
       " Formula(H=2, Zn=0, Eu=0, Pu=0, formula_string='H2C1N6O1', Ga=0, Gd=0, Am=0, He=0, Ge=0, Tb=0, Cm=0, Li=0, Se=0, Dy=0, Bk=0, Be=0, Br=0, Ho=0, Cf=0, B=0, Kr=0, Er=0, Es=0, C=1, Rb=0, Tm=0, Fm=0, N=6, Sr=0, Yb=0, Md=0, O=1, Y=0, Lu=0, No=0, F=0, Zr=0, Hf=0, Lr=0, Ne=0, Nb=0, Ta=0, Rf=0, Na=0, Mo=0, W=0, Db=0, Mg=0, Tc=0, Re=0, Sg=0, Al=0, Ru=0, Os=0, Bh=0, Si=0, Rh=0, Ir=0, Hs=0, P=0, Pd=0, Pt=0, Mt=0, S=0, Ag=0, Au=0, Ds=0, Cl=0, Cd=0, Hg=0, Rg=0, Ar=0, In=0, Tl=0, Cn=0, K=0, Sn=0, Pb=0, Nh=0, Ca=0, Sb=0, Bi=0, Fl=0, Sc=0, Te=0, Po=0, Mc=0, Ti=0, I=0, At=0, Lv=0, V=0, Xe=0, Rn=0, Ts=0, Cr=0, Cs=0, Fr=0, Og=0, As=0, Ba=0, Ra=0, atom_number=10, Mn=0, La=0, Ac=0, molwt=114.06800000000001, Fe=0, Ce=0, Th=0, id=1203, Co=0, Pr=0, Pa=0, commit_time=datetime.datetime(2024, 4, 29, 11, 14, 22, 85602), Ni=0, Nd=0, U=0, update_time=datetime.datetime(2024, 4, 29, 11, 14, 22, 121906), Cu=0, Pm=0, Np=0, molecule_number=1, Sm=0, molecule_ids=[1633816]),\n",
       " Formula(H=3, Zn=0, Eu=0, Pu=0, formula_string='H3C1N7', Ga=0, Gd=0, Am=0, He=0, Ge=0, Tb=0, Cm=0, Li=0, Se=0, Dy=0, Bk=0, Be=0, Br=0, Ho=0, Cf=0, B=0, Kr=0, Er=0, Es=0, C=1, Rb=0, Tm=0, Fm=0, N=7, Sr=0, Yb=0, Md=0, O=0, Y=0, Lu=0, No=0, F=0, Zr=0, Hf=0, Lr=0, Ne=0, Nb=0, Ta=0, Rf=0, Na=0, Mo=0, W=0, Db=0, Mg=0, Tc=0, Re=0, Sg=0, Al=0, Ru=0, Os=0, Bh=0, Si=0, Rh=0, Ir=0, Hs=0, P=0, Pd=0, Pt=0, Mt=0, S=0, Ag=0, Au=0, Ds=0, Cl=0, Cd=0, Hg=0, Rg=0, Ar=0, In=0, Tl=0, Cn=0, K=0, Sn=0, Pb=0, Nh=0, Ca=0, Sb=0, Bi=0, Fl=0, Sc=0, Te=0, Po=0, Mc=0, Ti=0, I=0, At=0, Lv=0, V=0, Xe=0, Rn=0, Ts=0, Cr=0, Cs=0, Fr=0, Og=0, As=0, Ba=0, Ra=0, atom_number=11, Mn=0, La=0, Ac=0, molwt=113.08400000000002, Fe=0, Ce=0, Th=0, id=1229, Co=0, Pr=0, Pa=0, commit_time=datetime.datetime(2024, 4, 29, 11, 22, 51, 484418), Ni=0, Nd=0, U=0, update_time=datetime.datetime(2024, 4, 29, 11, 22, 51, 539604), Cu=0, Pm=0, Np=0, molecule_number=1, Sm=0, molecule_ids=[1644663])]"
      ]
     },
     "execution_count": 5,
     "metadata": {},
     "output_type": "execute_result"
    }
   ],
   "source": [
    "formulas_crud.get_formulas_by_conditions(\n",
    "    session=session,\n",
    "    formula_filter=FormulaFilter(\n",
    "        numeric_filters=[NumericFilter(column=\"molwt\", min=100, max=120)],\n",
    "        element_filters=[\n",
    "            ElementFilter(element=\"C\", count=1)\n",
    "        ],  # -1 for existing, 0 for non-existing, >0 for count\n",
    "    ),\n",
    "    limit=10,  # limit the number of results\n",
    "    skip=0,  # skip the first n results\n",
    ")"
   ]
  },
  {
   "cell_type": "markdown",
   "metadata": {},
   "source": [
    "The Formula class has direct access to the Molecule subclasses it contains."
   ]
  },
  {
   "cell_type": "code",
   "execution_count": 6,
   "metadata": {},
   "outputs": [
    {
     "name": "stdout",
     "output_type": "stream",
     "text": [
      "157\n",
      "[H]/N=C1/C=C=C([O-])O1\n",
      "[H]/N=C1/[C-]=CC(=O)O1\n",
      "[O-]C1=C=COC=N1\n",
      "O=c1c[c-]ocn1\n",
      "[O-]C1=NC=C=CO1\n",
      "[O-]C1=CN=C=CO1\n",
      "O=c1c[c-]nco1\n",
      "O=c1ncc[c-]o1\n",
      "O=c1cnc[c-]o1\n",
      "O=c1ccn[c-]o1\n",
      "O=Cc1[c-]nco1\n",
      "O=Cc1[c-]ocn1\n",
      "O=[C-]c1cnco1\n",
      "O=[C-]c1cocn1\n",
      "O=C1C=CC([O-])=N1\n",
      "O=C1C=C=C([O-])N1\n",
      "N#C[C@H]1C=C([O-])O1\n",
      "[N-]=C=C1CC(=O)O1\n",
      "O=C1C=[C-]NC1=O\n",
      "O=C1N=CC=C1[O-]\n",
      "[C-]#CC(=O)C(N)=O\n",
      "[O-]C1=C=CC=NO1\n",
      "O=C=C1N=CC=[O+]1\n",
      "O=CC12N=C1C=[O+]2\n",
      "O=CC1=[N+]=C[C-]=[O+]1\n",
      "N#CC(=O)C1=[O+]C1\n",
      "N#CC(=O)[C@H]1C=[O+]1\n",
      "O=C=C1C=[O+]C=N1\n",
      "O=CC12C=[O+]C1=N2\n",
      "NC(=O)C#CC#[O+]\n",
      "O=C1C=C=[N+]=CO1\n",
      "O=C=C1C=NC=[O+]1\n",
      "O=CC1=C=NC=[O+]1\n",
      "O=CC1=[O+]C2=NC21\n",
      "N#C[C@]1(C#[O+])CO1\n",
      "N#CC1(C=O)C=[O+]1\n",
      "N#C[C@@H]1[O+]=CC1=O\n",
      "N#CC1=[O+]CC1=O\n",
      "N#CCC([O])=C=O\n",
      "N#C[CH]C(=O)C=O\n",
      "C#CC(=[N])OC=O\n",
      "[H]/N=C(\\C#C)O[C]=O\n",
      "[H]/N=C(\\C#[C])OC=O\n",
      "C#CC(=O)OC=[N]\n",
      "[H]/N=[C]/OC(=O)C#C\n",
      "[H]/N=C/OC(=O)C#[C]\n",
      "C#C[C+](=O)N[C][O-]\n",
      "C#CC(=O)[N]C=O\n",
      "[C]#CC(=O)NC=O\n",
      "O=c1[c]conc1\n",
      "O=c1cc[c]no1\n",
      "[O-]C1=[CH+][C]C=NO1\n",
      "O=c1[c]ccno1\n",
      "O=[C]c1ccno1\n",
      "[O-]/C=C1/[C][CH+]=NO1\n",
      "O=Cc1c[c]no1\n",
      "O=[C]c1cnoc1\n",
      "[O-]/C=C1\\[C]ON=[CH+]1\n",
      "O=Cc1[c]noc1\n",
      "O=[C]c1ccon1\n",
      "O=Cc1c[c]on1\n",
      "O=Cc1[c]con1\n",
      "[H]/N=C(\\[O-])C#CC=O\n",
      "N#CCC([O-])=C=O\n",
      "[H]/N=C(\\C#[C-])OC=O\n",
      "C#C/C([O-])=N/C=O\n",
      "C=C([O-])C(=O)C#N\n",
      "[H]/N=C(\\[O-])C(=O)C#C\n",
      "O=Cc1[c-]con1\n",
      "O=c1n[c-]cco1\n",
      "[O-]C1=C=NC=CO1\n",
      "O=Cc1cn[c-]o1\n",
      "O=C1NC=C=C1[O-]\n",
      "N#C[C@@H]1O[C@@H]1C#[O+]\n",
      "N#CC1=[O+][C@@H]1C=O\n",
      "O=Cc1cc#[n+]o1\n",
      "O=c1c#[n+]occ1\n",
      "O=c1[c]cocn1\n",
      "O=c1c[c]ocn1\n",
      "O=c1cco[c]n1\n",
      "O=c1nc[c]co1\n",
      "O=c1n[c]cco1\n",
      "O=c1cnc[c]o1\n",
      "O=c1cn[c]co1\n",
      "O=c1[c]ncco1\n",
      "O=c1ccn[c]o1\n",
      "[O-]C1=[CH+][C]N=CO1\n",
      "O=c1[c]cnco1\n",
      "O=[C]c1cnco1\n",
      "[O-]/C=C1/[C]N=[CH+]O1\n",
      "O=Cc1cn[c]o1\n",
      "O=[C]c1ncco1\n",
      "O=Cc1n[c]co1\n",
      "O=Cc1nc[c]o1\n",
      "O=[C]c1cocn1\n",
      "[O-]/C=C1/[C]O[CH+]=N1\n",
      "O=Cc1co[c]n1\n",
      "[NH]C(=O)C#CC=O\n",
      "NC([O])=C=C=C=O\n",
      "[N]=C1C=CC(=O)O1\n",
      "[H]/N=C1/C=[C]C(=O)O1\n",
      "[H]/N=C1/[C]=CC(=O)O1\n",
      "O=C1C=CC(=O)[N]1\n",
      "O=C1[C][CH+]=C([O-])N1\n",
      "N#C[C@H]1[CH]C(=O)O1\n",
      "N#C[C]1CC(=O)O1\n",
      "N#C[C@]1([C]=O)CO1\n",
      "N#C[C@]1(C=O)[CH]O1\n",
      "N#CC(=O)[C]1CO1\n",
      "N#CC(=O)[C@H]1[CH]O1\n",
      "N#C[C@@H]1[CH-]OC1=O\n",
      "N#C[C@@H]1OC=C1[O-]\n",
      "N#C[C@@H]1O[C@@H]1[C-]=O\n",
      "N#C[C@@H]1O/C1=C/[O-]\n",
      "[N-]=C=C1O[C@@H]1C=O\n",
      "N#C/C([O-])=C1/CO1\n",
      "N#CC(=O)[C@H]1[CH-]O1\n",
      "O=c1c[c-]onc1\n",
      "O=c1c[c-]cno1\n",
      "O=[C-]c1ccno1\n",
      "O=Cc1[c-]cno1\n",
      "O=Cc1[c-]onc1\n",
      "O=Cc1c[c-]on1\n",
      "[O-]C1=C=CON=C1\n",
      "O=[C-]c1cnoc1\n",
      "NC([O-])=C=C=C=O\n",
      "N#C/C=C(\\[O-])C=O\n",
      "[H]/N=C/OC(=O)C#[C-]\n",
      "[C-]#CC(=O)NC=O\n",
      "N#C[C@]1(C=O)[CH-]O1\n",
      "N#CC1=C([O-])CO1\n",
      "N#CC1=C([O-])OC1\n",
      "O=C=C1C=CN=[O+]1\n",
      "O=CC1=C=CN=[O+]1\n",
      "N#C[C+]1COC1=O\n",
      "O=c1c#[n+]cco1\n",
      "O=c1[n+]#ccco1\n",
      "C#CC(=O)[NH+]=C=O\n",
      "O=C1C=C=CN=[O+]1\n",
      "O=C=C1C=N[O+]=C1\n",
      "O=CC1=C2N=[O+]C12\n",
      "O=C=C1C=C[O+]=N1\n",
      "O=CC1=C=C[O+]=N1\n",
      "[CH2]C(=O)C(=O)C#N\n",
      "C#CC(=O)C([NH])=O\n",
      "[C]#CC(=O)C(N)=O\n",
      "O=C1[CH]C=NC1=O\n",
      "O=C1C=[C]NC1=O\n",
      "O=C1[C]=CNC1=O\n",
      "N#C[C@@H]1O[CH]C1=O\n",
      "N#C[C]1OCC1=O\n",
      "N#C[C@@H]1[CH]OC1=O\n",
      "N#C[C]1COC1=O\n",
      "N#C[C@@H]1O[C@@H]1[C]=O\n",
      "N#C[C@@H]1O[C]1C=O\n",
      "N#C[C]1O[C@@H]1C=O\n",
      "O=[C-]c1ncco1\n",
      "[O-]/C=C1\\N=C=CO1\n",
      "O=Cc1nc[c-]o1\n"
     ]
    }
   ],
   "source": [
    "print(formula.molecule_number)\n",
    "for molecule in formula.molecules:\n",
    "    print(molecule.smiles)"
   ]
  },
  {
   "cell_type": "markdown",
   "metadata": {},
   "source": [
    "## Query a Molecule\n",
    "\n",
    "Molecule represents the topology of a molecule in the qm9star database, i.e. SMILES and its derived properties, allowing vector fuzzy search with the help of molecular fingerprints.\n",
    "\n",
    "Although the above demonstrates obtaining a Molecule directly from a Formula, this is less performant when querying on a large scale, and we can use the following to obtain more granular information."
   ]
  },
  {
   "cell_type": "markdown",
   "metadata": {},
   "source": [
    "### Get Molecule count"
   ]
  },
  {
   "cell_type": "code",
   "execution_count": 7,
   "metadata": {},
   "outputs": [
    {
     "data": {
      "text/plain": [
       "ItemCount(count=1721470)"
      ]
     },
     "execution_count": 7,
     "metadata": {},
     "output_type": "execute_result"
    }
   ],
   "source": [
    "molecules_crud.get_molecule_count(session=session)"
   ]
  },
  {
   "cell_type": "markdown",
   "metadata": {},
   "source": [
    "### Get Molecule by id"
   ]
  },
  {
   "cell_type": "code",
   "execution_count": 8,
   "metadata": {},
   "outputs": [
    {
     "data": {
      "text/plain": [
       "Molecule(total_charge=-1, total_multiplicity=1, logp=0.04559000000000003, rdkit_fp_1024=array([1., 0., 0., ..., 0., 1., 0.], dtype=float32), topological_torsion_fp_1024=array([0., 0., 0., ..., 0., 0., 0.], dtype=float32), commit_time=datetime.datetime(2024, 4, 27, 22, 30, 21, 473650), snapshot_number=1, formula_id=26, smiles='C[C@@]1(O)C[C-]1O', qed=0.4095632403911939, morgan_fp3_1024=array([0., 0., 0., ..., 0., 0., 0.], dtype=float32), atompair_fp_1024=array([0., 0., 0., ..., 0., 0., 0.], dtype=float32), id=100, update_time=datetime.datetime(2024, 4, 27, 22, 30, 21, 505943), snapshot_ids=[103])"
      ]
     },
     "execution_count": 8,
     "metadata": {},
     "output_type": "execute_result"
    }
   ],
   "source": [
    "molecule = molecules_crud.get_molecule_by_id(session=session, molecule_id=100)\n",
    "molecule"
   ]
  },
  {
   "cell_type": "markdown",
   "metadata": {},
   "source": [
    "### Get Molecule by SMILES"
   ]
  },
  {
   "cell_type": "code",
   "execution_count": 9,
   "metadata": {},
   "outputs": [
    {
     "data": {
      "text/plain": [
       "Molecule(total_charge=-1, total_multiplicity=1, logp=0.04559000000000003, rdkit_fp_1024=array([1., 0., 0., ..., 0., 1., 0.], dtype=float32), topological_torsion_fp_1024=array([0., 0., 0., ..., 0., 0., 0.], dtype=float32), commit_time=datetime.datetime(2024, 4, 27, 22, 30, 21, 473650), snapshot_number=1, formula_id=26, smiles='C[C@@]1(O)C[C-]1O', qed=0.4095632403911939, morgan_fp3_1024=array([0., 0., 0., ..., 0., 0., 0.], dtype=float32), atompair_fp_1024=array([0., 0., 0., ..., 0., 0., 0.], dtype=float32), id=100, update_time=datetime.datetime(2024, 4, 27, 22, 30, 21, 505943), snapshot_ids=[103])"
      ]
     },
     "execution_count": 9,
     "metadata": {},
     "output_type": "execute_result"
    }
   ],
   "source": [
    "molecule = molecules_crud.get_molecule_by_smiles(\n",
    "    session=session, smiles=\"C[C@@]1(O)C[C-]1O\"\n",
    ")  # return None if SMILES is not found\n",
    "molecule"
   ]
  },
  {
   "cell_type": "markdown",
   "metadata": {},
   "source": [
    "### Get Molecules by SMILES (Fingerprint internal)\n",
    "\n",
    "This will perform a library-wide vector calculation to obtain a number of molecules that are closest to the input SMILES under the specified molecular fingerprint. This process is significantly slower than other queries (a single query on a database running on 14700K takes more than 1 minute), so it should be used with caution.\n",
    "\n",
    "SMILES vector sorting is also supported in the next step of conditional retrieval, but the number of vectors that need to be computed becomes smaller due to the limitation of other conditions (if they exist), and we prefer to use the following method."
   ]
  },
  {
   "cell_type": "code",
   "execution_count": 10,
   "metadata": {},
   "outputs": [
    {
     "data": {
      "text/plain": [
       "[Molecule(total_charge=-1, total_multiplicity=1, logp=1.12689, rdkit_fp_1024=array([0., 0., 1., ..., 0., 1., 1.], dtype=float32), topological_torsion_fp_1024=array([0., 0., 0., ..., 0., 0., 0.], dtype=float32), commit_time=datetime.datetime(2024, 4, 28, 12, 1, 39, 347657), snapshot_number=1, formula_id=395, smiles='CCC[CH-]CCNC=O', qed=0.3240573693485511, morgan_fp3_1024=array([0., 0., 0., ..., 0., 0., 0.], dtype=float32), atompair_fp_1024=array([0., 0., 0., ..., 1., 0., 0.], dtype=float32), id=493886, update_time=datetime.datetime(2024, 4, 28, 12, 1, 39, 381146), snapshot_ids=[503414]),\n",
       " Molecule(total_charge=0, total_multiplicity=1, logp=2.752700000000001, rdkit_fp_1024=array([1., 1., 0., ..., 0., 1., 0.], dtype=float32), topological_torsion_fp_1024=array([0., 0., 0., ..., 0., 0., 0.], dtype=float32), commit_time=datetime.datetime(2024, 4, 29, 11, 17, 38, 809982), snapshot_number=1, formula_id=910, smiles='CCC[C@@]12C=CC[C@@H]1C2', qed=0.49391213296725806, morgan_fp3_1024=array([0., 0., 0., ..., 0., 0., 0.], dtype=float32), atompair_fp_1024=array([0., 0., 0., ..., 0., 0., 0.], dtype=float32), id=1641385, update_time=datetime.datetime(2024, 4, 29, 11, 17, 38, 880055), snapshot_ids=[1672704]),\n",
       " Molecule(total_charge=0, total_multiplicity=1, logp=1.8064, rdkit_fp_1024=array([0., 0., 0., ..., 0., 0., 0.], dtype=float32), topological_torsion_fp_1024=array([0., 0., 0., ..., 0., 0., 0.], dtype=float32), commit_time=datetime.datetime(2024, 4, 29, 10, 51, 9, 177252), snapshot_number=1, formula_id=1009, smiles='CCCC', qed=0.4310243576713091, morgan_fp3_1024=array([0., 0., 0., ..., 0., 0., 0.], dtype=float32), atompair_fp_1024=array([0., 0., 0., ..., 0., 0., 0.], dtype=float32), id=1602427, update_time=datetime.datetime(2024, 4, 29, 10, 51, 9, 275995), snapshot_ids=[1633721]),\n",
       " Molecule(total_charge=-1, total_multiplicity=1, logp=1.0065899999999999, rdkit_fp_1024=array([0., 0., 0., ..., 0., 1., 1.], dtype=float32), topological_torsion_fp_1024=array([0., 0., 0., ..., 0., 0., 0.], dtype=float32), commit_time=datetime.datetime(2024, 4, 28, 11, 41, 0, 1533), snapshot_number=1, formula_id=395, smiles='CCC[C-](O)CN1CC1', qed=0.45081632191516546, morgan_fp3_1024=array([0., 0., 0., ..., 0., 0., 0.], dtype=float32), atompair_fp_1024=array([0., 0., 0., ..., 0., 0., 0.], dtype=float32), id=436816, update_time=datetime.datetime(2024, 4, 28, 11, 41, 0, 35599), snapshot_ids=[445414]),\n",
       " Molecule(total_charge=-1, total_multiplicity=1, logp=1.7142899999999999, rdkit_fp_1024=array([0., 0., 0., ..., 0., 1., 0.], dtype=float32), topological_torsion_fp_1024=array([0., 0., 0., ..., 0., 0., 0.], dtype=float32), commit_time=datetime.datetime(2024, 4, 27, 22, 42, 49, 302311), snapshot_number=1, formula_id=258, smiles='C#CC[C-](O)CCC', qed=0.4339581047900823, morgan_fp3_1024=array([0., 0., 0., ..., 0., 0., 0.], dtype=float32), atompair_fp_1024=array([0., 0., 0., ..., 1., 0., 0.], dtype=float32), id=30969, update_time=datetime.datetime(2024, 4, 27, 22, 42, 49, 343729), snapshot_ids=[31790])]"
      ]
     },
     "execution_count": 10,
     "metadata": {},
     "output_type": "execute_result"
    }
   ],
   "source": [
    "molecules_crud.get_molecules_by_smiles(\n",
    "    session=session,\n",
    "    smiles=\"CCCC\",\n",
    "    method=\"morgan\",\n",
    "    distance=\"inner_product\",\n",
    "    skip=0,\n",
    "    limit=5,\n",
    ")"
   ]
  },
  {
   "cell_type": "markdown",
   "metadata": {},
   "source": [
    "### Get Molecules by conditions"
   ]
  },
  {
   "cell_type": "code",
   "execution_count": 11,
   "metadata": {},
   "outputs": [
    {
     "data": {
      "text/plain": [
       "[Molecule(total_charge=0, total_multiplicity=1, logp=1.31008, rdkit_fp_1024=array([0., 0., 0., ..., 0., 0., 0.], dtype=float32), topological_torsion_fp_1024=array([0., 0., 0., ..., 0., 0., 0.], dtype=float32), commit_time=datetime.datetime(2024, 4, 29, 10, 42, 53, 574145), snapshot_number=1, formula_id=829, smiles='CCCC#N', qed=0.45506987992747255, morgan_fp3_1024=array([0., 0., 0., ..., 0., 0., 0.], dtype=float32), atompair_fp_1024=array([0., 0., 0., ..., 1., 0., 0.], dtype=float32), id=1591880, update_time=datetime.datetime(2024, 4, 29, 10, 42, 53, 656211), snapshot_ids=[1623077]),\n",
       " Molecule(total_charge=-1, total_multiplicity=1, logp=-0.26602999999999993, rdkit_fp_1024=array([0., 0., 0., ..., 0., 0., 0.], dtype=float32), topological_torsion_fp_1024=array([0., 0., 0., ..., 0., 0., 0.], dtype=float32), commit_time=datetime.datetime(2024, 4, 27, 22, 34, 6, 624688), snapshot_number=1, formula_id=8, smiles='[H]/N=C(/[O-])CC', qed=0.3362500626393042, morgan_fp3_1024=array([0., 0., 0., ..., 0., 0., 0.], dtype=float32), atompair_fp_1024=array([0., 0., 0., ..., 0., 0., 0.], dtype=float32), id=6839, update_time=datetime.datetime(2024, 4, 27, 22, 34, 6, 676384), snapshot_ids=[6918]),\n",
       " Molecule(total_charge=0, total_multiplicity=2, logp=-0.2329000000000001, rdkit_fp_1024=array([0., 0., 0., ..., 0., 0., 1.], dtype=float32), topological_torsion_fp_1024=array([0., 0., 0., ..., 0., 0., 0.], dtype=float32), commit_time=datetime.datetime(2024, 4, 28, 18, 27, 50, 958552), snapshot_number=1, formula_id=8, smiles='CC[N]C=O', qed=0.41429632297379887, morgan_fp3_1024=array([0., 0., 0., ..., 0., 0., 0.], dtype=float32), atompair_fp_1024=array([0., 0., 0., ..., 0., 0., 0.], dtype=float32), id=891773, update_time=datetime.datetime(2024, 4, 28, 18, 27, 50, 981184), snapshot_ids=[912918]),\n",
       " Molecule(total_charge=0, total_multiplicity=2, logp=0.20590000000000003, rdkit_fp_1024=array([0., 0., 1., ..., 0., 0., 1.], dtype=float32), topological_torsion_fp_1024=array([0., 0., 0., ..., 0., 0., 0.], dtype=float32), commit_time=datetime.datetime(2024, 4, 28, 18, 27, 39, 361493), snapshot_number=1, formula_id=8, smiles='CCC([NH])=O', qed=0.4360585540177881, morgan_fp3_1024=array([0., 0., 0., ..., 0., 0., 0.], dtype=float32), atompair_fp_1024=array([0., 0., 0., ..., 0., 0., 0.], dtype=float32), id=891607, update_time=datetime.datetime(2024, 4, 28, 18, 27, 39, 383435), snapshot_ids=[912752]),\n",
       " Molecule(total_charge=1, total_multiplicity=1, logp=-0.056900000000000006, rdkit_fp_1024=array([0., 0., 0., ..., 0., 1., 1.], dtype=float32), topological_torsion_fp_1024=array([0., 0., 0., ..., 0., 0., 0.], dtype=float32), commit_time=datetime.datetime(2024, 4, 28, 15, 53, 18, 321160), snapshot_number=1, formula_id=8, smiles='CCNC#[O+]', qed=0.34137617164906364, morgan_fp3_1024=array([0., 0., 0., ..., 0., 0., 0.], dtype=float32), atompair_fp_1024=array([0., 0., 0., ..., 0., 0., 0.], dtype=float32), id=849769, update_time=datetime.datetime(2024, 4, 28, 15, 53, 18, 340935), snapshot_ids=[869138]),\n",
       " Molecule(total_charge=1, total_multiplicity=1, logp=0.10319999999999996, rdkit_fp_1024=array([0., 0., 1., ..., 0., 0., 1.], dtype=float32), topological_torsion_fp_1024=array([0., 0., 0., ..., 0., 0., 0.], dtype=float32), commit_time=datetime.datetime(2024, 4, 28, 12, 46, 53, 662979), snapshot_number=1, formula_id=90, smiles='CC[N+]1=CC1', qed=0.38492967382614574, morgan_fp3_1024=array([0., 0., 0., ..., 0., 0., 0.], dtype=float32), atompair_fp_1024=array([0., 0., 0., ..., 0., 0., 0.], dtype=float32), id=622115, update_time=datetime.datetime(2024, 4, 28, 12, 46, 53, 691863), snapshot_ids=[635969]),\n",
       " Molecule(total_charge=-1, total_multiplicity=1, logp=-0.6051, rdkit_fp_1024=array([0., 0., 1., ..., 0., 0., 1.], dtype=float32), topological_torsion_fp_1024=array([0., 0., 0., ..., 0., 0., 0.], dtype=float32), commit_time=datetime.datetime(2024, 4, 27, 22, 34, 22, 511369), snapshot_number=1, formula_id=8, smiles='CC/N=C\\\\[O-]', qed=0.3005586028774481, morgan_fp3_1024=array([0., 0., 0., ..., 0., 0., 0.], dtype=float32), atompair_fp_1024=array([0., 0., 0., ..., 0., 0., 0.], dtype=float32), id=7421, update_time=datetime.datetime(2024, 4, 27, 22, 34, 22, 540332), snapshot_ids=[7507]),\n",
       " Molecule(total_charge=1, total_multiplicity=1, logp=1.1242699999999999, rdkit_fp_1024=array([0., 0., 0., ..., 0., 0., 0.], dtype=float32), topological_torsion_fp_1024=array([0., 0., 0., ..., 0., 0., 0.], dtype=float32), commit_time=datetime.datetime(2024, 4, 28, 12, 42, 16, 861639), snapshot_number=1, formula_id=97, smiles='CC[CH+]C#N', qed=0.42232228479188644, morgan_fp3_1024=array([0., 0., 0., ..., 0., 0., 0.], dtype=float32), atompair_fp_1024=array([0., 0., 0., ..., 0., 0., 0.], dtype=float32), id=608753, update_time=datetime.datetime(2024, 4, 28, 12, 42, 16, 895314), snapshot_ids=[622216]),\n",
       " Molecule(total_charge=-1, total_multiplicity=1, logp=-0.3368999999999999, rdkit_fp_1024=array([0., 0., 1., ..., 0., 0., 1.], dtype=float32), topological_torsion_fp_1024=array([0., 0., 0., ..., 0., 0., 0.], dtype=float32), commit_time=datetime.datetime(2024, 4, 27, 22, 37, 6, 637971), snapshot_number=1, formula_id=8, smiles='CCN[C-]=O', qed=0.3507770243108268, morgan_fp3_1024=array([0., 0., 0., ..., 0., 0., 0.], dtype=float32), atompair_fp_1024=array([0., 0., 0., ..., 0., 0., 0.], dtype=float32), id=15168, update_time=datetime.datetime(2024, 4, 27, 22, 37, 6, 678425), snapshot_ids=[15489]),\n",
       " Molecule(total_charge=0, total_multiplicity=2, logp=1.1242699999999999, rdkit_fp_1024=array([0., 0., 0., ..., 0., 0., 0.], dtype=float32), topological_torsion_fp_1024=array([0., 0., 0., ..., 0., 0., 0.], dtype=float32), commit_time=datetime.datetime(2024, 4, 28, 18, 27, 49, 398776), snapshot_number=1, formula_id=97, smiles='CC[CH]C#N', qed=0.4514593057065473, morgan_fp3_1024=array([0., 0., 0., ..., 0., 0., 0.], dtype=float32), atompair_fp_1024=array([0., 0., 0., ..., 0., 0., 0.], dtype=float32), id=891751, update_time=datetime.datetime(2024, 4, 28, 18, 27, 49, 424436), snapshot_ids=[912896])]"
      ]
     },
     "execution_count": 11,
     "metadata": {},
     "output_type": "execute_result"
    }
   ],
   "source": [
    "molecules_crud.get_molecules_by_conditions(\n",
    "    session=session,\n",
    "    molecule_filter=MoleculeFilter(\n",
    "        smiles=\"CCCC\",\n",
    "        method=\"morgan\",\n",
    "        distance=\"inner_product\",\n",
    "        numeric_filters=[\n",
    "            NumericFilter(\n",
    "                column=\"molwt\",\n",
    "                min=50,\n",
    "                max=80,\n",
    "            )\n",
    "        ],\n",
    "        element_filters=[ElementFilter(element=\"N\", count=-1)],\n",
    "    ),\n",
    "    skip=0,\n",
    "    limit=10,\n",
    ")"
   ]
  },
  {
   "cell_type": "markdown",
   "metadata": {},
   "source": [
    "The Molecule class has direct access to the Formula and Snapshot subclasses it contains."
   ]
  },
  {
   "cell_type": "code",
   "execution_count": 12,
   "metadata": {},
   "outputs": [
    {
     "data": {
      "text/plain": [
       "Formula(H=7, Zn=0, Eu=0, Pu=0, formula_string='H7C4O2', Ga=0, Gd=0, Am=0, He=0, Ge=0, Tb=0, Cm=0, Li=0, Se=0, Dy=0, Bk=0, Be=0, Br=0, Ho=0, Cf=0, B=0, Kr=0, Er=0, Es=0, C=4, Rb=0, Tm=0, Fm=0, N=0, Sr=0, Yb=0, Md=0, O=2, Y=0, Lu=0, No=0, F=0, Zr=0, Hf=0, Lr=0, Ne=0, Nb=0, Ta=0, Rf=0, Na=0, Mo=0, W=0, Db=0, Mg=0, Tc=0, Re=0, Sg=0, Al=0, Ru=0, Os=0, Bh=0, Si=0, Rh=0, Ir=0, Hs=0, P=0, Pd=0, Pt=0, Mt=0, S=0, Ag=0, Au=0, Ds=0, Cl=0, Cd=0, Hg=0, Rg=0, Ar=0, In=0, Tl=0, Cn=0, K=0, Sn=0, Pb=0, Nh=0, Ca=0, Sb=0, Bi=0, Fl=0, Sc=0, Te=0, Po=0, Mc=0, Ti=0, I=0, At=0, Lv=0, V=0, Xe=0, Rn=0, Ts=0, Cr=0, Cs=0, Fr=0, Og=0, As=0, Ba=0, Ra=0, atom_number=13, Mn=0, La=0, Ac=0, molwt=87.098, Fe=0, Ce=0, Th=0, id=26, Co=0, Pr=0, Pa=0, commit_time=datetime.datetime(2024, 4, 27, 22, 30, 19, 304381), Ni=0, Nd=0, U=0, update_time=datetime.datetime(2024, 4, 28, 18, 30, 10, 193803), Cu=0, Pm=0, Np=0, molecule_number=355, Sm=0, molecule_ids=[75, 76, 77, 78, 97, 98, 99, 100, 101, 163, 164, 204, 205, 206, 207, 241, 712, 773, 809, 855, 857, 923, 926, 929, 974, 1040, 1068, 1070, 1130, 1133, 1136, 1138, 1141, 1240, 1242, 1243, 1245, 1306, 1314, 1374, 1380, 1411, 1421, 1439, 1482, 1484, 1487, 7196, 7282, 7511, 7516, 7523, 7538, 7544, 7549, 7640, 7654, 7660, 7727, 7732, 7733, 7762, 7781, 7855, 7869, 7890, 7908, 7919, 7925, 7930, 8054, 8060, 8063, 8065, 8069, 8073, 8076, 8081, 8181, 8184, 8189, 8190, 8196, 8197, 8201, 8208, 8209, 8215, 8288, 8329, 8333, 8337, 8459, 8472, 8478, 8485, 8502, 8507, 8573, 8580, 8586, 8616, 8635, 8641, 8647, 8652, 8653, 8659, 8665, 8676, 8692, 8762, 8773, 8855, 8968, 8976, 8983, 15342, 15415, 15454, 15567, 15879, 15911, 15924, 15930, 16065, 16116, 16177, 16271, 16386, 16392, 16460, 16624, 498662, 498783, 498862, 498865, 498869, 498930, 598270, 609020, 609026, 609029, 622075, 622106, 622119, 622146, 622150, 622181, 622184, 622189, 622303, 622307, 622310, 622313, 622315, 622337, 622344, 622351, 622389, 622393, 622396, 622398, 622402, 622407, 622414, 622421, 622426, 622431, 622618, 622625, 622632, 622638, 666418, 666422, 666427, 666617, 666623, 666627, 666652, 834245, 834246, 834247, 834252, 834260, 834262, 834263, 834266, 834287, 834288, 834289, 849816, 849858, 849859, 849861, 849879, 849881, 849882, 849893, 849895, 849897, 849924, 849926, 892057, 892058, 892059, 892060, 892166, 892167, 892168, 892169, 892170, 892171, 892172, 892173, 892174, 892178, 892179, 892180, 892181, 892198, 892199, 892200, 892207, 892208, 892209, 892273, 892274, 892275, 892276, 892307, 892308, 892309, 892313, 892314, 892315, 892367, 892368, 892476, 892477, 892478, 892479, 892484, 892485, 892486, 892570, 892571, 892572, 892573, 892574, 892580, 892581, 892582, 892583, 892584, 892589, 892590, 892591, 892592, 892682, 892683, 892684, 892685, 892701, 892702, 892703, 892704, 892766, 892767, 892768, 892769, 892770, 892771, 892772, 892773, 892774, 892775, 892887, 892888, 892889, 892890, 892891, 892892, 892893, 892898, 892899, 892900, 892901, 892902, 892916, 892917, 892918, 892919, 893097, 893098, 893099, 893100, 893101, 893102, 893103, 893104, 893105, 893106, 893107, 893108, 893109, 893110, 893111, 893112, 893113, 893220, 893221, 893222, 893228, 893229, 893230, 893231, 893232, 893233, 893234, 893235, 893236, 893324, 893325, 893326, 893327, 893333, 893334, 893335, 893336, 893337, 893419, 893420, 893421, 893422, 893423, 893460, 893461, 893462, 893463, 893464, 893465, 893466, 893467, 893468, 893469, 893516, 893517, 893518, 893519, 893520, 893595, 893596, 893597, 893598])"
      ]
     },
     "execution_count": 12,
     "metadata": {},
     "output_type": "execute_result"
    }
   ],
   "source": [
    "molecule.formula"
   ]
  },
  {
   "cell_type": "code",
   "execution_count": 13,
   "metadata": {},
   "outputs": [
    {
     "data": {
      "text/plain": [
       "[Snapshot(standard_coords=[[0.5592389702796936, 1.4492930173873901, 0.34808599948883057], [0.48539599776268005, -0.017389999702572823, -0.01475599966943264], [1.6917979717254639, -0.4464530050754547, -0.698291003704071], [-0.17096300423145294, -0.9754049777984619, 0.9397900104522705], [-0.7801560163497925, -0.6570850014686584, -0.45788800716400146], [-1.903601050376892, 0.30454400181770325, -0.32567599415779114], [-0.36834898591041565, 1.7695039510726929, 0.8276619911193848], [1.4007869958877563, 1.6651569604873657, 1.022902011871338], [0.6929619908332825, 2.0464649200439453, -0.5626270174980164], [2.3490779399871826, -0.573809027671814, -0.00279999990016222], [0.2346380054950714, -1.9741530418395996, 1.0930830240249634], [-0.6161190271377563, -0.5235159993171692, 1.8313219547271729], [-2.559675931930542, -0.07085400074720383, -0.9091969728469849]], solvent='', enthalpy_correction=0.109284, alpha_lumo=0.025049999356269836, spin_eginvalue=None, mo_bond_order=[], id=103, frame_id=17, qm_software='Gaussian', temperature=298.15, gibbs_free_energy_correction=0.071066, alpha_gap=0.10469000041484833, spin_multiplicity=None, atom_atom_overlap_bond_order=[], hash_token='0dfb5f1c85932c9e85f88194fd3456f7c4e8f75666ac71b1d705f811364e2bd5', filename='dsgdb9nsd_000300-7-.log', qm_software_version='Gaussian 16:  ES64L-G16RevC.01  3-Jul-2019', mulliken_charge=[-0.754266, 0.238633, -0.224929, -0.461204, -0.345452, -0.397673, 0.137757, 0.089825, 0.12231, 0.180728, 0.094841, 0.067143, 0.252286], zero_point_sum=-307.005709, beta_homo=None, dipole=[1.5952, 2.0184, 2.621], nbo_charges=[-0.59453, 0.12209, -0.76484, -0.53119, -0.18602, -0.82926, 0.20957, 0.16263, 0.18674, 0.42455, 0.17855, 0.16804, 0.45367], commit_time=datetime.datetime(2024, 4, 27, 22, 30, 21, 494015), coords=[[-0.004625000059604645, 1.5242359638214111, 0.04736800119280815], [0.03666599839925766, 0.012280000373721123, 0.07078299671411514], [-1.221987009048462, -0.5504530072212219, -0.3829199969768524], [1.3093910217285156, -0.6911720037460327, -0.3101170063018799], [0.7422670125961304, -0.74058997631073, 1.13966703414917], [1.4808189868927002, 0.2028539925813675, 2.0164759159088135], [0.9333909749984741, 1.93612802028656, 0.4260750114917755], [-0.18140999972820282, 1.9161709547042847, -0.9652090072631836], [-0.816025972366333, 1.8793729543685913, 0.6949790120124817], [-1.1978839635849, -0.4892460107803345, -1.3460489511489868], [1.2842140197753906, -1.6130679845809937, -0.8888940215110779], [2.161879062652588, -0.04069200158119202, -0.5276889801025391], [1.6128029823303223, -0.3175469934940338, 2.8061718940734863]], basis='6-311+G(d,p)', spin_densities=[], beta_lumo=None, beta_gap=None, quadrupole=[-46.0262, -48.9693, -48.2772, -0.7654, 3.5323, -3.3574], lowdin_charges=[], update_time=datetime.datetime(2024, 4, 28, 21, 53, 22, 597406), atoms=[6, 6, 8, 6, 6, 8, 1, 1, 1, 1, 1, 1, 1], functional='rb3lyp', gradients=[[8.863000402925536e-06, -1.1682000149448868e-05, 6.73200020173681e-06], [-1.3535999642044771e-05, 3.826000011031283e-06, -2.3345999579760246e-05], [5.872000201634364e-06, 1.0134000149264466e-05, 2.969999968627235e-06], [-1.8881000869441777e-05, 2.9500000664484105e-07, -1.262999944628973e-06], [6.029999894963112e-06, -4.874999831372406e-06, 5.6903998483903706e-05], [-1.2583999705384485e-05, -1.0275000022375025e-05, -1.7414000467397273e-05], [-1.884999960566347e-06, 2.3370000690192683e-06, -1.7959999922823044e-06], [-3.4639999739738414e-06, 2.586999926279532e-06, -2.618000053189462e-06], [-2.114999915647786e-06, 4.663999789045192e-06, 2.322000000276603e-06], [8.110000067063083e-07, -1.612999994904385e-06, -2.0400000266818097e-06], [1.761599924066104e-05, 1.26400004774041e-06, -1.3576999663200695e-05], [8.257000445155427e-06, -2.499999993688107e-07, -5.853999937244225e-06], [5.016000159230316e-06, 3.5900000057154102e-06, -1.0200000133409048e-06]], thermal_energy_sum=-306.9984973, first_frequency=189.7168, octapole=[2.5002, 6.9827, 0.2486, 5.174, -2.9254, 0.6748, -4.2879, 8.0761, 3.4223, -0.7056], hirshfeld_charges=[], owner_id=1, bonds=[[1, 0, 1], [2, 1, 1], [3, 1, 1], [4, 3, 1], [4, 1, 1], [5, 4, 1], [6, 0, 1], [7, 0, 1], [8, 0, 1], [9, 2, 1], [10, 3, 1], [11, 3, 1], [12, 5, 1]], keywords=' %chk=dsgdb9nsd_000300-7.chk  %mem=60GB  %nprocshared=32  Will use up to   32 processors via shared memory.\\n #p opt freq b3lyp/6-311+g** em=gd3bj', single_point_energy=-307.1068368, thermal_enthalpy_sum=-306.9975531, first_vibration_mode=[0.03999999910593033, 0.03999999910593033, -0.029999999329447746, 0.009999999776482582, 0.03999999910593033, -0.019999999552965164, 0.029999999329447746, 0.0, 0.03999999910593033, 0.0, 0.019999999552965164, -0.05999999865889549, -0.009999999776482582, 0.009999999776482582, -0.03999999910593033, -0.07000000029802322, -0.05999999865889549, 0.10000000149011612, -0.12999999523162842, 0.1599999964237213, -0.4399999976158142, -0.2199999988079071, -0.03999999910593033, 0.3199999928474426, 0.5099999904632568, -0.019999999552965164, 0.009999999776482582, -0.14000000059604645, -0.4399999976158142, 0.10999999940395355, 0.03999999910593033, 0.029999999329447746, -0.05000000074505806, -0.03999999910593033, -0.009999999776482582, -0.07000000029802322, 0.07999999821186066, 0.15000000596046448, -0.20000000298023224], hexadecapole=[-363.1944, -294.0673, -190.9041, -8.8929, 32.0194, -20.3874, -14.4424, -3.6334, -8.9305, -123.1961, -98.8273, -84.9691, -4.2775, -6.3051, -4.6348], is_TS=False, molecule_id=100, formal_charges=[0, 0, 0, 0, -1, 0, 0, 0, 0, 0, 0, 0, 0], solvent_model='', zero_point_correction=0.101128, thermal_free_energy_sum=-307.0357712, second_frequency=210.3566, nbo_bond_order=[[0.0, 1.0, 1.0, -0.885862627], [0.0, 6.0, 1.0, -0.657781938], [0.0, 7.0, 1.0, -0.671135244], [0.0, 8.0, 1.0, -0.6537303396], [1.0, 2.0, 1.0, -1.2430048254], [1.0, 3.0, 1.0, -0.6986213985999999], [1.0, 4.0, 1.0, -0.6798594021000001], [2.0, 9.0, 1.0, -1.057339368], [3.0, 4.0, 1.0, -0.5144087025], [3.0, 10.0, 1.0, -0.6418104996], [3.0, 11.0, 1.0, -0.6414208843], [4.0, 5.0, 1.0, -1.085405997], [5.0, 12.0, 1.0, -1.03803412]], is_optimized=True, formal_spins=[0, 0, 0, 0, 0, 0, 0, 0, 0, 0, 0, 0, 0], energy_correction=0.10834, alpha_homo=0.025049999356269836, second_vibration_mode=[-0.09000000357627869, 0.009999999776482582, -0.07000000029802322, -0.019999999552965164, -0.009999999776482582, -0.009999999776482582, 0.03999999910593033, 0.009999999776482582, 0.07000000029802322, 0.029999999329447746, -0.05000000074505806, -0.029999999329447746, -0.009999999776482582, 0.0, -0.05000000074505806, 0.07000000029802322, 0.09000000357627869, 0.029999999329447746, -0.10999999940395355, -0.029999999329447746, -0.07999999821186066, -0.09000000357627869, 0.07000000029802322, -0.09000000357627869, -0.14000000059604645, -0.029999999329447746, -0.10000000149011612, -0.17000000178813934, -0.4699999988079071, 0.18000000715255737, 0.05000000074505806, -0.05000000074505806, -0.11999999731779099, 0.009999999776482582, -0.11999999731779099, -0.019999999552965164, -0.2800000011920929, -0.27000001072883606, 0.6499999761581421], wiberg_bond_order=[], is_error=False)]"
      ]
     },
     "execution_count": 13,
     "metadata": {},
     "output_type": "execute_result"
    }
   ],
   "source": [
    "molecule.snapshots"
   ]
  },
  {
   "cell_type": "markdown",
   "metadata": {},
   "source": [
    "## Query a snapshot\n",
    "\n",
    "Snapshot represents in the qm9star database a specific spatial feature of the topology of a molecule, i.e. a set of atomic coordinates and their corresponding quantum chemical properties."
   ]
  },
  {
   "cell_type": "markdown",
   "metadata": {},
   "source": [
    "### Get Snapshot count"
   ]
  },
  {
   "cell_type": "code",
   "execution_count": 14,
   "metadata": {},
   "outputs": [
    {
     "data": {
      "text/plain": [
       "ItemCount(count=1751509)"
      ]
     },
     "execution_count": 14,
     "metadata": {},
     "output_type": "execute_result"
    }
   ],
   "source": [
    "snapshots_crud.get_snapshot_count(session=session)"
   ]
  },
  {
   "cell_type": "markdown",
   "metadata": {},
   "source": [
    "### Get Snapshot by id"
   ]
  },
  {
   "cell_type": "code",
   "execution_count": 15,
   "metadata": {},
   "outputs": [
    {
     "data": {
      "text/plain": [
       "Snapshot(standard_coords=[[0.4643940031528473, 1.5120879411697388, 0.3349739909172058], [0.514132022857666, 0.07151100039482117, 0.06457299739122391], [1.6866999864578247, -0.5126789808273315, -0.6062290072441101], [-0.17552700638771057, -0.9113630056381226, 1.0002249479293823], [-0.7720310091972351, -0.5823739767074585, -0.36547499895095825], [-1.8874460458755493, 0.2619050145149231, -0.4343799948692322], [0.8972020149230957, 1.8333510160446167, 1.2865439653396606], [0.7716439962387085, 2.134665012359619, -0.5121949911117554], [2.37231707572937, 0.13523900508880615, -0.40880998969078064], [0.3009679913520813, -1.881005048751831, 1.1153500080108643], [-0.6870459914207458, -0.5213729739189148, 1.8745449781417847], [-0.7586830258369446, -1.3503559827804565, -1.133005976676941], [-1.4762519598007202, 1.116510033607483, -0.10333699733018875]], solvent='', enthalpy_correction=0.108804, alpha_lumo=0.010169999673962593, spin_eginvalue=None, mo_bond_order=[], id=100, frame_id=38, qm_software='Gaussian', temperature=298.15, gibbs_free_energy_correction=0.071961, alpha_gap=0.12680000066757202, spin_multiplicity=None, atom_atom_overlap_bond_order=[], hash_token='8257ab1b907d46fb4605db0ae3af52a8693fbf15ae1d4a887ca2543a31f580d7', filename='dsgdb9nsd_000300-2-.log', qm_software_version='Gaussian 16:  ES64L-G16RevC.01  3-Jul-2019', mulliken_charge=[-0.955621, -0.168737, -0.289421, -0.175209, -0.016224, -0.338839, 0.070414, 0.071896, 0.216738, 0.101876, 0.111051, 0.107627, 0.26445], zero_point_sum=-307.027381, beta_homo=None, dipole=[0.9051, -2.4287, 0.3813], nbo_charges=[-0.99585, 0.16569, -0.80554, -0.46565, 0.09823, -0.81117, 0.16228, 0.16271, 0.45562, 0.18914, 0.19361, 0.16803, 0.4829], commit_time=datetime.datetime(2024, 4, 27, 22, 30, 21, 235620), coords=[[0.2110610008239746, 1.4025269746780396, 0.4365380108356476], [0.1548209935426712, -0.03230300173163414, 0.13829199969768524], [-1.0300079584121704, -0.6019049882888794, -0.5234519839286804], [1.4289679527282715, -0.8033869862556458, -0.17650200426578522], [0.7318660020828247, -0.9627060294151306, 1.1717770099639893], [1.2859909534454346, -0.3456979990005493, 2.300471067428589], [0.6167070269584656, 2.0381529331207275, -0.3555789887905121], [-0.7064549922943115, 1.8003989458084106, 0.8832650184631348], [-1.3993480205535889, 0.16903500258922577, -0.968517005443573], [1.3337359428405762, -1.6204580068588257, -0.8863120079040527], [2.3704710006713867, -0.2634179890155792, -0.19006100296974182], [0.23704999685287476, -1.9045859575271606, 1.3887939453125], [1.1674220561981201, 0.6183440089225769, 2.044373035430908]], basis='6-311+G(d,p)', spin_densities=[], beta_lumo=None, beta_gap=None, quadrupole=[-54.0138, -50.9466, -44.9423, 1.8622, -0.2672, -2.0056], lowdin_charges=[], update_time=datetime.datetime(2024, 4, 28, 19, 50, 33, 945009), atoms=[6, 6, 8, 6, 6, 8, 1, 1, 1, 1, 1, 1, 1], functional='rb3lyp', gradients=[[9.119000424107071e-06, 2.5770999855012633e-05, -1.3623000086226966e-05], [1.9937999240937643e-05, 2.6252000679960474e-05, -1.7681999452179298e-05], [-1.9824999981210567e-05, -2.5830000595306046e-05, -1.0787999599415343e-05], [-2.5724000806803815e-05, 3.4439999581081793e-06, -3.3509000786580145e-05], [-1.9869999050570186e-06, -5.4239999371930026e-06, 3.253799877711572e-05], [1.2114999663026538e-05, -3.542600097716786e-05, 2.1493000531336293e-05], [-1.0511000255064573e-05, -6.914000096003292e-06, 1.8299000657862052e-05], [1.0806000318552833e-05, 7.190000133050489e-07, -1.737000047796755e-06], [1.0890999874391127e-05, -9.27299970499007e-06, 8.650000381749123e-06], [8.400000297115184e-06, 6.481000127678271e-06, 2.424000058454112e-06], [2.324999968550401e-06, 4.387999979371671e-06, 1.6460000551887788e-05], [-4.13999987358693e-06, 1.9239998891862342e-06, 2.0850000055361306e-06], [-1.1406999874452595e-05, 1.3887999557482544e-05, -2.4610000764369033e-05]], thermal_energy_sum=-307.0208607, first_frequency=182.4664, octapole=[14.658, -25.4539, -5.5715, -4.9482, -0.5057, 3.3727, -2.6558, -3.4945, -7.3487, -3.7089], hirshfeld_charges=[], owner_id=1, bonds=[[1, 0, 1], [2, 1, 1], [3, 1, 1], [4, 3, 1], [4, 1, 1], [5, 4, 1], [6, 0, 1], [7, 0, 1], [8, 2, 1], [9, 3, 1], [10, 3, 1], [11, 4, 1], [12, 5, 1]], keywords=' %chk=dsgdb9nsd_000300-2.chk  %mem=60GB  %nprocshared=32  Will use up to   32 processors via shared memory.\\n #p opt freq b3lyp/6-311+g** em=gd3bj', single_point_energy=-307.1287208, thermal_enthalpy_sum=-307.0199165, first_vibration_mode=[0.009999999776482582, 0.009999999776482582, 0.05000000074505806, 0.0, 0.009999999776482582, 0.0, -0.07999999821186066, 0.029999999329447746, -0.11999999731779099, 0.009999999776482582, 0.05000000074505806, 0.05999999865889549, 0.019999999552965164, -0.019999999552965164, 0.029999999329447746, 0.029999999329447746, -0.029999999329447746, -0.05000000074505806, -0.20999999344348907, -0.07000000029802322, 0.17000000178813934, 0.25, 0.03999999910593033, 0.1599999964237213, 0.20999999344348907, -0.5099999904632568, 0.6700000166893005, 0.009999999776482582, 0.05000000074505806, 0.10999999940395355, 0.009999999776482582, 0.09000000357627869, 0.029999999329447746, 0.03999999910593033, -0.07000000029802322, 0.07999999821186066, 0.019999999552965164, -0.009999999776482582, -0.10000000149011612], hexadecapole=[-424.5069, -327.8102, -165.7107, -3.4618, -12.5601, -8.5688, -10.3367, -0.7343, -1.4409, -125.6544, -101.3403, -79.9418, -4.838, 3.8848, 0.887], is_TS=False, molecule_id=97, formal_charges=[-1, 0, 0, 0, 0, 0, 0, 0, 0, 0, 0, 0, 0], solvent_model='', zero_point_correction=0.10134, thermal_free_energy_sum=-307.0567595, second_frequency=246.8625, nbo_bond_order=[[0.0, 1.0, 1.0, -0.9228458732], [0.0, 6.0, 1.0, -0.58065826], [0.0, 7.0, 1.0, -0.5773842704], [1.0, 2.0, 1.0, -1.2172086651], [1.0, 3.0, 1.0, -0.6979975740000001], [1.0, 4.0, 1.0, -0.7225077404], [2.0, 8.0, 1.0, -1.0754321123], [3.0, 4.0, 1.0, -0.6822677004000001], [3.0, 9.0, 1.0, -0.6918593367], [3.0, 10.0, 1.0, -0.6925054081], [4.0, 5.0, 1.0, -1.304703456], [4.0, 11.0, 1.0, -0.6958458630000001], [5.0, 12.0, 1.0, -1.0291674948]], is_optimized=True, formal_spins=[0, 0, 0, 0, 0, 0, 0, 0, 0, 0, 0, 0, 0], energy_correction=0.10786, alpha_homo=0.010169999673962593, second_vibration_mode=[-0.1599999964237213, 0.0, -0.17000000178813934, 0.0, -0.03999999910593033, -0.029999999329447746, 0.05000000074505806, 0.029999999329447746, 0.07000000029802322, 0.0, -0.07999999821186066, -0.07000000029802322, -0.019999999552965164, -0.029999999329447746, -0.03999999910593033, 0.07999999821186066, 0.10999999940395355, 0.15000000596046448, -0.3499999940395355, 0.11999999731779099, -0.11999999731779099, 0.07000000029802322, -0.11999999731779099, -0.17000000178813934, 0.1599999964237213, -0.25, 0.6200000047683716, 0.07999999821186066, -0.05000000074505806, -0.12999999523162842, -0.05000000074505806, -0.1899999976158142, -0.05000000074505806, -0.14000000059604645, 0.019999999552965164, -0.09000000357627869, 0.33000001311302185, 0.07999999821186066, 0.07000000029802322], wiberg_bond_order=[], is_error=False)"
      ]
     },
     "execution_count": 15,
     "metadata": {},
     "output_type": "execute_result"
    }
   ],
   "source": [
    "snapshot = snapshots_crud.get_snapshot_by_id(session=session, snapshot_id=100)\n",
    "snapshot"
   ]
  },
  {
   "cell_type": "markdown",
   "metadata": {},
   "source": [
    "### Get Snapshots by Conditions"
   ]
  },
  {
   "cell_type": "code",
   "execution_count": 16,
   "metadata": {},
   "outputs": [
    {
     "data": {
      "text/plain": [
       "[Snapshot(standard_coords=[[2.3054230213165283, 0.01548600010573864, 1.2000000424450263e-05], [0.876213014125824, -0.5253589749336243, -1.4000000192027073e-05], [-0.1615470051765442, 0.6134170293807983, -1.5999999959603883e-05], [-1.536370038986206, 0.12314700335264206, 2.700000004551839e-05], [-2.613956928253174, -0.2872239947319031, -3.000000106112566e-06], [3.0305209159851074, -0.8012580275535583, 2.499999936844688e-05], [2.49674391746521, 0.6310269832611084, -0.8839550018310547], [2.4967129230499268, 0.631026029586792, 0.8839859962463379], [0.7094839811325073, -1.1567130088806152, -0.8769840002059937], [0.7094569802284241, -1.1567200422286987, 0.876945972442627], [-0.02376299910247326, 1.2515369653701782, 0.8788250088691711], [-0.023771999403834343, 1.2515250444412231, -0.8788719773292542]], solvent='', enthalpy_correction=0.109442, alpha_lumo=-0.33243000507354736, spin_eginvalue=None, mo_bond_order=[], id=1623077, frame_id=6, qm_software='Gaussian', temperature=298.15, gibbs_free_energy_correction=0.07353, alpha_gap=0.3232499957084656, spin_multiplicity=None, atom_atom_overlap_bond_order=[], hash_token='330ed6fb904a671db3826c84ac72d9d86e630e639325e9c33e6c4698c91f64aa', filename='dsgdb9nsd_000122.log', qm_software_version='Gaussian 16:  ES64L-G16RevC.01  3-Jul-2019', mulliken_charge=[-0.481014, -0.263318, 0.072815, -0.150905, -0.290504, 0.14982, 0.137229, 0.137229, 0.163129, 0.163128, 0.181195, 0.181197], zero_point_sum=-211.356632, beta_homo=None, dipole=[4.1416, 1.1248, 0.0], nbo_charges=[-0.57822, -0.37215, -0.4912, 0.29966, -0.34209, 0.21022, 0.19722, 0.19722, 0.20335, 0.20335, 0.23633, 0.23633], commit_time=datetime.datetime(2024, 4, 29, 10, 42, 53, 623286), coords=[[-0.004985000006854534, 1.5463240146636963, 0.010393000207841396], [0.005197000224143267, 0.018259000033140182, 0.002099999925121665], [-1.4232820272445679, -0.5588819980621338, 0.012653999961912632], [-1.4416090250015259, -2.018371105194092, 0.00506900018081069], [-1.4315049648284912, -3.1713919639587402, -0.001221999991685152], [1.0128639936447144, 1.942257046699524, 0.0028019999153912067], [-0.5240210294723511, 1.944417953491211, -0.8665419816970825], [-0.507148027420044, 1.9349370002746582, 0.9012929797172546], [0.5307919979095459, -0.3528609871864319, -0.8819260001182556], [0.5475379824638367, -0.3622649908065796, 0.8718990087509155], [-1.9652669429779053, -0.2125599980354309, 0.898576021194458], [-1.982043981552124, -0.20317499339580536, -0.8590160012245178]], basis='6-311+G(d,p)', spin_densities=[], beta_lumo=None, beta_gap=None, quadrupole=[-43.456, -30.9235, -30.7959, -2.3751, 0.0, 0.0], lowdin_charges=[], update_time=datetime.datetime(2024, 4, 29, 10, 42, 53, 761385), atoms=[6, 6, 6, 6, 7, 1, 1, 1, 1, 1, 1, 1], functional='rb3lyp', gradients=[[-1.498199981142534e-05, 3.572999958123546e-06, 2.3000000126671694e-08], [1.2233000234118663e-05, -1.7760999980964698e-05, 1.0139999631064711e-06], [-5.4809997891425155e-06, 2.4910999854910187e-05, 2.1210000795690576e-06], [9.653000233811326e-06, 4.8658999730832875e-05, -6.999000106588937e-06], [-4.524999894783832e-06, -4.2931998905260116e-05, 2.3529998998128576e-06], [3.89300021197414e-06, -1.0740999641711824e-05, -2.4900000994421134e-07], [-1.4779999446545844e-06, -2.128000005541253e-06, -5.511999916052446e-06], [-1.3310000213095918e-06, -2.4080000002868474e-06, 5.430999863165198e-06], [2.550000033352262e-07, 1.787999963198672e-06, -5.016000159230316e-06], [1.0999999631167157e-06, 2.1939999896858353e-06, 4.974000148649793e-06], [1.6999999630229468e-08, -2.699999868127634e-07, 5.112000053486554e-06], [6.440000106522348e-07, -4.88600016979035e-06, -3.2529999316466274e-06]], thermal_energy_sum=-211.3506651, first_frequency=97.8481, octapole=[40.3334, 1.0359, -0.0002, 2.2794, 4.1347, 0.0, 1.4676, 1.1934, -0.0001, 0.0], hirshfeld_charges=[], owner_id=1, bonds=[[1, 0, 1], [2, 1, 1], [3, 2, 1], [4, 3, 3], [5, 0, 1], [6, 0, 1], [7, 0, 1], [8, 1, 1], [9, 1, 1], [10, 2, 1], [11, 2, 1]], keywords=' %chk=dsgdb9nsd_000122.chk  %mem=60GB  %nprocshared=32  Will use up to   32 processors via shared memory.\\n #p opt freq b3lyp/6-311+g** em=gd3bj', single_point_energy=-211.4591631, thermal_enthalpy_sum=-211.3497209, first_vibration_mode=[0.0, 0.0, 0.20000000298023224, 0.0, 0.0, -0.18000000715255737, 0.0, 0.0, -0.1899999976158142, 0.0, 0.0, -0.019999999552965164, 0.0, 0.0, 0.18000000715255737, 0.0, 0.0, 0.12999999523162842, 0.1599999964237213, 0.20999999344348907, 0.3799999952316284, -0.1599999964237213, -0.20999999344348907, 0.3799999952316284, 0.1599999964237213, 0.14000000059604645, -0.3100000023841858, -0.1599999964237213, -0.14000000059604645, -0.3100000023841858, 0.07000000029802322, 0.05999999865889549, -0.23999999463558197, -0.07000000029802322, -0.05999999865889549, -0.23999999463558197], hexadecapole=[-764.6538, -90.9751, -53.6359, -20.5561, 0.0002, -3.1014, 0.0, 0.0001, 0.0, -125.369, -118.9472, -21.4959, -0.0001, 0.0, 0.5858], is_TS=False, molecule_id=1591880, formal_charges=[0, 0, 0, 0, 0, 0, 0, 0, 0, 0, 0, 0], solvent_model='', zero_point_correction=0.102531, thermal_free_energy_sum=-211.3856335, second_frequency=166.8277, nbo_bond_order=[[0.0, 1.0, 1.0, -1.2498629058], [0.0, 5.0, 1.0, -1.0210517615999999], [0.0, 6.0, 1.0, -1.025257904], [0.0, 7.0, 1.0, -1.025257904], [1.0, 2.0, 1.0, -1.2373144335], [1.0, 8.0, 1.0, -1.0110340972], [1.0, 9.0, 1.0, -1.0110340972], [2.0, 3.0, 1.0, -1.4353037279999998], [2.0, 10.0, 1.0, -1.0431271333], [2.0, 11.0, 1.0, -1.0431271333], [3.0, 4.0, 3.0, -3.5012252724999997]], is_optimized=True, formal_spins=[0, 0, 0, 0, 0, 0, 0, 0, 0, 0, 0, 0], energy_correction=0.108498, alpha_homo=-0.33243000507354736, second_vibration_mode=[0.03999999910593033, 0.20000000298023224, 0.0, 0.1599999964237213, -0.12999999523162842, 0.0, 0.019999999552965164, -0.27000001072883606, 0.0, -0.029999999329447746, -0.14000000059604645, 0.0, -0.20000000298023224, 0.28999999165534973, 0.0, 0.25, 0.3799999952316284, 0.0, -0.11999999731779099, 0.25, 0.0, -0.11999999731779099, 0.25, 0.0, 0.28999999165534973, -0.1599999964237213, 0.0, 0.28999999165534973, -0.1599999964237213, 0.0, 0.0, -0.25, -0.009999999776482582, 0.0, -0.25, 0.009999999776482582], wiberg_bond_order=[], is_error=False),\n",
       " Snapshot(standard_coords=[[-1.8573499917984009, 0.023927999660372734, -0.29675599932670593], [-0.66252201795578, -0.6048049926757812, 0.4242349863052368], [0.687923014163971, 0.08979299664497375, 0.047129999846220016], [1.7329959869384766, -0.6594280004501343, -0.2649439871311188], [0.6600750088691711, 1.3489420413970947, 0.09528200328350067], [-1.7934069633483887, -0.15173199772834778, -1.3767640590667725], [-2.816551923751831, -0.3774459958076477, 0.056304000318050385], [-1.8388320207595825, 1.1044199466705322, -0.13762399554252625], [-0.7941629886627197, -0.4831719994544983, 1.508005976676941], [-0.6227560043334961, -1.6831680536270142, 0.22370600700378418], [1.4458240270614624, -1.6379330158233643, -0.22893500328063965]], solvent='', enthalpy_correction=0.09506, alpha_lumo=-0.023250000551342964, spin_eginvalue=None, mo_bond_order=[], id=6918, frame_id=13, qm_software='Gaussian', temperature=298.15, gibbs_free_energy_correction=0.059561, alpha_gap=0.14677999913692474, spin_multiplicity=None, atom_atom_overlap_bond_order=[], hash_token='bd8ad314410ede212dfe4671c337e3711e31f0ccdb423f88ffdfc57c91eb7f14', filename='dsgdb9nsd_000073-7-.log', qm_software_version='Gaussian 16:  ES64L-G16RevC.01  3-Jul-2019', mulliken_charge=[-0.440672, -0.289789, 0.027115, -0.493289, -0.482622, 0.114244, 0.082136, 0.15708, 0.122113, 0.085317, 0.118366], zero_point_sum=-247.941844, beta_homo=None, dipole=[-5.8296, -2.8511, 0.6637], nbo_charges=[-0.5804, -0.46877, 0.57535, -0.90615, -0.80073, 0.17997, 0.16165, 0.21511, 0.18033, 0.16181, 0.28183], commit_time=datetime.datetime(2024, 4, 27, 22, 34, 6, 657256), coords=[[0.09449899941682816, 1.4636820554733276, -0.10551799833774567], [-0.18675699830055237, -0.021788999438285828, 0.13326199352741241], [0.5718759894371033, -0.5732939839363098, 1.3857380151748657], [1.2269209623336792, -1.7189849615097046, 1.2897659540176392], [0.46969500184059143, 0.14381800591945648, 2.4171719551086426], [1.1450380086898804, 1.6196379661560059, -0.3764599859714508], [-0.5285940170288086, 1.8831839561462402, -0.9065150022506714], [-0.09141899645328522, 2.012878894805908, 0.8201959729194641], [-1.2602460384368896, -0.15664300322532654, 0.3233090043067932], [0.056768998503685, -0.6033869981765747, -0.7651249766349792], [1.138962984085083, -2.0570929050445557, 0.33102598786354065]], basis='6-311+G(d,p)', spin_densities=[], beta_lumo=None, beta_gap=None, quadrupole=[-51.0364, -41.2334, -36.0009, -1.0289, 1.6617, -0.4645], lowdin_charges=[], update_time=datetime.datetime(2024, 4, 28, 21, 53, 16, 849094), atoms=[6, 6, 6, 7, 8, 1, 1, 1, 1, 1, 1], functional='rb3lyp', gradients=[[-3.3383999834768474e-05, -2.777800000330899e-05, -5.790000159322517e-07], [2.4778000806691125e-05, 5.197000064072199e-05, 1.3349999790079892e-06], [-1.400600012857467e-05, -7.383499905699864e-05, -6.298300286289304e-05], [-1.6537000192329288e-05, 1.831800000218209e-05, -3.402199945412576e-05], [-7.300000106624793e-07, 4.687600085162558e-05, 5.262799822958186e-05], [1.1590000212891027e-05, 2.832000063790474e-06, 3.9780002225597855e-06], [8.185999831766821e-06, -3.690000085043721e-06, 1.0889999657592853e-06], [7.650000043213367e-06, 2.8259998998692026e-06, -9.35999992179859e-07], [4.0079999052977655e-06, -1.4150000424706377e-05, 1.4612999621022027e-05], [-3.5709999792743474e-06, -4.99399993714178e-06, -5.4689999160473235e-06], [1.2018000234093051e-05, 1.6239999922618154e-06, 3.0347000574693084e-05]], thermal_energy_sum=-247.93624, first_frequency=67.2327, octapole=[-24.6631, -8.1734, 1.819, -4.3264, 5.4584, 5.4225, -2.8177, 2.1469, -1.2115, -1.2526], hirshfeld_charges=[], owner_id=1, bonds=[[1, 0, 1], [2, 1, 1], [3, 2, 2], [4, 2, 1], [5, 0, 1], [6, 0, 1], [7, 0, 1], [8, 1, 1], [9, 1, 1], [10, 3, 1]], keywords=' %chk=dsgdb9nsd_000073-7.chk  %mem=60GB  %nprocshared=32  Will use up to   32 processors via shared memory.\\n #p opt freq b3lyp/6-311+g** em=gd3bj', single_point_energy=-248.0303554, thermal_enthalpy_sum=-247.9352958, first_vibration_mode=[-0.05000000074505806, 0.11999999731779099, 0.14000000059604645, 0.009999999776482582, -0.10000000149011612, -0.15000000596046448, 0.009999999776482582, -0.019999999552965164, -0.03999999910593033, 0.10000000149011612, 0.019999999552965164, 0.18000000715255737, -0.07000000029802322, -0.019999999552965164, -0.11999999731779099, -0.17000000178813934, 0.4000000059604645, 0.07999999821186066, -0.019999999552965164, 0.05999999865889549, 0.14000000059604645, 0.009999999776482582, 0.07999999821186066, 0.4099999964237213, 0.10000000149011612, -0.41999998688697815, -0.10999999940395355, -0.019999999552965164, -0.03999999910593033, -0.46000000834465027, 0.15000000596046448, 0.0, 0.18000000715255737], hexadecapole=[-517.386, -188.7133, -79.0955, 15.1024, 6.2369, -10.6076, 1.3882, 4.1951, 0.3007, -107.4013, -91.708, -46.0741, -1.1467, 0.285, 2.1905], is_TS=False, molecule_id=6839, formal_charges=[0, 0, 0, 0, -1, 0, 0, 0, 0, 0, 0], solvent_model='', zero_point_correction=0.088511, thermal_free_energy_sum=-247.9707946, second_frequency=221.856, nbo_bond_order=[[0.0, 1.0, 1.0, -0.8900628828], [0.0, 5.0, 1.0, -0.6896021496], [0.0, 6.0, 1.0, -0.703182348], [0.0, 7.0, 1.0, -0.6757536456], [1.0, 2.0, 1.0, -0.7964128656], [1.0, 8.0, 1.0, -0.6424242924], [1.0, 9.0, 1.0, -0.6611097204999999], [2.0, 3.0, 2.0, -1.4349079448], [2.0, 4.0, 1.0, -1.5481285443], [3.0, 10.0, 1.0, -0.742868931]], is_optimized=True, formal_spins=[0, 0, 0, 0, 0, 0, 0, 0, 0, 0, 0], energy_correction=0.094115, alpha_homo=-0.023250000551342964, second_vibration_mode=[0.019999999552965164, -0.009999999776482582, 0.0, 0.0, 0.019999999552965164, 0.03999999910593033, 0.0, 0.0, 0.009999999776482582, -0.029999999329447746, -0.019999999552965164, -0.009999999776482582, 0.009999999776482582, 0.009999999776482582, -0.029999999329447746, 0.36000001430511475, 0.44999998807907104, -0.05000000074505806, 0.03999999910593033, -0.4300000071525574, -0.4099999964237213, -0.3499999940395355, -0.05999999865889549, 0.41999998688697815, -0.029999999329447746, 0.019999999552965164, 0.03999999910593033, 0.009999999776482582, 0.019999999552965164, 0.03999999910593033, -0.029999999329447746, -0.019999999552965164, 0.03999999910593033], wiberg_bond_order=[], is_error=False),\n",
       " Snapshot(standard_coords=[[-1.55246102809906, -0.4492650032043457, 0.0], [-0.480571985244751, 0.6529930233955383, -9.999999974752427e-07], [0.8768389821052551, 0.11280400305986404, 4.999999873689376e-06], [1.9403189420700073, -0.3327679932117462, -1.9999999949504854e-06], [-1.4596760272979736, -1.081982970237732, -0.8841239809989929], [-1.4596710205078125, -1.0819799900054932, 0.8841249942779541], [-2.5462419986724854, 0.00228899996727705, 1.9999999949504854e-06], [-0.5897349715232849, 1.295928955078125, -0.8783310055732727], [-0.5897380113601685, 1.295928955078125, 0.8783259987831116]], solvent='', enthalpy_correction=0.079732, alpha_lumo=-0.33520999550819397, spin_eginvalue=None, mo_bond_order=[], id=1634048, frame_id=6, qm_software='Gaussian', temperature=298.15, gibbs_free_energy_correction=0.047408, alpha_gap=0.322050005197525, spin_multiplicity=None, atom_atom_overlap_bond_order=[], hash_token='8436d499bf71412c266f089dce3d674b37c49f8d32f2743cc35870bdad1787e4', filename='dsgdb9nsd_000031.log', qm_software_version='Gaussian 16:  ES64L-G16RevC.01  3-Jul-2019', mulliken_charge=[-0.452609, -0.239514, 0.185314, -0.321357, 0.157159, 0.157159, 0.148785, 0.182532, 0.182531], zero_point_sum=-172.055499, beta_homo=None, dipole=[-3.9295, 1.353, 0.0], nbo_charges=[-0.56054, -0.4915, 0.29547, -0.34213, 0.20922, 0.20922, 0.20629, 0.23698, 0.23698], commit_time=datetime.datetime(2024, 4, 29, 10, 51, 23, 948404), coords=[[-0.02469000034034252, 1.5465610027313232, 0.020502999424934387], [0.010765999555587769, 0.009844000451266766, -0.013604000210762024], [0.6870200037956238, -0.5075560212135315, -1.2007629871368408], [1.2241389751434326, -0.8964239954948425, -2.1440610885620117], [0.9855319857597351, 1.958946943283081, 0.022244000807404518], [-0.553879976272583, 1.9427310228347778, -0.8476120233535767], [-0.5380769968032837, 1.8839800357818604, 0.9227690100669861], [0.5255460143089294, -0.38287198543548584, 0.8681679964065552], [-1.003777027130127, -0.39897599816322327, 0.004017000086605549]], basis='6-311+G(d,p)', spin_densities=[], beta_lumo=None, beta_gap=None, quadrupole=[-31.5915, -24.2359, -24.2251, 1.3692, 0.0, 0.0], lowdin_charges=[], update_time=datetime.datetime(2024, 4, 29, 10, 51, 24, 64001), atoms=[6, 6, 6, 7, 1, 1, 1, 1, 1], functional='rb3lyp', gradients=[[5.958000201644609e-06, 2.1699999308566476e-07, -1.1217999599466566e-05], [-1.758699909260031e-05, -3.914999979315326e-06, 3.191900032106787e-05], [-6.9269999585230835e-06, 1.15550001282827e-05, 1.4197000382409897e-05], [1.3122999916959088e-05, -9.291999958804809e-06, -2.3901999156805687e-05], [5.466999937198125e-06, 1.2939999578520656e-06, 1.100999952541315e-06], [-3.6869998893962475e-06, 1.4349999446494621e-06, -3.975999788963236e-06], [-8.069999921644921e-07, -5.000000058430487e-08, 1.5460000213352032e-06], [3.3149999580928124e-06, -4.3899999013774504e-07, -4.76100012747338e-06], [1.1460000450824737e-06, -8.060000027398928e-07, -4.904999968857737e-06]], thermal_energy_sum=-172.0508137, first_frequency=212.5477, octapole=[-21.3967, 1.9815, 0.0, -2.46, 4.0482, 0.0, -1.5473, 0.7433, 0.0, 0.0], hirshfeld_charges=[], owner_id=1, bonds=[[1, 0, 1], [2, 1, 1], [3, 2, 3], [4, 0, 1], [5, 0, 1], [6, 0, 1], [7, 1, 1], [8, 1, 1]], keywords=' %chk=dsgdb9nsd_000031.chk  %mem=60GB  %nprocshared=32  Will use up to   32 processors via shared memory.\\n #p opt freq b3lyp/6-311+g** em=gd3bj', single_point_energy=-172.1296014, thermal_enthalpy_sum=-172.0498695, first_vibration_mode=[0.25999999046325684, -0.10000000149011612, 0.0, -0.029999999329447746, 0.1899999976158142, 0.0, -0.03999999910593033, 0.20999999344348907, 0.0, -0.2199999988079071, -0.23000000417232513, 0.0, 0.4699999988079071, -0.07999999821186066, 0.0, 0.4699999988079071, -0.07999999821186066, 0.0, 0.11999999731779099, -0.41999998688697815, 0.0, -0.14000000059604645, 0.15000000596046448, -0.009999999776482582, -0.14000000059604645, 0.15000000596046448, 0.009999999776482582], hexadecapole=[-356.7207, -75.4105, -39.0732, 5.9607, 0.0, 0.5396, 0.0, 0.0, 0.0, -68.493, -61.5326, -16.5704, 0.0, 0.0, 0.4659], is_TS=False, molecule_id=1602754, formal_charges=[0, 0, 0, 0, 0, 0, 0, 0, 0], solvent_model='', zero_point_correction=0.074103, thermal_free_energy_sum=-172.0821936, second_frequency=220.1998, nbo_bond_order=[[0.0, 1.0, 1.0, -1.2619059179], [0.0, 4.0, 1.0, -1.0437801451000002], [0.0, 5.0, 1.0, -1.0437801451000002], [0.0, 6.0, 1.0, -1.0416347865], [1.0, 2.0, 1.0, -1.4373095248], [1.0, 7.0, 1.0, -1.046803904], [1.0, 8.0, 1.0, -1.0468235328], [2.0, 3.0, 3.0, -3.5098953473999996]], is_optimized=True, formal_spins=[0, 0, 0, 0, 0, 0, 0, 0, 0], energy_correction=0.078788, alpha_homo=-0.33520999550819397, second_vibration_mode=[0.0, 0.0, 0.019999999552965164, 0.0, 0.0, -0.05000000074505806, 0.0, 0.0, -0.05999999865889549, 0.0, 0.0, 0.07999999821186066, -0.3799999952316284, 0.3100000023841858, -0.25, 0.3799999952316284, -0.3100000023841858, -0.25, 0.0, 0.0, 0.6100000143051147, -0.03999999910593033, 0.0, -0.05000000074505806, 0.03999999910593033, 0.0, -0.05000000074505806], wiberg_bond_order=[], is_error=False),\n",
       " Snapshot(standard_coords=[[-2.0286929607391357, 0.2750680148601532, -0.06197800114750862], [-0.8156560063362122, -0.6096829771995544, 0.19660699367523193], [0.3538160026073456, -0.10695900022983551, -0.521651029586792], [1.1435229778289795, 0.902534008026123, 0.17815999686717987], [1.6536109447479248, -0.48889198899269104, 0.017051000148057938], [-1.8527250289916992, 1.2925479412078857, 0.29774901270866394], [-2.2422749996185303, 0.3267750144004822, -1.131762981414795], [-2.910717010498047, -0.11776400357484818, 0.45056799054145813], [-0.6225900053977966, -0.6755210161209106, 1.2822649478912354], [-1.0070799589157104, -1.6270619630813599, -0.15834000706672668], [1.5361380577087402, 1.7074979543685913, -0.4328500032424927], [0.8162609934806824, 1.1970839500427246, 1.1734329462051392], [1.6669750213623047, -1.116860032081604, 0.9055560231208801], [2.4225900173187256, -0.7121469974517822, -0.714106023311615]], solvent='', enthalpy_correction=0.132506, alpha_lumo=-0.24110999703407288, spin_eginvalue=None, mo_bond_order=[], id=1634130, frame_id=6, qm_software='Gaussian', temperature=298.15, gibbs_free_energy_correction=0.097382, alpha_gap=0.25012001395225525, spin_multiplicity=None, atom_atom_overlap_bond_order=[], hash_token='29fae900ea821dbb0720bcf89fca2333410d0f607dcb546ee6aeb21d72d00a29', filename='dsgdb9nsd_000151.log', qm_software_version='Gaussian 16:  ES64L-G16RevC.01  3-Jul-2019', mulliken_charge=[-0.453533, -0.183971, -0.027312, -0.332977, -0.231099, 0.130219, 0.147812, 0.13442, 0.099991, 0.145792, 0.152731, 0.13685, 0.131374, 0.149703], zero_point_sum=-212.499711, beta_homo=None, dipole=[0.1072, -0.0833, 1.2286], nbo_charges=[-0.58271, -0.17348, -0.52166, -0.21923, -0.2136, 0.19595, 0.20597, 0.19999, 0.15897, 0.19087, 0.19557, 0.18385, 0.18421, 0.19531], commit_time=datetime.datetime(2024, 4, 29, 10, 51, 26, 481224), coords=[[0.1891230046749115, 1.4645119905471802, 0.07583600282669067], [-0.20171000063419342, 0.002816000021994114, -0.10250400006771088], [0.4895699918270111, -0.5811480283737183, -1.2502880096435547], [1.8129229545593262, -1.13612699508667, -0.9797620177268982], [0.6483380198478699, -2.0303421020507812, -1.237313985824585], [1.2604670524597168, 1.5602530241012573, 0.27253100275993347], [-0.041172999888658524, 2.03405499458313, -0.8271129727363586], [-0.35071301460266113, 1.9099260568618774, 0.9155790209770203], [0.01217000000178814, -0.5595380067825317, 0.8239269852638245], [-1.2768559455871582, -0.08113700151443481, -0.28879299759864807], [2.562851905822754, -0.9736899733543396, -1.745705008506775], [2.180746078491211, -1.0854870080947876, 0.04325700178742409], [0.2448119968175888, -2.574695110321045, -0.3859559893608093], [0.5372800230979919, -2.527829885482788, -2.1943581104278564]], basis='6-311+G(d,p)', spin_densities=[], beta_lumo=None, beta_gap=None, quadrupole=[-31.7037, -31.906, -34.6475, 0.3572, -0.3814, -0.1523], lowdin_charges=[], update_time=datetime.datetime(2024, 4, 29, 10, 51, 26, 605592), atoms=[6, 6, 7, 6, 6, 1, 1, 1, 1, 1, 1, 1, 1, 1], functional='rb3lyp', gradients=[[-2.0325000150478445e-05, -1.8249000277137384e-05, 8.961999810708221e-06], [0.00011680200259434059, -2.796400076476857e-05, 6.908000159455696e-06], [-7.085000106599182e-05, 8.876399806467816e-05, -8.558399713365361e-05], [-2.1055999241070822e-05, -5.406399941421114e-05, 6.067199865356088e-05], [3.299500167486258e-05, 3.2030000056693098e-06, 8.061800326686352e-05], [4.7205001465044916e-05, 2.3074000637279823e-05, 9.976000001188368e-06], [-1.5020000319054816e-06, 2.112500078510493e-05, -3.756099977181293e-05], [-1.984899972740095e-05, 1.2456000149541069e-05, 2.7547999707167037e-05], [-1.433200031897286e-05, -8.666999747219961e-06, 1.4743000065209344e-05], [-8.564600284444168e-05, 6.529999723170476e-07, 2.0140000742685515e-06], [3.282300167484209e-05, 1.3212000339990482e-05, -4.035700112581253e-05], [2.0339999537100084e-05, 1.1148000339744613e-05, 1.1027999789803289e-05], [-2.197499998146668e-05, -3.329000173835084e-05, -6.015000053594122e-06], [5.370000053517288e-06, -3.14009994326625e-05, -5.295099981594831e-05]], thermal_energy_sum=-212.4940264, first_frequency=122.9896, octapole=[1.5191, 0.699, 1.7205, 1.584, -2.2725, -3.2245, 0.0921, 0.2362, -0.3314, -0.8289], hirshfeld_charges=[], owner_id=1, bonds=[[1, 0, 1], [2, 1, 1], [3, 2, 1], [4, 3, 1], [4, 2, 1], [5, 0, 1], [6, 0, 1], [7, 0, 1], [8, 1, 1], [9, 1, 1], [10, 3, 1], [11, 3, 1], [12, 4, 1], [13, 4, 1]], keywords=' %chk=dsgdb9nsd_000151.chk  %mem=60GB  %nprocshared=32  Will use up to   32 processors via shared memory.\\n #p opt freq b3lyp/6-311+g** em=gd3bj', single_point_energy=-212.6255879, thermal_enthalpy_sum=-212.4930822, first_vibration_mode=[-0.10000000149011612, -0.10999999940395355, -0.10999999940395355, 0.009999999776482582, 0.10000000149011612, 0.10999999940395355, -0.029999999329447746, 0.11999999731779099, 0.05999999865889549, 0.14000000059604645, -0.029999999329447746, 0.07999999821186066, -0.009999999776482582, -0.05999999865889549, -0.11999999731779099, -0.23999999463558197, 0.0, -0.3700000047683716, -0.10000000149011612, -0.4099999964237213, -0.12999999523162842, -0.05999999865889549, -0.10000000149011612, -0.019999999552965164, -0.019999999552965164, 0.3199999928474426, 0.12999999523162842, 0.15000000596046448, 0.019999999552965164, 0.2800000011920929, 0.15000000596046448, 0.0, 0.12999999523162842, 0.25999999046325684, -0.10000000149011612, 0.14000000059604645, 0.029999999329447746, -0.15000000596046448, -0.1899999976158142, -0.10999999940395355, -0.05000000074505806, -0.2199999988079071], hexadecapole=[-457.1441, -130.8874, -82.2347, -0.5473, -10.0841, 3.4154, 0.2546, 1.057, 0.0661, -96.5167, -86.8525, -34.5679, -1.56, -0.8187, -0.3018], is_TS=False, molecule_id=1602836, formal_charges=[0, 0, 0, 0, 0, 0, 0, 0, 0, 0, 0, 0, 0, 0], solvent_model='', zero_point_correction=0.125877, thermal_free_energy_sum=-212.5282059, second_frequency=229.1119, nbo_bond_order=[[0.0, 1.0, 1.0, -1.218776166], [0.0, 5.0, 1.0, -0.9826088688], [0.0, 6.0, 1.0, -0.9771571605], [0.0, 7.0, 1.0, -0.984052652], [1.0, 2.0, 1.0, -1.407017235], [1.0, 8.0, 1.0, -0.9943630854000001], [1.0, 9.0, 1.0, -0.9797035776], [2.0, 3.0, 1.0, -1.2076603123], [2.0, 4.0, 1.0, -1.2102038172000003], [3.0, 4.0, 1.0, -1.0876010656], [3.0, 10.0, 1.0, -1.0430135344], [3.0, 11.0, 1.0, -1.0525680054], [4.0, 12.0, 1.0, -1.0514353234], [4.0, 13.0, 1.0, -1.0418163106]], is_optimized=True, formal_spins=[0, 0, 0, 0, 0, 0, 0, 0, 0, 0, 0, 0, 0, 0], energy_correction=0.131561, alpha_homo=-0.24110999703407288, second_vibration_mode=[-0.03999999910593033, -0.019999999552965164, 0.0, -0.009999999776482582, 0.019999999552965164, 0.019999999552965164, 0.0, 0.009999999776482582, 0.019999999552965164, 0.05999999865889549, 0.009999999776482582, -0.05000000074505806, -0.009999999776482582, -0.019999999552965164, 0.009999999776482582, -0.3100000023841858, -0.14000000059604645, 0.47999998927116394, 0.3100000023841858, 0.3700000047683716, -0.05000000074505806, -0.15000000596046448, -0.36000001430511475, -0.44999998807907104, -0.029999999329447746, 0.009999999776482582, 0.019999999552965164, 0.019999999552965164, 0.019999999552965164, 0.009999999776482582, 0.07000000029802322, -0.03999999910593033, -0.10999999940395355, 0.10999999940395355, 0.07999999821186066, -0.05000000074505806, -0.009999999776482582, 0.029999999329447746, 0.03999999910593033, -0.029999999329447746, -0.09000000357627869, 0.0], wiberg_bond_order=[], is_error=False),\n",
       " Snapshot(standard_coords=[[2.13978910446167, -0.17853300273418427, -0.4223479926586151], [1.0211540460586548, -0.1856440007686615, 0.5962049961090088], [-0.18438099324703217, 0.6134039759635925, 0.06252100318670273], [-1.3364089727401733, 0.11795900017023087, -0.0616770014166832], [-2.3561129570007324, -0.3690670132637024, -0.15567299723625183], [2.9797511100769043, -0.7352799773216248, 0.0008099999977275729], [1.8453799486160278, -0.6646980047225952, -1.3534590005874634], [2.4886980056762695, 0.8343709707260132, -0.6346250176429749], [0.6437770128250122, -1.1860699653625488, 0.8076909780502319], [1.2808339595794678, 0.3031109869480133, 1.5348299741744995], [-0.046066999435424805, 1.5845880508422852, -0.22058799862861633]], solvent='', enthalpy_correction=0.097974, alpha_lumo=-0.546180009841919, spin_eginvalue=None, mo_bond_order=[], id=869138, frame_id=13, qm_software='Gaussian', temperature=298.15, gibbs_free_energy_correction=0.061606, alpha_gap=0.2525300085544586, spin_multiplicity=None, atom_atom_overlap_bond_order=[], hash_token='b663ad537889495ff8ed38dd2376309d3c8c6d3e1b7e0487f12d7be88a4af6a5', filename='dsgdb9nsd_000129-7+.log', qm_software_version='Gaussian 16:  ES64L-G16RevC.01  3-Jul-2019', mulliken_charge=[-0.416453, -0.205403, -0.193162, 0.491478, -0.010686, 0.206095, 0.180589, 0.173414, 0.191815, 0.235322, 0.34699], zero_point_sum=-247.609045, beta_homo=None, dipole=[0.6321, 1.7042, 0.3569], nbo_charges=[-0.60713, -0.15199, -0.62393, 0.9851, -0.25205, 0.25658, 0.22931, 0.22451, 0.22642, 0.23704, 0.47614], commit_time=datetime.datetime(2024, 4, 28, 15, 53, 18, 333745), coords=[[-0.03351400047540665, 1.5185819864273071, -0.16774600744247437], [0.1547580063343048, 0.10177499800920486, 0.32829800248146057], [-1.1904430389404297, -0.6507480144500732, 0.300819993019104], [-1.3658440113067627, -1.7213319540023804, -0.3403860032558441], [-1.4776949882507324, -2.6829090118408203, -0.9308810234069824], [0.9347860217094421, 2.0225470066070557, -0.11316300183534622], [-0.37165701389312744, 1.5451430082321167, -1.2045459747314453], [-0.7324010133743286, 2.0779340267181396, 0.4579179883003235], [0.8334710001945496, -0.4810419976711273, -0.29433000087738037], [0.4822140038013458, 0.04123599827289581, 1.365813970565796], [-1.9845110177993774, -0.26030999422073364, 0.8102229833602905]], basis='6-311+G(d,p)', spin_densities=[], beta_lumo=None, beta_gap=None, quadrupole=[-19.2325, -22.6081, -26.3932, -1.6638, 0.8308, -1.0542], lowdin_charges=[], update_time=datetime.datetime(2024, 4, 29, 11, 2, 57, 88158), atoms=[6, 6, 7, 6, 8, 1, 1, 1, 1, 1, 1], functional='rb3lyp', gradients=[[2.014500023506116e-05, 8.582999726058915e-06, -1.3809999472869094e-06], [-0.00010072399891214445, -5.1159000577172264e-05, 7.325999831664376e-06], [8.310800330946222e-05, 0.00014824600657448173, -8.426300337305292e-05], [7.928300328785554e-05, -0.0001501079968875274, 0.00019055699522141367], [-5.612599852611311e-05, 8.221399912144989e-05, -9.288800356443971e-05], [-7.253000148921274e-06, 1.620000034563418e-06, -3.296999921076349e-06], [-1.5849999499550904e-06, 9.479999789618887e-07, -2.8879999263153877e-06], [-2.2960000478633447e-06, -1.3300000318849925e-06, 5.542000053537777e-06], [2.449000021442771e-06, -9.933000001183245e-06, -3.569999989849748e-06], [8.713000170246232e-06, 6.3910001699696295e-06, 1.5519999578827992e-06], [-2.571400000306312e-05, -3.547199958120473e-05, -1.668900040385779e-05]], thermal_energy_sum=-247.603093, first_frequency=49.0578, octapole=[3.123, 7.0313, 1.0332, -2.3144, 0.1273, -0.0943, -1.1148, -0.2542, -0.9787, 0.3894], hirshfeld_charges=[], owner_id=1, bonds=[[1, 0, 1], [2, 1, 1], [3, 2, 1], [4, 3, 3], [5, 0, 1], [6, 0, 1], [7, 0, 1], [8, 1, 1], [9, 1, 1], [10, 2, 1]], keywords=' %chk=dsgdb9nsd_000129-7.chk  %mem=60GB  %nprocshared=32  Will use up to   32 processors via shared memory.\\n #p opt freq b3lyp/6-311+g** em=gd3bj', single_point_energy=-247.7001225, thermal_enthalpy_sum=-247.6021488, first_vibration_mode=[-0.15000000596046448, -0.12999999523162842, -0.11999999731779099, 0.029999999329447746, 0.10999999940395355, 0.07999999821186066, -0.019999999552965164, 0.10999999940395355, 0.20000000298023224, 0.03999999910593033, 0.009999999776482582, 0.009999999776482582, 0.10000000149011612, -0.07999999821186066, -0.15000000596046448, -0.10999999940395355, -0.11999999731779099, -0.1899999976158142, -0.36000001430511475, -0.27000001072883606, 0.009999999776482582, -0.11999999731779099, -0.1899999976158142, -0.36000001430511475, 0.0, 0.17000000178813934, 0.3199999928474426, 0.23000000417232513, 0.23999999463558197, -0.03999999910593033, -0.09000000357627869, 0.1599999964237213, 0.3400000035762787], hexadecapole=[-450.8967, -47.6653, -59.5258, -8.0035, 1.8642, 3.0286, -4.0443, 4.3786, 1.9813, -86.5923, -88.2462, -19.8871, -1.7102, 0.9035, 0.6582], is_TS=False, molecule_id=849769, formal_charges=[0, 0, 0, 0, 1, 0, 0, 0, 0, 0, 0], solvent_model='', zero_point_correction=0.091077, thermal_free_energy_sum=-247.6385161, second_frequency=187.937, nbo_bond_order=[[0.0, 1.0, 1.0, -1.6695643928], [0.0, 5.0, 1.0, -1.3284034371], [0.0, 6.0, 1.0, -1.3577933632], [0.0, 7.0, 1.0, -1.3602783552], [1.0, 2.0, 1.0, -1.86202989], [1.0, 8.0, 1.0, -1.4629752980000001], [1.0, 9.0, 1.0, -1.438926341], [2.0, 3.0, 1.0, -2.4490618278], [2.0, 10.0, 1.0, -1.8319900448], [3.0, 4.0, 3.0, -5.7952233845]], is_optimized=True, formal_spins=[0, 0, 0, 0, 0, 0, 0, 0, 0, 0, 0], energy_correction=0.097029, alpha_homo=-0.546180009841919, second_vibration_mode=[-0.029999999329447746, -0.05000000074505806, 0.05000000074505806, -0.11999999731779099, -0.019999999552965164, -0.05999999865889549, 0.0, 0.1599999964237213, -0.05999999865889549, 0.029999999329447746, 0.09000000357627869, -0.019999999552965164, 0.12999999523162842, -0.14000000059604645, 0.07999999821186066, -0.25, -0.46000000834465027, -0.05000000074505806, -0.09000000357627869, 0.33000001311302185, -0.12999999523162842, 0.3100000023841858, -0.10000000149011612, 0.4000000059604645, -0.25999999046325684, -0.009999999776482582, -0.23999999463558197, -0.15000000596046448, -0.1899999976158142, 0.029999999329447746, 0.019999999552965164, 0.18000000715255737, 0.0], wiberg_bond_order=[], is_error=False),\n",
       " Snapshot(standard_coords=[[-1.993873953819275, 0.2840760052204132, -0.03428800031542778], [-0.7492830157279968, -0.5841500163078308, 0.1871349960565567], [0.39401501417160034, -0.10687199980020523, -0.5586379766464233], [1.2309859991073608, 0.8331210017204285, 0.17980800569057465], [1.7753520011901855, -0.5642129778862, -0.0958859995007515], [-1.8114759922027588, 1.30697500705719, 0.31075501441955566], [-2.2375810146331787, 0.3295170068740845, -1.1002429723739624], [-2.86358904838562, -0.11097899824380875, 0.5074260234832764], [-0.5284600257873535, -0.64752197265625, 1.2764970064163208], [-0.964821994304657, -1.612617015838623, -0.1396860033273697], [1.5963380336761475, 1.6948540210723877, -0.3852199912071228], [0.8546209931373596, 1.1165870428085327, 1.1719180345535278], [1.6177769899368286, -1.1417189836502075, 0.8484089970588684]], solvent='', enthalpy_correction=0.116032, alpha_lumo=0.04318000003695488, spin_eginvalue=None, mo_bond_order=[], id=573, frame_id=9, qm_software='Gaussian', temperature=298.15, gibbs_free_energy_correction=0.080923, alpha_gap=0.07626999914646149, spin_multiplicity=None, atom_atom_overlap_bond_order=[], hash_token='eeb6a2ece9f3e4678ee715617a35135b4c646a6cc06cc5bdaef83a556d26bbe8', filename='dsgdb9nsd_000151-9-.log', qm_software_version='Gaussian 16:  ES64L-G16RevC.01  3-Jul-2019', mulliken_charge=[-0.489374, -0.216599, -0.048876, -0.637672, -0.264829, 0.117605, 0.124573, 0.090606, 0.067911, 0.103718, 0.083524, 0.050664, 0.018749], zero_point_sum=-211.850596, beta_homo=None, dipole=[-6.9955, 2.035, 2.2332], nbo_charges=[-0.58268, -0.18376, -0.61129, -0.28165, -0.54047, 0.18603, 0.18797, 0.16941, 0.13148, 0.16264, 0.14689, 0.13246, 0.08296], commit_time=datetime.datetime(2024, 4, 27, 22, 30, 44, 151027), coords=[[0.18099500238895416, 1.4741630554199219, 0.07845000177621841], [-0.1638440042734146, -0.007038000039756298, -0.11898999661207199], [0.49835699796676636, -0.5770310163497925, -1.2712490558624268], [1.7923070192337036, -1.1810059547424316, -0.9707220196723938], [0.6269279718399048, -2.0974791049957275, -1.3268860578536987], [1.2547930479049683, 1.5954910516738892, 0.25418800115585327], [-0.0772090032696724, 2.04467511177063, -0.8190829753875732], [-0.3575020134449005, 1.903771996498108, 0.933659017086029], [0.0751350000500679, -0.5720570087432861, 0.8100590109825134], [-1.2499200105667114, -0.10760100185871124, -0.2650730013847351], [2.590069055557251, -0.9878730177879333, -1.692939043045044], [2.1343190670013428, -1.064795970916748, 0.06649100035429001], [0.23768900334835052, -2.483994960784912, -0.352649986743927]], basis='6-311+G(d,p)', spin_densities=[], beta_lumo=None, beta_gap=None, quadrupole=[-58.9781, -40.7044, -42.1738, 6.2643, 4.0378, -1.2114], lowdin_charges=[], update_time=datetime.datetime(2024, 4, 29, 9, 3, 37, 450560), atoms=[6, 6, 7, 6, 6, 1, 1, 1, 1, 1, 1, 1, 1], functional='rb3lyp', gradients=[[-2.5910001113516046e-06, 1.3552000382333063e-05, -3.1259999104804592e-06], [2.3319000320043415e-05, -1.156899998022709e-05, 2.7592999686021358e-05], [-9.156500163953751e-05, 0.00012512899411376566, -8.475500362692401e-05], [-0.00011480200191726908, -0.00017561799904797226, 3.446900154813193e-05], [9.141700138570741e-05, 1.3707000107388012e-05, 1.6257999959634617e-05], [2.69099996330624e-06, -4.341000021668151e-06, -2.0219999896653462e-06], [-1.6689999711161363e-06, 1.2909999895782676e-06, 9.609999551685178e-07], [-1.1710000080711325e-06, 3.4130000585719245e-06, 3.947000095649855e-06], [2.407000010862248e-06, -1.0398999620520044e-05, 7.406999884551624e-06], [-2.5599999844416743e-06, -2.6079999315697933e-06, -6.044000201654853e-06], [2.873599987651687e-05, 6.332999873848166e-06, -3.4189999951195205e-06], [5.06370015500579e-05, 4.685000021709129e-05, 2.1657999241142534e-05], [1.515199983259663e-05, -5.741000222769799e-06, -1.2925999726576265e-05]], thermal_energy_sum=-211.8448653, first_frequency=129.8841, octapole=[-56.7098, 6.6359, 1.7719, -11.4603, 15.2604, 9.6679, -10.0033, 3.9841, 0.6573, -4.8616], hirshfeld_charges=[], owner_id=1, bonds=[[1, 0, 1], [2, 1, 1], [3, 2, 1], [4, 3, 1], [4, 2, 1], [5, 0, 1], [6, 0, 1], [7, 0, 1], [8, 1, 1], [9, 1, 1], [10, 3, 1], [11, 3, 1], [12, 4, 1]], keywords=' %chk=dsgdb9nsd_000151-9.chk  %mem=60GB  %nprocshared=32  Will use up to   32 processors via shared memory.\\n #p opt freq b3lyp/6-311+g** em=gd3bj', single_point_energy=-211.959953, thermal_enthalpy_sum=-211.8439211, first_vibration_mode=[-0.10999999940395355, -0.11999999731779099, -0.10999999940395355, 0.009999999776482582, 0.10999999940395355, 0.10000000149011612, -0.029999999329447746, 0.14000000059604645, 0.05000000074505806, 0.1599999964237213, -0.029999999329447746, 0.07000000029802322, -0.03999999910593033, -0.07000000029802322, -0.12999999523162842, -0.27000001072883606, -0.009999999776482582, -0.3700000047683716, -0.12999999523162842, -0.4399999976158142, -0.11999999731779099, -0.05000000074505806, -0.11999999731779099, 0.0, -0.019999999552965164, 0.3100000023841858, 0.11999999731779099, 0.17000000178813934, 0.029999999329447746, 0.25999999046325684, 0.20999999344348907, -0.019999999552965164, 0.10999999940395355, 0.2800000011920929, -0.07999999821186066, 0.12999999523162842, -0.019999999552965164, -0.15000000596046448, -0.17000000178813934], hexadecapole=[-716.8942, -171.5723, -116.3795, 57.7852, 34.5067, 19.8261, -2.9781, 10.0686, -1.1677, -139.6405, -121.516, -48.1906, -12.3453, 5.784, 8.251], is_TS=False, molecule_id=564, formal_charges=[0, 0, 0, 0, -1, 0, 0, 0, 0, 0, 0, 0, 0], solvent_model='', zero_point_correction=0.109357, thermal_free_energy_sum=-211.8790304, second_frequency=216.415, nbo_bond_order=[[0.0, 1.0, 1.0, -0.9043572216], [0.0, 5.0, 1.0, -0.7067854164], [0.0, 6.0, 1.0, -0.7047220222], [0.0, 7.0, 1.0, -0.7179204882], [1.0, 2.0, 1.0, -1.0525163868], [1.0, 8.0, 1.0, -0.6506293512], [1.0, 9.0, 1.0, -0.6484952331], [2.0, 3.0, 1.0, -0.8315562372], [2.0, 4.0, 1.0, -0.6554534364000001], [3.0, 4.0, 1.0, -0.599562778], [3.0, 10.0, 1.0, -0.6335324175000001], [3.0, 11.0, 1.0, -0.6534282378], [4.0, 12.0, 1.0, -0.5022221504]], is_optimized=True, formal_spins=[0, 0, 0, 0, 0, 0, 0, 0, 0, 0, 0, 0, 0], energy_correction=0.115088, alpha_homo=0.04318000003695488, second_vibration_mode=[-0.029999999329447746, -0.019999999552965164, 0.0, 0.0, 0.019999999552965164, 0.019999999552965164, 0.0, 0.009999999776482582, 0.009999999776482582, 0.05000000074505806, 0.009999999776482582, -0.05000000074505806, -0.009999999776482582, -0.019999999552965164, 0.009999999776482582, -0.28999999165534973, -0.14000000059604645, 0.47999998927116394, 0.3199999928474426, 0.3799999952316284, -0.05999999865889549, -0.1599999964237213, -0.36000001430511475, -0.44999998807907104, -0.009999999776482582, 0.029999999329447746, 0.029999999329447746, 0.019999999552965164, 0.019999999552965164, 0.029999999329447746, 0.07000000029802322, -0.029999999329447746, -0.10999999940395355, 0.09000000357627869, 0.07999999821186066, -0.05000000074505806, -0.019999999552965164, 0.029999999329447746, 0.03999999910593033], wiberg_bond_order=[], is_error=False),\n",
       " Snapshot(standard_coords=[[1.712677001953125, -0.56563401222229, -0.3285309970378876], [0.8984959721565247, 0.42348599433898926, 0.5234220027923584], [-0.21658900380134583, 1.011523962020874, -0.20108799636363983], [-1.2953619956970215, 0.25174999237060547, -0.24654600024223328], [-1.5137159824371338, -0.8964179754257202, 0.2355329990386963], [2.5840249061584473, -0.9545869827270508, 0.21909800171852112], [1.0765939950942993, -1.4063040018081665, -0.6156039834022522], [2.0680301189422607, -0.07330299913883209, -1.2407200336456299], [0.5632209777832031, -0.10958900302648544, 1.4288419485092163], [1.5674519538879395, 1.2353910207748413, 0.8473920226097107], [-2.1283419132232666, 0.7414489984512329, -0.8057289719581604]], solvent='', enthalpy_correction=0.094678, alpha_lumo=-0.021740000694990158, spin_eginvalue=None, mo_bond_order=[], id=7507, frame_id=16, qm_software='Gaussian', temperature=298.15, gibbs_free_energy_correction=0.059396, alpha_gap=0.15444999933242798, spin_multiplicity=None, atom_atom_overlap_bond_order=[], hash_token='10ea1a47c85abac6d8d97fc24749545b65ed38248c9a759a9402534298388de1', filename='dsgdb9nsd_000129-6-.log', qm_software_version='Gaussian 16:  ES64L-G16RevC.01  3-Jul-2019', mulliken_charge=[-0.330793, -0.378374, -0.205341, -0.12037, -0.515029, 0.073701, 0.15075, 0.108997, 0.1177, 0.085675, 0.013084], zero_point_sum=-247.937159, beta_homo=None, dipole=[3.3711, -0.2469, 0.0999], nbo_charges=[-0.58768, -0.2018, -0.74056, 0.44445, -0.81062, 0.16045, 0.20606, 0.17634, 0.15692, 0.14442, 0.05201], commit_time=datetime.datetime(2024, 4, 27, 22, 34, 22, 530399), coords=[[-0.08608199656009674, 1.276015043258667, -0.27806898951530457], [0.07675199955701828, -0.04197600111365318, 0.498757004737854], [-1.1830500364303589, -0.7381669878959656, 0.7045140266418457], [-1.5780279636383057, -1.4616589546203613, -0.32680898904800415], [-1.0408090353012085, -1.6458660364151, -1.4563360214233398], [0.8686599731445312, 1.814520001411438, -0.37245601415634155], [-0.46720701456069946, 1.062237024307251, -1.2794599533081055], [-0.802981972694397, 1.9283720254898071, 0.23304499685764313], [0.8051009774208069, -0.6655409932136536, -0.04625299945473671], [0.5106430053710938, 0.1869329959154129, 1.4841439723968506], [-2.5444159507751465, -1.9832910299301147, -0.12595699727535248]], basis='6-311+G(d,p)', spin_densities=[], beta_lumo=None, beta_gap=None, quadrupole=[-44.1543, -44.1825, -36.5307, -3.1639, 1.4352, 2.2537], lowdin_charges=[], update_time=datetime.datetime(2024, 4, 29, 9, 3, 37, 37924), atoms=[6, 6, 7, 6, 8, 1, 1, 1, 1, 1, 1], functional='rb3lyp', gradients=[[-4.146999799559126e-06, 9.696000233816449e-06, 5.49100013813586e-06], [2.69099996330624e-06, -3.988000116805779e-06, -9.501999556960072e-06], [-2.984000047945301e-06, -6.455999937315937e-06, -2.508000079615158e-06], [4.569999873638153e-06, 2.882999979192391e-06, 1.5702000382589176e-05], [3.14799990519532e-06, -2.3699999474047218e-07, -4.828999863093486e-06], [2.654999889273313e-06, 2.3400000372930663e-06, -1.612999994904385e-06], [2.6810000690602465e-06, -3.4940001114591723e-06, 2.4250000478787115e-06], [1.1829999948531622e-06, 4.999999969612645e-09, -1.0640000027706265e-06], [2.5510000796202803e-06, -2.6079999315697933e-06, 1.5599999869664316e-06], [-6.547999873873778e-06, -6.259999736357713e-07, -2.7000000955013093e-06], [-5.80100004299311e-06, 2.4840001060510986e-06, -2.961000063805841e-06]], thermal_energy_sum=-247.9316172, first_frequency=80.7869, octapole=[2.2973, -9.9613, 1.7473, 5.1695, 9.2338, -1.1231, -1.4378, -2.225, 1.9729, -2.3677], hirshfeld_charges=[], owner_id=1, bonds=[[1, 0, 1], [2, 1, 1], [3, 2, 2], [4, 3, 1], [5, 0, 1], [6, 0, 1], [7, 0, 1], [8, 1, 1], [9, 1, 1], [10, 3, 1]], keywords=' %chk=dsgdb9nsd_000129-6.chk  %mem=60GB  %nprocshared=32  Will use up to   32 processors via shared memory.\\n #p opt freq b3lyp/6-311+g** em=gd3bj', single_point_energy=-248.0253507, thermal_enthalpy_sum=-247.930673, first_vibration_mode=[-0.2199999988079071, -0.14000000059604645, 0.05000000074505806, 0.029999999329447746, 0.12999999523162842, -0.019999999552965164, -0.03999999910593033, 0.11999999731779099, 0.07999999821186066, 0.03999999910593033, 0.009999999776482582, 0.019999999552965164, 0.1899999976158142, -0.07999999821186066, -0.11999999731779099, -0.18000000715255737, -0.11999999731779099, -0.009999999776482582, -0.3700000047683716, -0.11999999731779099, 0.33000001311302185, -0.3100000023841858, -0.36000001430511475, -0.10999999940395355, 0.12999999523162842, 0.33000001311302185, 0.14000000059604645, 0.1599999964237213, 0.11999999731779099, -0.2800000011920929, -0.03999999910593033, -0.019999999552965164, 0.10999999940395355], hexadecapole=[-461.8801, -186.851, -96.3842, -3.9969, 4.7858, 4.8384, 5.43, -2.622, 2.1558, -110.5803, -88.7816, -46.1411, 0.1406, 1.1185, 1.6953], is_TS=False, molecule_id=7421, formal_charges=[0, 0, 0, 0, -1, 0, 0, 0, 0, 0, 0], solvent_model='', zero_point_correction=0.088191, thermal_free_energy_sum=-247.9659548, second_frequency=227.1214, nbo_bond_order=[[0.0, 1.0, 1.0, -0.8524800733], [0.0, 5.0, 1.0, -0.6795689688], [0.0, 6.0, 1.0, -0.6599469448], [0.0, 7.0, 1.0, -0.669477211], [1.0, 2.0, 1.0, -0.9946595504], [1.0, 8.0, 1.0, -0.609400675], [1.0, 9.0, 1.0, -0.6120791373000001], [2.0, 3.0, 2.0, -1.4116373539], [3.0, 4.0, 1.0, -1.545470685], [3.0, 10.0, 1.0, -0.6029099595999999]], is_optimized=True, formal_spins=[0, 0, 0, 0, 0, 0, 0, 0, 0, 0, 0], energy_correction=0.093734, alpha_homo=-0.021740000694990158, second_vibration_mode=[0.05999999865889549, 0.0, 0.019999999552965164, 0.05000000074505806, 0.009999999776482582, -0.009999999776482582, 0.0, -0.029999999329447746, 0.03999999910593033, -0.019999999552965164, 0.009999999776482582, 0.019999999552965164, -0.09000000357627869, 0.0, -0.05000000074505806, 0.3700000047683716, 0.4399999976158142, -0.1599999964237213, 0.23000000417232513, -0.2800000011920929, 0.46000000834465027, -0.4000000059604645, -0.15000000596046448, -0.23999999463558197, 0.12999999523162842, 0.05999999865889549, 0.05000000074505806, 0.03999999910593033, 0.05000000074505806, -0.09000000357627869, 0.0, 0.09000000357627869, 0.05999999865889549], wiberg_bond_order=[], is_error=False),\n",
       " Snapshot(standard_coords=[[-1.921576976776123, 0.4231579899787903, -0.29331400990486145], [-0.9896349906921387, -0.5705680251121521, 0.3921569883823395], [0.4145820140838623, -0.23957400023937225, 0.1098409965634346], [1.4869619607925415, 0.8123310208320618, 0.16456599533557892], [1.5140010118484497, -0.5684199929237366, -0.3782550096511841], [-1.7453960180282593, 1.441902995109558, 0.05588499829173088], [-1.814154028892517, 0.3866089880466461, -1.378275990486145], [-2.948852062225342, 0.15459300577640533, -0.042374998331069946], [-1.089782953262329, -0.5330989956855774, 1.4796340465545654], [-1.132748007774353, -1.596925973892212, 0.0514100007712841], [1.3778849840164185, 1.6451539993286133, -0.521265983581543], [1.9157580137252808, 1.0058670043945312, 1.1415940523147583], [1.996709942817688, -1.4060920476913452, -0.8664219975471497]], solvent='', enthalpy_correction=0.121324, alpha_lumo=-0.5311400294303894, spin_eginvalue=None, mo_bond_order=[], id=635969, frame_id=16, qm_software='Gaussian', temperature=298.15, gibbs_free_energy_correction=0.085156, alpha_gap=0.2561599910259247, spin_multiplicity=None, atom_atom_overlap_bond_order=[], hash_token='e8ac7a7a4021b7f6bdeece176f9c54ef6b315ddd2aa5b2a7319773785063ac0c', filename='dsgdb9nsd_000151-9+.log', qm_software_version='Gaussian 16:  ES64L-G16RevC.01  3-Jul-2019', mulliken_charge=[-0.414602, -0.183328, 0.220633, -0.225465, -0.043164, 0.170008, 0.174355, 0.200642, 0.218748, 0.201896, 0.226033, 0.228289, 0.225955], zero_point_sum=-211.609949, beta_homo=None, dipole=[2.1915, -0.8902, -0.1483], nbo_charges=[-0.59256, -0.18854, -0.23037, -0.16225, 0.27965, 0.22274, 0.22235, 0.24879, 0.24503, 0.23699, 0.22698, 0.22783, 0.26335], commit_time=datetime.datetime(2024, 4, 28, 12, 46, 53, 681819), coords=[[0.09025599807500839, 1.508080005645752, -0.10977499932050705], [-0.2035360038280487, 0.07997699826955795, 0.3375369906425476], [0.6099849939346313, -0.8771179914474487, -0.42616400122642517], [1.9940470457077026, -1.2872480154037476, -0.8452839851379395], [0.6684319972991943, -1.8462599515914917, -1.208752989768982], [1.1387710571289062, 1.767393946647644, 0.045768000185489655], [-0.17017200589179993, 1.6584420204162598, -1.1583869457244873], [-0.5166170001029968, 2.1849379539489746, 0.4935159981250763], [0.06142200157046318, -0.07667600363492966, 1.3860100507736206], [-1.2424639463424683, -0.2129019945859909, 0.17989200353622437], [2.4979300498962402, -0.6303949952125549, -1.5456429719924927], [2.5916800498962402, -1.7883130311965942, -0.09184399992227554], [0.022383999079465866, -2.540699005126953, -1.7316169738769531]], basis='6-311+G(d,p)', spin_densities=[], beta_lumo=None, beta_gap=None, quadrupole=[-16.0039, -23.5519, -26.4177, -0.4223, -1.5231, 1.1853], lowdin_charges=[], update_time=datetime.datetime(2024, 4, 28, 23, 5, 33, 257748), atoms=[6, 6, 7, 6, 6, 1, 1, 1, 1, 1, 1, 1, 1], functional='rb3lyp', gradients=[[-5.4030001592764165e-06, 3.428199852351099e-05, 1.0000000116860974e-07], [4.2547999328235164e-05, -8.491399785270914e-05, -2.158399911422748e-05], [1.0988000212819315e-05, 5.1263999921502545e-05, -1.6676000086590648e-05], [-1.4446000022871885e-05, -3.3749998692655936e-05, 3.2468000426888466e-05], [-9.215700265485793e-05, 6.1578000895679e-05, -2.2019999960321002e-05], [-1.406000023962406e-06, -5.140000212122686e-06, -6.469999789260328e-07], [7.099999947968172e-07, -7.096999979694374e-06, 1.742999984344351e-06], [2.2920000901649473e-06, -7.689999961257854e-07, 6.210000265127746e-07], [-3.7570000586129026e-06, 1.2139999853388872e-05, 4.580000222631497e-06], [-4.7700000322947744e-06, 1.4768000255571678e-05, 1.2999999853491317e-05], [5.905999842070742e-06, 8.455999704892747e-06, 1.0341000233893283e-05], [1.3382000361161772e-05, 1.866000047812122e-06, -8.308999895234592e-06], [4.611500116880052e-05, -5.268500171951018e-05, 6.382999799825484e-06]], thermal_energy_sum=-211.6039207, first_frequency=79.3524, octapole=[4.172, -2.101, 1.5871, 6.9757, -3.5987, -1.1857, 2.8241, -0.7091, -2.3741, 4.427], hirshfeld_charges=[], owner_id=1, bonds=[[1, 0, 1], [2, 1, 1], [3, 2, 1], [4, 3, 1], [4, 2, 2], [5, 0, 1], [6, 0, 1], [7, 0, 1], [8, 1, 1], [9, 1, 1], [10, 3, 1], [11, 3, 1], [12, 4, 1]], keywords=' %chk=dsgdb9nsd_000151-9.chk  %mem=60GB  %nprocshared=32  Will use up to   32 processors via shared memory.\\n #p opt freq b3lyp/6-311+g** em=gd3bj', single_point_energy=-211.7243001, thermal_enthalpy_sum=-211.6029765, first_vibration_mode=[0.009999999776482582, 0.09000000357627869, 0.10999999940395355, -0.009999999776482582, -0.07000000029802322, -0.10999999940395355, 0.0, -0.029999999329447746, -0.03999999910593033, -0.07999999821186066, 0.05000000074505806, -0.11999999731779099, 0.09000000357627869, -0.05000000074505806, 0.1599999964237213, 0.019999999552965164, 0.009999999776482582, 0.3499999940395355, 0.0, 0.3400000035762787, 0.10000000149011612, 0.0, 0.05000000074505806, 0.05000000074505806, 0.0, -0.30000001192092896, -0.10000000149011612, -0.019999999552965164, 0.0, -0.3199999928474426, -0.05999999865889549, -0.09000000357627869, -0.30000001192092896, -0.2199999988079071, 0.2800000011920929, -0.10000000149011612, 0.20999999344348907, -0.11999999731779099, 0.38999998569488525], hexadecapole=[-354.3459, -99.4551, -57.9726, -8.2066, -4.3038, -0.3925, 3.392, -0.6604, 1.4641, -69.8262, -70.0372, -27.345, 7.6012, -5.2274, 0.1514], is_TS=False, molecule_id=622115, formal_charges=[0, 0, 1, 0, 0, 0, 0, 0, 0, 0, 0, 0, 0], solvent_model='', zero_point_correction=0.114351, thermal_free_energy_sum=-211.6391444, second_frequency=165.4741, nbo_bond_order=[[0.0, 1.0, 1.0, -1.6028535776000001], [0.0, 5.0, 1.0, -1.3358527776000002], [0.0, 6.0, 1.0, -1.335489715], [0.0, 7.0, 1.0, -1.3116479775], [1.0, 2.0, 1.0, -2.0150974484999997], [1.0, 8.0, 1.0, -1.3873518741000002], [1.0, 9.0, 1.0, -1.4036679657000002], [2.0, 3.0, 1.0, -1.6363073583999999], [2.0, 4.0, 2.0, -3.4299593376999997], [3.0, 4.0, 1.0, -1.5424490075000001], [3.0, 10.0, 1.0, -1.5062297414999999], [3.0, 11.0, 1.0, -1.5050847372], [4.0, 12.0, 1.0, -1.6523010371]], is_optimized=True, formal_spins=[0, 0, 0, 0, 0, 0, 0, 0, 0, 0, 0, 0, 0], energy_correction=0.120379, alpha_homo=-0.5311400294303894, second_vibration_mode=[0.2199999988079071, 0.07999999821186066, -0.05999999865889549, -0.019999999552965164, -0.07000000029802322, 0.07000000029802322, 0.009999999776482582, -0.12999999523162842, 0.17000000178813934, -0.18000000715255737, 0.05000000074505806, -0.05999999865889549, -0.05000000074505806, 0.05000000074505806, -0.09000000357627869, 0.30000001192092896, 0.03999999910593033, 0.019999999552965164, 0.4300000071525574, 0.10999999940395355, -0.03999999910593033, 0.14000000059604645, 0.20999999344348907, -0.27000001072883606, -0.14000000059604645, -0.07000000029802322, 0.05000000074505806, -0.07999999821186066, -0.05000000074505806, 0.029999999329447746, -0.44999998807907104, 0.019999999552965164, -0.05000000074505806, -0.009999999776482582, 0.12999999523162842, -0.15000000596046448, -0.05000000074505806, 0.18000000715255737, -0.30000001192092896], wiberg_bond_order=[], is_error=False),\n",
       " Snapshot(standard_coords=[[1.8249590396881104, -0.5249289870262146, -0.37068799138069153], [0.9504079818725586, 0.29163500666618347, 0.5809329748153687], [-0.21077300608158112, 0.8845959901809692, -0.0778769999742508], [-1.381669044494629, 0.2148739993572235, -0.23903700709342957], [-1.6086139678955078, -0.9040650129318237, 0.1791120022535324], [2.675283908843994, -0.9526200294494629, 0.16753099858760834], [1.2480360269546509, -1.3426729440689087, -0.8063740134239197], [2.213428020477295, 0.09719499945640564, -1.1817569732666016], [0.5731490254402161, -0.34463199973106384, 1.3826160430908203], [1.5237540006637573, 1.101227045059204, 1.0389519929885864], [-0.1184919998049736, 1.784608006477356, -0.5231900215148926], [-2.1330270767211914, 0.8077660202980042, -0.7927849888801575]], solvent='', enthalpy_correction=0.109508, alpha_lumo=-0.265749990940094, spin_eginvalue=None, mo_bond_order=[], id=1633767, frame_id=17, qm_software='Gaussian', temperature=298.15, gibbs_free_energy_correction=0.072917, alpha_gap=0.2573300004005432, spin_multiplicity=None, atom_atom_overlap_bond_order=[], hash_token='6732a21bed3014de66d75ac7566d637d63e35ec2809d56d60ba13aa4754d4f77', filename='dsgdb9nsd_000129.log', qm_software_version='Gaussian 16:  ES64L-G16RevC.01  3-Jul-2019', mulliken_charge=[-0.395808, -0.210246, -0.222734, 0.121483, -0.387238, 0.140328, 0.162654, 0.128375, 0.176305, 0.137297, 0.256788, 0.092797], zero_point_sum=-248.510451, beta_homo=None, dipole=[2.2684, 3.1871, -0.8273], nbo_charges=[-0.58606, -0.19549, -0.63758, 0.52861, -0.61978, 0.20381, 0.21332, 0.19264, 0.21622, 0.18993, 0.38714, 0.10724], commit_time=datetime.datetime(2024, 4, 29, 10, 51, 11, 489545), coords=[[-0.05770000070333481, 1.3476920127868652, -0.29721400141716003], [0.05993400141596794, 0.03210999816656113, 0.4725930094718933], [-1.2074470520019531, -0.6878169775009155, 0.5696679949760437], [-1.6416269540786743, -1.5382009744644165, -0.3966819941997528], [-1.020429015159607, -1.8289439678192139, -1.4006530046463013], [0.9143069982528687, 1.8458939790725708, -0.34868699312210083], [-0.4015890061855316, 1.1600149869918823, -1.3159799575805664], [-0.7634050250053406, 2.0274479389190674, 0.1882690042257309], [0.7676969766616821, -0.6318299770355225, -0.0255149994045496], [0.423429012298584, 0.2062319964170456, 1.488219976425171], [-1.8378269672393799, -0.4758250117301941, 1.3276400566101074], [-2.637686014175415, -1.9609509706497192, -0.16898299753665924]], basis='6-311+G(d,p)', spin_densities=[], beta_lumo=None, beta_gap=None, quadrupole=[-33.3689, -31.0682, -31.0811, -4.0219, 2.2986, -0.9117], lowdin_charges=[], update_time=datetime.datetime(2024, 4, 29, 10, 51, 11, 630087), atoms=[6, 6, 7, 6, 8, 1, 1, 1, 1, 1, 1, 1], functional='rb3lyp', gradients=[[7.119999736460159e-07, -2.27999998969608e-06, 1.0899999551838846e-06], [3.7180000163061777e-06, 4.347999947640346e-06, -9.010000212583691e-07], [-6.770999789296184e-06, -4.504000116867246e-06, -3.000000106112566e-06], [-7.269999855452625e-07, 2.6590000743453857e-06, 6.478000159404473e-06], [1.7449999631935498e-06, -7.639999921593699e-07, -5.051999778515892e-06], [1.2140000080762547e-06, 7.940000159578631e-07, -5.119999855196511e-07], [8.009999987734773e-07, -2.900000062311392e-08, 2.4499999540239514e-07], [6.280000093283888e-07, -3.680000020267471e-07, 1.349999934063817e-07], [-7.090000053722179e-07, -5.460000238599605e-07, 9.4600000011269e-07], [-1.0339999789721332e-06, -4.0399999079454574e-07, 4.480000086459768e-07], [6.820000066909415e-07, 2.0100000597267353e-07, 1.3970000054541742e-06], [-2.58999989455333e-07, 8.93999981599336e-07, -1.2740000556732411e-06]], thermal_energy_sum=-248.5044095, first_frequency=50.015, octapole=[0.8022, 7.796, 1.1012, 2.9685, 7.9868, -1.7012, -1.522, 0.2712, -3.0115, -0.0642], hirshfeld_charges=[], owner_id=1, bonds=[[1, 0, 1], [2, 1, 1], [3, 2, 1], [4, 3, 2], [5, 0, 1], [6, 0, 1], [7, 0, 1], [8, 1, 1], [9, 1, 1], [10, 2, 1], [11, 3, 1]], keywords=' %chk=dsgdb9nsd_000129.chk  %mem=60GB  %nprocshared=32  Will use up to   32 processors via shared memory.\\n #p opt freq b3lyp/6-311+g** em=gd3bj', single_point_energy=-248.6129735, thermal_enthalpy_sum=-248.5034653, first_vibration_mode=[0.20000000298023224, 0.14000000059604645, -0.019999999552965164, -0.019999999552965164, -0.11999999731779099, 0.0, 0.029999999329447746, -0.10000000149011612, -0.07999999821186066, -0.03999999910593033, 0.0, -0.009999999776482582, -0.17000000178813934, 0.07999999821186066, 0.11999999731779099, 0.1599999964237213, 0.10999999940395355, 0.029999999329447746, 0.3499999940395355, 0.18000000715255737, -0.2800000011920929, 0.28999999165534973, 0.3400000035762787, 0.1599999964237213, -0.11999999731779099, -0.3100000023841858, -0.20000000298023224, -0.1599999964237213, -0.17000000178813934, 0.25999999046325684, 0.11999999731779099, -0.1599999964237213, -0.18000000715255737, 0.029999999329447746, 0.019999999552965164, -0.09000000357627869], hexadecapole=[-417.1151, -122.8655, -78.4662, -11.9892, 8.8516, 1.2962, -5.2873, 0.4766, -2.2969, -95.8103, -79.8457, -33.7427, -1.6711, 2.4786, 1.543], is_TS=False, molecule_id=1602473, formal_charges=[0, 0, 0, 0, 0, 0, 0, 0, 0, 0, 0, 0], solvent_model='', zero_point_correction=0.102523, thermal_free_energy_sum=-248.5400563, second_frequency=210.1383, nbo_bond_order=[[0.0, 1.0, 1.0, -1.2416164], [0.0, 5.0, 1.0, -1.0033341473000001], [0.0, 6.0, 1.0, -0.9994989745999999], [0.0, 7.0, 1.0, -1.0091001521], [1.0, 2.0, 1.0, -1.5051169517999998], [1.0, 8.0, 1.0, -1.0101302829], [1.0, 9.0, 1.0, -1.0247628832], [2.0, 3.0, 1.0, -1.6806140992], [2.0, 10.0, 1.0, -1.3400216699999998], [3.0, 4.0, 2.0, -2.8475262512999997], [3.0, 11.0, 1.0, -1.0842517626]], is_optimized=True, formal_spins=[0, 0, 0, 0, 0, 0, 0, 0, 0, 0, 0, 0], energy_correction=0.108564, alpha_homo=-0.265749990940094, second_vibration_mode=[0.10000000149011612, -0.019999999552965164, 0.05000000074505806, 0.05000000074505806, 0.019999999552965164, -0.03999999910593033, 0.0, -0.05000000074505806, -0.05000000074505806, -0.07000000029802322, 0.05000000074505806, 0.10000000149011612, -0.07000000029802322, -0.019999999552965164, -0.09000000357627869, 0.28999999165534973, 0.3499999940395355, 0.05000000074505806, 0.25, -0.28999999165534973, 0.3499999940395355, -0.17000000178813934, -0.15000000596046448, -0.18000000715255737, 0.10999999940395355, 0.07999999821186066, 0.03999999910593033, 0.019999999552965164, 0.10000000149011612, -0.14000000059604645, -0.14000000059604645, 0.11999999731779099, 0.28999999165534973, -0.14000000059604645, 0.2199999988079071, 0.3700000047683716], wiberg_bond_order=[], is_error=False),\n",
       " Snapshot(standard_coords=[[2.3081490993499756, 0.047878000885248184, -0.19656400382518768], [0.9010570049285889, -0.4302999973297119, 0.1746390014886856], [-0.18758299946784973, 0.49131301045417786, 0.11735799908638], [-1.5226739645004272, 0.10817799717187881, -0.01576700061559677], [-2.6349239349365234, -0.20173099637031555, -0.14708399772644043], [3.0467278957366943, -0.6324040293693542, 0.22407199442386627], [2.404232978820801, 0.03223399817943573, -1.2848800420761108], [2.5085361003875732, 1.0576449632644653, 0.1648000031709671], [0.6385800242424011, -1.4466090202331543, -0.127251997590065], [0.854345977306366, -0.46090900897979736, 1.3202149868011475], [-0.0016449999529868364, 1.5597440004348755, 0.25463300943374634]], solvent='', enthalpy_correction=0.094368, alpha_lumo=-0.5709499716758728, spin_eginvalue=None, mo_bond_order=[], id=622216, frame_id=14, qm_software='Gaussian', temperature=298.15, gibbs_free_energy_correction=0.058054, alpha_gap=0.16898000240325928, spin_multiplicity=None, atom_atom_overlap_bond_order=[], hash_token='4eebecfd0f8d24f5c6582c61cfe236b9e6aa0353a05029784bb7d86c50ce2a93', filename='dsgdb9nsd_000122-7+.log', qm_software_version='Gaussian 16:  ES64L-G16RevC.01  3-Jul-2019', mulliken_charge=[-0.443989, -0.395314, 0.638436, -0.212108, -0.003223, 0.205115, 0.214093, 0.175792, 0.258164, 0.289709, 0.273324], zero_point_sum=-210.386709, beta_homo=None, dipole=[2.884, 0.9636, 1.0335], nbo_charges=[-0.57348, -0.46367, 0.20396, 0.15691, 0.0179, 0.25103, 0.25089, 0.23061, 0.2839, 0.37051, 0.27143], commit_time=datetime.datetime(2024, 4, 28, 12, 42, 16, 883443), coords=[[-0.04171599820256233, 1.5700199604034424, -0.041790999472141266], [-0.0024800000246614218, 0.03889000043272972, -0.02049499936401844], [-1.1733219623565674, -0.684581995010376, 0.35832899808883667], [-1.4173040390014648, -2.01016902923584, -0.0026100000832229853], [-1.6374789476394653, -3.107266902923584, -0.316118985414505], [0.9734389781951904, 1.960945963859558, 0.0012669999850913882], [-0.49662700295448303, 1.8925559520721436, -0.9814379811286926], [-0.6156119704246521, 1.9787989854812622, 0.7912229895591736], [0.5813140273094177, -0.4425260126590729, -0.8081110119819641], [0.5343850255012512, -0.2641170024871826, 0.9466779828071594], [-1.9034169912338257, -0.22270700335502625, 1.0280989408493042]], basis='6-311+G(d,p)', spin_densities=[], beta_lumo=None, beta_gap=None, quadrupole=[-22.1815, -24.1364, -25.8652, -1.6666, -0.0591, -0.0728], lowdin_charges=[], update_time=datetime.datetime(2024, 4, 28, 22, 51, 13, 468624), atoms=[6, 6, 6, 6, 7, 1, 1, 1, 1, 1, 1], functional='rb3lyp', gradients=[[-9.450000106880907e-06, -6.335399666568264e-05, -2.7641999622574076e-05], [-6.905900227138773e-05, 9.761800174601376e-05, 5.386999873735476e-06], [0.000173991997144185, 4.262700167600997e-05, 1.0157000360777602e-05], [-1.3871999726688955e-05, -1.9574999896576628e-05, -8.171000445145182e-06], [-2.5687999368528835e-05, 1.127500036091078e-05, 5.523999789147638e-06], [-2.859999881366093e-07, 5.4239999371930026e-06, -2.0479999420786044e-06], [-2.2900001113157487e-06, 1.4948000170988962e-05, 6.766999831597786e-06], [-4.937000085192267e-06, 2.2100000478531e-06, 1.5069999790284783e-06], [1.1604999599512666e-05, -2.6514000637689605e-05, 1.4057000043976586e-05], [9.369999816044583e-07, -4.188399907434359e-05, -1.3310000213095918e-06], [-6.095099888625555e-05, -2.2775999241275713e-05, -4.206000085105188e-06]], thermal_energy_sum=-210.3804618, first_frequency=98.5324, octapole=[28.0154, 2.8026, 1.5056, 2.7653, 0.3459, 0.1938, 2.4207, -0.6026, 1.0864, -0.2712], hirshfeld_charges=[], owner_id=1, bonds=[[0, 1, 1], [0, 5, 1], [0, 7, 1], [1, 2, 1], [1, 9, 1], [2, 10, 1], [3, 2, 1], [4, 3, 3], [6, 0, 1], [8, 1, 1]], keywords=' %chk=dsgdb9nsd_000122-7.chk  %mem=60GB  %nprocshared=32  Will use up to   32 processors via shared memory.\\n #p opt freq b3lyp/6-311+g** em=gd3bj', single_point_energy=-210.4738854, thermal_enthalpy_sum=-210.3795177, first_vibration_mode=[0.07999999821186066, 0.0, 0.20999999344348907, -0.009999999776482582, 0.009999999776482582, -0.23000000417232513, 0.0, 0.0, -0.20000000298023224, -0.019999999552965164, -0.009999999776482582, -0.03999999910593033, -0.05000000074505806, 0.0, 0.20999999344348907, -0.029999999329447746, -0.019999999552965164, 0.3799999952316284, 0.4000000059604645, 0.05000000074505806, 0.23999999463558197, -0.019999999552965164, -0.019999999552965164, 0.3100000023841858, 0.029999999329447746, 0.029999999329447746, -0.33000001311302185, -0.3700000047683716, -0.10000000149011612, -0.2199999988079071, 0.0, 0.009999999776482582, -0.20999999344348907], hexadecapole=[-572.7807, -52.579, -37.6886, -9.3248, -4.3637, -0.6677, 2.2359, -0.6886, -1.4, -105.9802, -99.9675, -18.1212, -1.8718, 1.3442, -0.9974], is_TS=False, molecule_id=608753, formal_charges=[0, 0, 1, 0, 0, 0, 0, 0, 0, 0, 0], solvent_model='', zero_point_correction=0.087177, thermal_free_energy_sum=-210.4158319, second_frequency=169.8434, nbo_bond_order=[[0.0, 1.0, 1.0, -1.663308549], [0.0, 5.0, 1.0, -1.3838485185], [0.0, 6.0, 1.0, -1.3710736512000001], [0.0, 7.0, 1.0, -1.4033115096], [1.0, 2.0, 1.0, -1.9374871797], [1.0, 8.0, 1.0, -1.4780681553000001], [1.0, 9.0, 1.0, -1.2455308878], [2.0, 3.0, 1.0, -2.0595799392], [2.0, 10.0, 1.0, -1.613492433], [3.0, 4.0, 3.0, -4.7752938608]], is_optimized=True, formal_spins=[0, 0, 0, 0, 0, 0, 0, 0, 0, 0, 0], energy_correction=0.093424, alpha_homo=-0.5709499716758728, second_vibration_mode=[0.019999999552965164, 0.15000000596046448, 0.0, 0.10000000149011612, -0.10000000149011612, 0.029999999329447746, 0.009999999776482582, -0.2199999988079071, -0.019999999552965164, -0.019999999552965164, -0.14000000059604645, -0.009999999776482582, -0.11999999731779099, 0.23999999463558197, 0.0, 0.18000000715255737, 0.49000000953674316, 0.25999999046325684, 0.10000000149011612, -0.1599999964237213, 0.009999999776482582, -0.28999999165534973, 0.3199999928474426, -0.3100000023841858, 0.25999999046325684, -0.1599999964237213, 0.09000000357627869, 0.11999999731779099, -0.019999999552965164, 0.029999999329447746, -0.029999999329447746, -0.20000000298023224, -0.05999999865889549], wiberg_bond_order=[], is_error=False)]"
      ]
     },
     "execution_count": 16,
     "metadata": {},
     "output_type": "execute_result"
    }
   ],
   "source": [
    "snapshots_crud.get_snapshots_by_conditions(\n",
    "    session=session,\n",
    "    snapshot_filter=SnapshotFilter(\n",
    "        numeric_filters=[NumericFilter(column=\"molwt\", min=50, max=80)],\n",
    "        class_filters=[ClassFilter(column=\"functional\", values=[\"rb3lyp\"])],\n",
    "        bool_filters=[BoolFilter(column=\"is_optimized\", value=True)],\n",
    "        element_filters=[ElementFilter(element=\"N\", count=-1)],\n",
    "        smiles=\"CCCC\",\n",
    "        method=\"morgan\",\n",
    "        distance=\"inner_product\",\n",
    "    ),\n",
    "    skip=0,\n",
    "    limit=10,\n",
    ")"
   ]
  },
  {
   "cell_type": "markdown",
   "metadata": {},
   "source": [
    "The Snapshot class has direct access to the Formula and Molecule subclasses it contains."
   ]
  },
  {
   "cell_type": "code",
   "execution_count": 17,
   "metadata": {},
   "outputs": [
    {
     "data": {
      "text/plain": [
       "Molecule(total_charge=-1, total_multiplicity=1, logp=-0.68381, rdkit_fp_1024=array([1., 0., 0., ..., 0., 1., 0.], dtype=float32), topological_torsion_fp_1024=array([0., 0., 0., ..., 0., 0., 0.], dtype=float32), commit_time=datetime.datetime(2024, 4, 27, 22, 30, 21, 215018), snapshot_number=1, formula_id=26, smiles='[CH2-][C@@]1(O)C[C@H]1O', qed=0.38404860868779966, morgan_fp3_1024=array([0., 0., 0., ..., 0., 0., 0.], dtype=float32), atompair_fp_1024=array([0., 0., 0., ..., 0., 0., 0.], dtype=float32), id=97, update_time=datetime.datetime(2024, 4, 27, 22, 30, 21, 247105), snapshot_ids=[100])"
      ]
     },
     "execution_count": 17,
     "metadata": {},
     "output_type": "execute_result"
    }
   ],
   "source": [
    "snapshot.molecule"
   ]
  },
  {
   "cell_type": "code",
   "execution_count": 18,
   "metadata": {},
   "outputs": [
    {
     "data": {
      "text/plain": [
       "Formula(H=7, Zn=0, Eu=0, Pu=0, formula_string='H7C4O2', Ga=0, Gd=0, Am=0, He=0, Ge=0, Tb=0, Cm=0, Li=0, Se=0, Dy=0, Bk=0, Be=0, Br=0, Ho=0, Cf=0, B=0, Kr=0, Er=0, Es=0, C=4, Rb=0, Tm=0, Fm=0, N=0, Sr=0, Yb=0, Md=0, O=2, Y=0, Lu=0, No=0, F=0, Zr=0, Hf=0, Lr=0, Ne=0, Nb=0, Ta=0, Rf=0, Na=0, Mo=0, W=0, Db=0, Mg=0, Tc=0, Re=0, Sg=0, Al=0, Ru=0, Os=0, Bh=0, Si=0, Rh=0, Ir=0, Hs=0, P=0, Pd=0, Pt=0, Mt=0, S=0, Ag=0, Au=0, Ds=0, Cl=0, Cd=0, Hg=0, Rg=0, Ar=0, In=0, Tl=0, Cn=0, K=0, Sn=0, Pb=0, Nh=0, Ca=0, Sb=0, Bi=0, Fl=0, Sc=0, Te=0, Po=0, Mc=0, Ti=0, I=0, At=0, Lv=0, V=0, Xe=0, Rn=0, Ts=0, Cr=0, Cs=0, Fr=0, Og=0, As=0, Ba=0, Ra=0, atom_number=13, Mn=0, La=0, Ac=0, molwt=87.098, Fe=0, Ce=0, Th=0, id=26, Co=0, Pr=0, Pa=0, commit_time=datetime.datetime(2024, 4, 27, 22, 30, 19, 304381), Ni=0, Nd=0, U=0, update_time=datetime.datetime(2024, 4, 28, 18, 30, 10, 193803), Cu=0, Pm=0, Np=0, molecule_number=355, Sm=0, molecule_ids=[75, 76, 77, 78, 97, 98, 99, 100, 101, 163, 164, 204, 205, 206, 207, 241, 712, 773, 809, 855, 857, 923, 926, 929, 974, 1040, 1068, 1070, 1130, 1133, 1136, 1138, 1141, 1240, 1242, 1243, 1245, 1306, 1314, 1374, 1380, 1411, 1421, 1439, 1482, 1484, 1487, 7196, 7282, 7511, 7516, 7523, 7538, 7544, 7549, 7640, 7654, 7660, 7727, 7732, 7733, 7762, 7781, 7855, 7869, 7890, 7908, 7919, 7925, 7930, 8054, 8060, 8063, 8065, 8069, 8073, 8076, 8081, 8181, 8184, 8189, 8190, 8196, 8197, 8201, 8208, 8209, 8215, 8288, 8329, 8333, 8337, 8459, 8472, 8478, 8485, 8502, 8507, 8573, 8580, 8586, 8616, 8635, 8641, 8647, 8652, 8653, 8659, 8665, 8676, 8692, 8762, 8773, 8855, 8968, 8976, 8983, 15342, 15415, 15454, 15567, 15879, 15911, 15924, 15930, 16065, 16116, 16177, 16271, 16386, 16392, 16460, 16624, 498662, 498783, 498862, 498865, 498869, 498930, 598270, 609020, 609026, 609029, 622075, 622106, 622119, 622146, 622150, 622181, 622184, 622189, 622303, 622307, 622310, 622313, 622315, 622337, 622344, 622351, 622389, 622393, 622396, 622398, 622402, 622407, 622414, 622421, 622426, 622431, 622618, 622625, 622632, 622638, 666418, 666422, 666427, 666617, 666623, 666627, 666652, 834245, 834246, 834247, 834252, 834260, 834262, 834263, 834266, 834287, 834288, 834289, 849816, 849858, 849859, 849861, 849879, 849881, 849882, 849893, 849895, 849897, 849924, 849926, 892057, 892058, 892059, 892060, 892166, 892167, 892168, 892169, 892170, 892171, 892172, 892173, 892174, 892178, 892179, 892180, 892181, 892198, 892199, 892200, 892207, 892208, 892209, 892273, 892274, 892275, 892276, 892307, 892308, 892309, 892313, 892314, 892315, 892367, 892368, 892476, 892477, 892478, 892479, 892484, 892485, 892486, 892570, 892571, 892572, 892573, 892574, 892580, 892581, 892582, 892583, 892584, 892589, 892590, 892591, 892592, 892682, 892683, 892684, 892685, 892701, 892702, 892703, 892704, 892766, 892767, 892768, 892769, 892770, 892771, 892772, 892773, 892774, 892775, 892887, 892888, 892889, 892890, 892891, 892892, 892893, 892898, 892899, 892900, 892901, 892902, 892916, 892917, 892918, 892919, 893097, 893098, 893099, 893100, 893101, 893102, 893103, 893104, 893105, 893106, 893107, 893108, 893109, 893110, 893111, 893112, 893113, 893220, 893221, 893222, 893228, 893229, 893230, 893231, 893232, 893233, 893234, 893235, 893236, 893324, 893325, 893326, 893327, 893333, 893334, 893335, 893336, 893337, 893419, 893420, 893421, 893422, 893423, 893460, 893461, 893462, 893463, 893464, 893465, 893466, 893467, 893468, 893469, 893516, 893517, 893518, 893519, 893520, 893595, 893596, 893597, 893598])"
      ]
     },
     "execution_count": 18,
     "metadata": {},
     "output_type": "execute_result"
    }
   ],
   "source": [
    "snapshot.molecule.formula"
   ]
  },
  {
   "cell_type": "markdown",
   "metadata": {},
   "source": [
    "### Transform into RDKit"
   ]
  },
  {
   "cell_type": "code",
   "execution_count": 19,
   "metadata": {},
   "outputs": [
    {
     "data": {
      "image/png": "[encoded data removed]",
      "text/plain": [
       "<rdkit.Chem.rdchem.Mol at 0x7f8ff12f83c0>"
      ]
     },
     "execution_count": 19,
     "metadata": {},
     "output_type": "execute_result"
    }
   ],
   "source": [
    "recover_rdmol_from_snapshot(snapshot)"
   ]
  },
  {
   "cell_type": "code",
   "execution_count": null,
   "metadata": {},
   "outputs": [],
   "source": []
  }
 ],
 "metadata": {
  "kernelspec": {
   "display_name": "qm9q",
   "language": "python",
   "name": "python3"
  },
  "language_info": {
   "codemirror_mode": {
    "name": "ipython",
    "version": 3
   },
   "file_extension": ".py",
   "mimetype": "text/x-python",
   "name": "python",
   "nbconvert_exporter": "python",
   "pygments_lexer": "ipython3",
   "version": "3.10.14"
  }
 },
 "nbformat": 4,
 "nbformat_minor": 2
}
