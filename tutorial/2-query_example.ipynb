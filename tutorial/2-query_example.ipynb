{
 "cells": [
  {
   "cell_type": "markdown",
   "metadata": {},
   "source": [
    "# qm9star database query examples"
   ]
  },
  {
   "cell_type": "code",
   "execution_count": 1,
   "metadata": {},
   "outputs": [],
   "source": [
    "from sqlmodel import Session, create_engine\n",
    "\n",
    "from qm9star_query.crud import formulas_crud, molecules_crud, snapshots_crud\n",
    "from qm9star_query.models.utils import *\n",
    "from qm9star_query.utils import recover_rdmol_from_snapshot"
   ]
  },
  {
   "cell_type": "markdown",
   "metadata": {},
   "source": [
    "## Connect to the database\n",
    "\n",
    "Change the variables below to fit your database setting"
   ]
  },
  {
   "cell_type": "code",
   "execution_count": 2,
   "metadata": {},
   "outputs": [],
   "source": [
    "scheme = \"postgresql+psycopg2\"\n",
    "POSTGRES_USER = \"hxchem\"\n",
    "POSTGRES_PASSWD = \"hxchem\"\n",
    "POSTGRES_SERVER = \"127.0.0.1\"\n",
    "POSTGRES_PORT = 35432\n",
    "POSTGRES_DB = \"qm9star\"\n",
    "\n",
    "engine = create_engine(\n",
    "    f\"{scheme}://{POSTGRES_USER}:{POSTGRES_PASSWD}@{POSTGRES_SERVER}:{POSTGRES_PORT}/{POSTGRES_DB}\"\n",
    ")\n",
    "session = Session(engine)"
   ]
  },
  {
   "cell_type": "markdown",
   "metadata": {},
   "source": [
    "## Query a Formula\n",
    "\n",
    "Formula in the qm9star database refers to the elemental composition of a molecule and stores a specific number of each atom, which can be used to query molecules of a specified elemental composition and molecular mass range"
   ]
  },
  {
   "cell_type": "markdown",
   "metadata": {},
   "source": [
    "### Get Formula count"
   ]
  },
  {
   "cell_type": "code",
   "execution_count": 3,
   "metadata": {},
   "outputs": [
    {
     "data": {
      "text/plain": [
       "ItemCount(count=1198)"
      ]
     },
     "execution_count": 3,
     "metadata": {},
     "output_type": "execute_result"
    }
   ],
   "source": [
    "formulas_crud.get_formula_count(session=session)"
   ]
  },
  {
   "cell_type": "markdown",
   "metadata": {},
   "source": [
    "### Get Formula by id"
   ]
  },
  {
   "cell_type": "code",
   "execution_count": 4,
   "metadata": {},
   "outputs": [
    {
     "data": {
      "text/plain": [
       "Formula(formula_string='H3C3N2', Ga=0, Gd=0, Am=0, He=0, Ge=0, Tb=0, Cm=0, Li=0, Se=0, Dy=0, Bk=0, Be=0, Br=0, Ho=0, Cf=0, B=0, Kr=0, Er=0, Es=0, C=3, Rb=0, Tm=0, Fm=0, N=2, Sr=0, Yb=0, Md=0, O=0, Y=0, Lu=0, No=0, F=0, Zr=0, Hf=0, Lr=0, Ne=0, Nb=0, Ta=0, Rf=0, Na=0, Mo=0, W=0, Db=0, Mg=0, Tc=0, Re=0, Sg=0, Al=0, Ru=0, Os=0, Bh=0, Si=0, Rh=0, Ir=0, Hs=0, P=0, Pd=0, Pt=0, Mt=0, S=0, Ag=0, Au=0, Ds=0, Cl=0, Cd=0, Hg=0, Rg=0, Ar=0, In=0, Tl=0, Cn=0, K=0, Sn=0, Pb=0, Nh=0, Ca=0, Sb=0, Bi=0, Fl=0, Sc=0, Te=0, Po=0, Mc=0, Ti=0, I=0, At=0, Lv=0, V=0, Xe=0, Rn=0, Ts=0, Cr=0, Cs=0, Fr=0, Og=0, As=0, Ba=0, Ra=0, atom_number=8, Mn=0, La=0, Ac=0, molwt=67.071, Fe=0, Ce=0, Th=0, id=100, Co=0, Pr=0, Pa=0, commit_time=datetime.datetime(2024, 5, 11, 20, 22, 9, 564366), Ni=0, Nd=0, U=0, update_time=datetime.datetime(2024, 5, 12, 4, 59, 35, 144263), Cu=0, Pm=0, Np=0, molecule_number=32, Zn=0, Sm=0, Pu=0, molecule_ids=[1591, 1593, 1595, 1598, 1806, 1808, 1811, 2240, 2248, 2253, 2261, 159405, 161164, 788407, 788428, 788639, 788643, 788648, 788704, 788716, 788718, 788724, 788933, 788942, 1448170, 1448176, 1451646, 1451651, 1451656, 1451658, 1451666, 1451671], H=3, Eu=0)"
      ]
     },
     "execution_count": 4,
     "metadata": {},
     "output_type": "execute_result"
    }
   ],
   "source": [
    "formula = formulas_crud.get_formula_by_id(session=session, formula_id=100)\n",
    "formula"
   ]
  },
  {
   "cell_type": "markdown",
   "metadata": {},
   "source": [
    "### Get Formulas by conditions"
   ]
  },
  {
   "cell_type": "code",
   "execution_count": 5,
   "metadata": {},
   "outputs": [
    {
     "data": {
      "text/plain": [
       "[Formula(formula_string='C1N6O1', Ga=0, Gd=0, Am=0, He=0, Ge=0, Tb=0, Cm=0, Li=0, Se=0, Dy=0, Bk=0, Be=0, Br=0, Ho=0, Cf=0, B=0, Kr=0, Er=0, Es=0, C=1, Rb=0, Tm=0, Fm=0, N=6, Sr=0, Yb=0, Md=0, O=1, Y=0, Lu=0, No=0, F=0, Zr=0, Hf=0, Lr=0, Ne=0, Nb=0, Ta=0, Rf=0, Na=0, Mo=0, W=0, Db=0, Mg=0, Tc=0, Re=0, Sg=0, Al=0, Ru=0, Os=0, Bh=0, Si=0, Rh=0, Ir=0, Hs=0, P=0, Pd=0, Pt=0, Mt=0, S=0, Ag=0, Au=0, Ds=0, Cl=0, Cd=0, Hg=0, Rg=0, Ar=0, In=0, Tl=0, Cn=0, K=0, Sn=0, Pb=0, Nh=0, Ca=0, Sb=0, Bi=0, Fl=0, Sc=0, Te=0, Po=0, Mc=0, Ti=0, I=0, At=0, Lv=0, V=0, Xe=0, Rn=0, Ts=0, Cr=0, Cs=0, Fr=0, Og=0, As=0, Ba=0, Ra=0, atom_number=8, Mn=0, La=0, Ac=0, molwt=112.05200000000002, Fe=0, Ce=0, Th=0, id=814, Co=0, Pr=0, Pa=0, commit_time=datetime.datetime(2024, 5, 11, 20, 46, 29, 194746), Ni=0, Nd=0, U=0, update_time=datetime.datetime(2024, 5, 11, 20, 46, 29, 211557), Cu=0, Pm=0, Np=0, molecule_number=1, Zn=0, Sm=0, Pu=0, molecule_ids=[79306], H=0, Eu=0),\n",
       " Formula(formula_string='C1N4O3', Ga=0, Gd=0, Am=0, He=0, Ge=0, Tb=0, Cm=0, Li=0, Se=0, Dy=0, Bk=0, Be=0, Br=0, Ho=0, Cf=0, B=0, Kr=0, Er=0, Es=0, C=1, Rb=0, Tm=0, Fm=0, N=4, Sr=0, Yb=0, Md=0, O=3, Y=0, Lu=0, No=0, F=0, Zr=0, Hf=0, Lr=0, Ne=0, Nb=0, Ta=0, Rf=0, Na=0, Mo=0, W=0, Db=0, Mg=0, Tc=0, Re=0, Sg=0, Al=0, Ru=0, Os=0, Bh=0, Si=0, Rh=0, Ir=0, Hs=0, P=0, Pd=0, Pt=0, Mt=0, S=0, Ag=0, Au=0, Ds=0, Cl=0, Cd=0, Hg=0, Rg=0, Ar=0, In=0, Tl=0, Cn=0, K=0, Sn=0, Pb=0, Nh=0, Ca=0, Sb=0, Bi=0, Fl=0, Sc=0, Te=0, Po=0, Mc=0, Ti=0, I=0, At=0, Lv=0, V=0, Xe=0, Rn=0, Ts=0, Cr=0, Cs=0, Fr=0, Og=0, As=0, Ba=0, Ra=0, atom_number=8, Mn=0, La=0, Ac=0, molwt=116.03600000000002, Fe=0, Ce=0, Th=0, id=820, Co=0, Pr=0, Pa=0, commit_time=datetime.datetime(2024, 5, 11, 20, 46, 31, 3565), Ni=0, Nd=0, U=0, update_time=datetime.datetime(2024, 5, 11, 20, 46, 31, 23077), Cu=0, Pm=0, Np=0, molecule_number=1, Zn=0, Sm=0, Pu=0, molecule_ids=[79449], H=0, Eu=0),\n",
       " Formula(formula_string='H2C1N7', Ga=0, Gd=0, Am=0, He=0, Ge=0, Tb=0, Cm=0, Li=0, Se=0, Dy=0, Bk=0, Be=0, Br=0, Ho=0, Cf=0, B=0, Kr=0, Er=0, Es=0, C=1, Rb=0, Tm=0, Fm=0, N=7, Sr=0, Yb=0, Md=0, O=0, Y=0, Lu=0, No=0, F=0, Zr=0, Hf=0, Lr=0, Ne=0, Nb=0, Ta=0, Rf=0, Na=0, Mo=0, W=0, Db=0, Mg=0, Tc=0, Re=0, Sg=0, Al=0, Ru=0, Os=0, Bh=0, Si=0, Rh=0, Ir=0, Hs=0, P=0, Pd=0, Pt=0, Mt=0, S=0, Ag=0, Au=0, Ds=0, Cl=0, Cd=0, Hg=0, Rg=0, Ar=0, In=0, Tl=0, Cn=0, K=0, Sn=0, Pb=0, Nh=0, Ca=0, Sb=0, Bi=0, Fl=0, Sc=0, Te=0, Po=0, Mc=0, Ti=0, I=0, At=0, Lv=0, V=0, Xe=0, Rn=0, Ts=0, Cr=0, Cs=0, Fr=0, Og=0, As=0, Ba=0, Ra=0, atom_number=10, Mn=0, La=0, Ac=0, molwt=112.07600000000002, Fe=0, Ce=0, Th=0, id=1030, Co=0, Pr=0, Pa=0, commit_time=datetime.datetime(2024, 5, 11, 23, 59, 47, 135513), Ni=0, Nd=0, U=0, update_time=datetime.datetime(2024, 5, 12, 9, 18, 18, 997546), Cu=0, Pm=0, Np=0, molecule_number=5, Zn=0, Sm=0, Pu=0, molecule_ids=[685225, 685234, 1229777, 1362836, 1904072], H=2, Eu=0),\n",
       " Formula(formula_string='H1C1N6O1', Ga=0, Gd=0, Am=0, He=0, Ge=0, Tb=0, Cm=0, Li=0, Se=0, Dy=0, Bk=0, Be=0, Br=0, Ho=0, Cf=0, B=0, Kr=0, Er=0, Es=0, C=1, Rb=0, Tm=0, Fm=0, N=6, Sr=0, Yb=0, Md=0, O=1, Y=0, Lu=0, No=0, F=0, Zr=0, Hf=0, Lr=0, Ne=0, Nb=0, Ta=0, Rf=0, Na=0, Mo=0, W=0, Db=0, Mg=0, Tc=0, Re=0, Sg=0, Al=0, Ru=0, Os=0, Bh=0, Si=0, Rh=0, Ir=0, Hs=0, P=0, Pd=0, Pt=0, Mt=0, S=0, Ag=0, Au=0, Ds=0, Cl=0, Cd=0, Hg=0, Rg=0, Ar=0, In=0, Tl=0, Cn=0, K=0, Sn=0, Pb=0, Nh=0, Ca=0, Sb=0, Bi=0, Fl=0, Sc=0, Te=0, Po=0, Mc=0, Ti=0, I=0, At=0, Lv=0, V=0, Xe=0, Rn=0, Ts=0, Cr=0, Cs=0, Fr=0, Og=0, As=0, Ba=0, Ra=0, atom_number=9, Mn=0, La=0, Ac=0, molwt=113.06000000000002, Fe=0, Ce=0, Th=0, id=1032, Co=0, Pr=0, Pa=0, commit_time=datetime.datetime(2024, 5, 11, 23, 59, 52, 75889), Ni=0, Nd=0, U=0, update_time=datetime.datetime(2024, 5, 12, 4, 23, 15, 405732), Cu=0, Pm=0, Np=0, molecule_number=3, Zn=0, Sm=0, Pu=0, molecule_ids=[685720, 1251347, 1362913], H=1, Eu=0),\n",
       " Formula(formula_string='C1N4O2', Ga=0, Gd=0, Am=0, He=0, Ge=0, Tb=0, Cm=0, Li=0, Se=0, Dy=0, Bk=0, Be=0, Br=0, Ho=0, Cf=0, B=0, Kr=0, Er=0, Es=0, C=1, Rb=0, Tm=0, Fm=0, N=4, Sr=0, Yb=0, Md=0, O=2, Y=0, Lu=0, No=0, F=0, Zr=0, Hf=0, Lr=0, Ne=0, Nb=0, Ta=0, Rf=0, Na=0, Mo=0, W=0, Db=0, Mg=0, Tc=0, Re=0, Sg=0, Al=0, Ru=0, Os=0, Bh=0, Si=0, Rh=0, Ir=0, Hs=0, P=0, Pd=0, Pt=0, Mt=0, S=0, Ag=0, Au=0, Ds=0, Cl=0, Cd=0, Hg=0, Rg=0, Ar=0, In=0, Tl=0, Cn=0, K=0, Sn=0, Pb=0, Nh=0, Ca=0, Sb=0, Bi=0, Fl=0, Sc=0, Te=0, Po=0, Mc=0, Ti=0, I=0, At=0, Lv=0, V=0, Xe=0, Rn=0, Ts=0, Cr=0, Cs=0, Fr=0, Og=0, As=0, Ba=0, Ra=0, atom_number=7, Mn=0, La=0, Ac=0, molwt=100.037, Fe=0, Ce=0, Th=0, id=1074, Co=0, Pr=0, Pa=0, commit_time=datetime.datetime(2024, 5, 12, 6, 30, 54, 460885), Ni=0, Nd=0, U=0, update_time=datetime.datetime(2024, 5, 12, 6, 30, 54, 478436), Cu=0, Pm=0, Np=0, molecule_number=1, Zn=0, Sm=0, Pu=0, molecule_ids=[1695844], H=0, Eu=0),\n",
       " Formula(formula_string='H3C1N7', Ga=0, Gd=0, Am=0, He=0, Ge=0, Tb=0, Cm=0, Li=0, Se=0, Dy=0, Bk=0, Be=0, Br=0, Ho=0, Cf=0, B=0, Kr=0, Er=0, Es=0, C=1, Rb=0, Tm=0, Fm=0, N=7, Sr=0, Yb=0, Md=0, O=0, Y=0, Lu=0, No=0, F=0, Zr=0, Hf=0, Lr=0, Ne=0, Nb=0, Ta=0, Rf=0, Na=0, Mo=0, W=0, Db=0, Mg=0, Tc=0, Re=0, Sg=0, Al=0, Ru=0, Os=0, Bh=0, Si=0, Rh=0, Ir=0, Hs=0, P=0, Pd=0, Pt=0, Mt=0, S=0, Ag=0, Au=0, Ds=0, Cl=0, Cd=0, Hg=0, Rg=0, Ar=0, In=0, Tl=0, Cn=0, K=0, Sn=0, Pb=0, Nh=0, Ca=0, Sb=0, Bi=0, Fl=0, Sc=0, Te=0, Po=0, Mc=0, Ti=0, I=0, At=0, Lv=0, V=0, Xe=0, Rn=0, Ts=0, Cr=0, Cs=0, Fr=0, Og=0, As=0, Ba=0, Ra=0, atom_number=11, Mn=0, La=0, Ac=0, molwt=113.08400000000002, Fe=0, Ce=0, Th=0, id=1178, Co=0, Pr=0, Pa=0, commit_time=datetime.datetime(2024, 5, 12, 6, 48, 9, 254329), Ni=0, Nd=0, U=0, update_time=datetime.datetime(2024, 5, 12, 6, 48, 9, 280570), Cu=0, Pm=0, Np=0, molecule_number=1, Zn=0, Sm=0, Pu=0, molecule_ids=[1756045], H=3, Eu=0)]"
      ]
     },
     "execution_count": 5,
     "metadata": {},
     "output_type": "execute_result"
    }
   ],
   "source": [
    "formulas_crud.get_formulas_by_conditions(\n",
    "    session=session,\n",
    "    formula_filter=FormulaFilter(\n",
    "        numeric_filters=[NumericFilter(column=\"molwt\", min=100, max=120)],\n",
    "        element_filters=[\n",
    "            ElementFilter(element=\"C\", count=1)\n",
    "        ],  # -1 for existing, 0 for non-existing, >0 for count\n",
    "    ),\n",
    "    limit=10,  # limit the number of results\n",
    "    skip=0,  # skip the first n results\n",
    ")"
   ]
  },
  {
   "cell_type": "markdown",
   "metadata": {},
   "source": [
    "The Formula class has direct access to the Molecule subclasses it contains."
   ]
  },
  {
   "cell_type": "code",
   "execution_count": 6,
   "metadata": {},
   "outputs": [
    {
     "name": "stdout",
     "output_type": "stream",
     "text": [
      "32\n",
      "[CH]1C=NC=N1\n",
      "[c]1cnc[nH]1\n",
      "[c]1c[nH]cn1\n",
      "[c]1ncc[nH]1\n",
      "N#C[C]1CN1\n",
      "N#C[C@H]1[CH]N1\n",
      "N#C[C@H]1C[N]1\n",
      "C1=C[N]N=C1\n",
      "[c]1ccn[nH]1\n",
      "[c]1cn[nH]c1\n",
      "[c]1cc[nH]n1\n",
      "c1[nH]c2c[n+]1-2\n",
      "C=[N+]=CC#N\n",
      "c1cn[n-]c1\n",
      "[c-]1cc[nH]n1\n",
      "[c-]1cnc[nH]1\n",
      "[c-]1c[nH]cn1\n",
      "N#C[C@H]1[CH-]N1\n",
      "N#C[C-]1CN1\n",
      "N#C[C@H]1C[N-]1\n",
      "[c-]1cn[nH]c1\n",
      "c1cn[cH-]n1\n",
      "[c-]1ncc[nH]1\n",
      "[c-]1ccn[nH]1\n",
      "N#CC1=[NH+]C1\n",
      "N#C[C@H]1C=[NH+]1\n",
      "C1=CN=[N+]=C1\n",
      "c1c[n+]2[nH]c1-2\n",
      "C1=N[NH+]2C=C12\n",
      "c1cc[nH][n+]#1\n",
      "C1=NC=[N+]=C1\n",
      "C1=CNC=[N+]=1\n",
      "c1[nH]cc[n+]#1\n"
     ]
    }
   ],
   "source": [
    "print(formula.molecule_number)\n",
    "for molecule in formula.molecules:\n",
    "    print(molecule.smiles)"
   ]
  },
  {
   "cell_type": "markdown",
   "metadata": {},
   "source": [
    "## Query a Molecule\n",
    "\n",
    "Molecule represents the topology of a molecule in the qm9star database, i.e. SMILES and its derived properties, allowing vector fuzzy search with the help of molecular fingerprints.\n",
    "\n",
    "Although the above demonstrates obtaining a Molecule directly from a Formula, this is less performant when querying on a large scale, and we can use the following to obtain more granular information."
   ]
  },
  {
   "cell_type": "markdown",
   "metadata": {},
   "source": [
    "### Get Molecule count"
   ]
  },
  {
   "cell_type": "code",
   "execution_count": 7,
   "metadata": {},
   "outputs": [
    {
     "data": {
      "text/plain": [
       "ItemCount(count=1915870)"
      ]
     },
     "execution_count": 7,
     "metadata": {},
     "output_type": "execute_result"
    }
   ],
   "source": [
    "molecules_crud.get_molecule_count(session=session)"
   ]
  },
  {
   "cell_type": "markdown",
   "metadata": {},
   "source": [
    "### Get Molecule by id"
   ]
  },
  {
   "cell_type": "code",
   "execution_count": 8,
   "metadata": {},
   "outputs": [
    {
     "data": {
      "text/plain": [
       "Molecule(total_multiplicity=2, total_charge=0, logp=-1.097, rdkit_fp_1024=array([0., 0., 0., ..., 1., 0., 1.], dtype=float32), topological_torsion_fp_1024=array([0., 0., 0., ..., 0., 0., 0.], dtype=float32), commit_time=datetime.datetime(2024, 5, 11, 20, 19, 10, 877329), snapshot_number=1, formula_id=24, smiles='CN(C=[N])C=O', qed=0.2383214092316783, morgan_fp3_1024=array([0., 0., 0., ..., 0., 0., 0.], dtype=float32), atompair_fp_1024=array([0., 0., 0., ..., 0., 0., 0.], dtype=float32), id=100, update_time=datetime.datetime(2024, 5, 11, 20, 19, 10, 900464), snapshot_ids=[105])"
      ]
     },
     "execution_count": 8,
     "metadata": {},
     "output_type": "execute_result"
    }
   ],
   "source": [
    "molecule = molecules_crud.get_molecule_by_id(session=session, molecule_id=100)\n",
    "molecule"
   ]
  },
  {
   "cell_type": "markdown",
   "metadata": {},
   "source": [
    "### Get Molecule by SMILES"
   ]
  },
  {
   "cell_type": "code",
   "execution_count": 9,
   "metadata": {},
   "outputs": [
    {
     "data": {
      "text/plain": [
       "Molecule(total_multiplicity=1, total_charge=-1, logp=0.04559000000000003, rdkit_fp_1024=array([1., 0., 0., ..., 0., 1., 0.], dtype=float32), topological_torsion_fp_1024=array([0., 0., 0., ..., 0., 0., 0.], dtype=float32), commit_time=datetime.datetime(2024, 5, 12, 0, 27, 16, 875700), snapshot_number=1, formula_id=22, smiles='C[C@@]1(O)C[C-]1O', qed=0.4095632403911939, morgan_fp3_1024=array([0., 0., 0., ..., 0., 0., 0.], dtype=float32), atompair_fp_1024=array([0., 0., 0., ..., 0., 0., 0.], dtype=float32), id=765999, update_time=datetime.datetime(2024, 5, 12, 0, 27, 16, 920976), snapshot_ids=[777930])"
      ]
     },
     "execution_count": 9,
     "metadata": {},
     "output_type": "execute_result"
    }
   ],
   "source": [
    "molecule = molecules_crud.get_molecule_by_smiles(\n",
    "    session=session, smiles=\"C[C@@]1(O)C[C-]1O\"\n",
    ")  # return None if SMILES is not found\n",
    "molecule"
   ]
  },
  {
   "cell_type": "markdown",
   "metadata": {},
   "source": [
    "### Get Molecules by SMILES (Fingerprint internal)\n",
    "\n",
    "This will perform a library-wide vector calculation to obtain a number of molecules that are closest to the input SMILES under the specified molecular fingerprint. This process is significantly slower than other queries (a single query on a database running on 14700K takes more than 1 minute), so it should be used with caution.\n",
    "\n",
    "SMILES vector sorting is also supported in the next step of conditional retrieval, but the number of vectors that need to be computed becomes smaller due to the limitation of other conditions (if they exist), and we prefer to use the following method."
   ]
  },
  {
   "cell_type": "code",
   "execution_count": 10,
   "metadata": {},
   "outputs": [
    {
     "data": {
      "text/plain": [
       "[Molecule(total_multiplicity=1, total_charge=1, logp=1.1543, rdkit_fp_1024=array([0., 0., 0., ..., 0., 1., 1.], dtype=float32), topological_torsion_fp_1024=array([0., 0., 0., ..., 0., 0., 0.], dtype=float32), commit_time=datetime.datetime(2024, 5, 12, 0, 54, 46, 678536), snapshot_number=1, formula_id=870, smiles='CCCC.[O+]#C[C@H]1CN1', qed=0.4175237558521346, morgan_fp3_1024=array([0., 0., 0., ..., 0., 0., 0.], dtype=float32), atompair_fp_1024=array([0., 0., 0., ..., 0., 0., 0.], dtype=float32), id=847211, update_time=datetime.datetime(2024, 5, 12, 0, 54, 46, 852171), snapshot_ids=[861838]),\n",
       " Molecule(total_multiplicity=1, total_charge=1, logp=2.2058, rdkit_fp_1024=array([0., 0., 0., ..., 0., 0., 0.], dtype=float32), topological_torsion_fp_1024=array([0., 0., 0., ..., 0., 0., 0.], dtype=float32), commit_time=datetime.datetime(2024, 5, 12, 1, 0, 3, 177295), snapshot_number=2, formula_id=313, smiles='CC#CC#[O+].CCCC', qed=0.3779925792522581, morgan_fp3_1024=array([0., 0., 0., ..., 0., 0., 0.], dtype=float32), atompair_fp_1024=array([0., 0., 0., ..., 1., 0., 0.], dtype=float32), id=863050, update_time=datetime.datetime(2024, 5, 12, 1, 3, 16, 705730), snapshot_ids=[878171, 887063]),\n",
       " Molecule(total_multiplicity=1, total_charge=0, logp=1.8064, rdkit_fp_1024=array([0., 0., 0., ..., 0., 0., 0.], dtype=float32), topological_torsion_fp_1024=array([0., 0., 0., ..., 0., 0., 0.], dtype=float32), commit_time=datetime.datetime(2024, 5, 11, 20, 34, 8, 601487), snapshot_number=1, formula_id=364, smiles='CCCC', qed=0.4310243576713091, morgan_fp3_1024=array([0., 0., 0., ..., 0., 0., 0.], dtype=float32), atompair_fp_1024=array([0., 0., 0., ..., 0., 0., 0.], dtype=float32), id=36388, update_time=datetime.datetime(2024, 5, 11, 20, 34, 8, 641568), snapshot_ids=[37003]),\n",
       " Molecule(total_multiplicity=1, total_charge=0, logp=2.752700000000001, rdkit_fp_1024=array([1., 1., 0., ..., 0., 1., 0.], dtype=float32), topological_torsion_fp_1024=array([0., 0., 0., ..., 0., 0., 0.], dtype=float32), commit_time=datetime.datetime(2024, 5, 11, 20, 42, 4, 445278), snapshot_number=1, formula_id=641, smiles='CCC[C@@]12C=CC[C@@H]1C2', qed=0.49391213296725806, morgan_fp3_1024=array([0., 0., 0., ..., 0., 0., 0.], dtype=float32), atompair_fp_1024=array([0., 0., 0., ..., 0., 0., 0.], dtype=float32), id=67706, update_time=datetime.datetime(2024, 5, 11, 20, 42, 4, 483526), snapshot_ids=[68517]),\n",
       " Molecule(total_multiplicity=1, total_charge=-1, logp=1.12689, rdkit_fp_1024=array([0., 0., 1., ..., 0., 1., 1.], dtype=float32), topological_torsion_fp_1024=array([0., 0., 0., ..., 0., 0., 0.], dtype=float32), commit_time=datetime.datetime(2024, 5, 12, 1, 3, 54, 857680), snapshot_number=1, formula_id=870, smiles='CCC[CH-]CCNC=O', qed=0.3240573693485511, morgan_fp3_1024=array([0., 0., 0., ..., 0., 0., 0.], dtype=float32), atompair_fp_1024=array([0., 0., 0., ..., 1., 0., 0.], dtype=float32), id=874985, update_time=datetime.datetime(2024, 5, 12, 1, 3, 54, 891699), snapshot_ids=[890527])]"
      ]
     },
     "execution_count": 10,
     "metadata": {},
     "output_type": "execute_result"
    }
   ],
   "source": [
    "molecules_crud.get_molecules_by_smiles(\n",
    "    session=session,\n",
    "    smiles=\"CCCC\",\n",
    "    method=\"morgan\",\n",
    "    distance=\"inner_product\",\n",
    "    skip=0,\n",
    "    limit=5,\n",
    ")"
   ]
  },
  {
   "cell_type": "markdown",
   "metadata": {},
   "source": [
    "### Get Molecules by conditions"
   ]
  },
  {
   "cell_type": "code",
   "execution_count": 11,
   "metadata": {},
   "outputs": [
    {
     "data": {
      "text/plain": [
       "[Molecule(total_multiplicity=1, total_charge=0, logp=1.31008, rdkit_fp_1024=array([0., 0., 0., ..., 0., 0., 0.], dtype=float32), topological_torsion_fp_1024=array([0., 0., 0., ..., 0., 0., 0.], dtype=float32), commit_time=datetime.datetime(2024, 5, 12, 6, 40, 22, 103695), snapshot_number=1, formula_id=1147, smiles='CCCC#N', qed=0.45506987992747255, morgan_fp3_1024=array([0., 0., 0., ..., 0., 0., 0.], dtype=float32), atompair_fp_1024=array([0., 0., 0., ..., 1., 0., 0.], dtype=float32), id=1725327, update_time=datetime.datetime(2024, 5, 12, 6, 40, 22, 195331), snapshot_ids=[1800804]),\n",
       " Molecule(total_multiplicity=1, total_charge=-1, logp=-0.26602999999999993, rdkit_fp_1024=array([0., 0., 0., ..., 0., 0., 0.], dtype=float32), topological_torsion_fp_1024=array([0., 0., 0., ..., 0., 0., 0.], dtype=float32), commit_time=datetime.datetime(2024, 5, 12, 0, 34, 15, 465023), snapshot_number=1, formula_id=7, smiles='[H]/N=C(/[O-])CC', qed=0.3362500626393042, morgan_fp3_1024=array([0., 0., 0., ..., 0., 0., 0.], dtype=float32), atompair_fp_1024=array([0., 0., 0., ..., 0., 0., 0.], dtype=float32), id=788311, update_time=datetime.datetime(2024, 5, 12, 0, 34, 15, 508902), snapshot_ids=[800644]),\n",
       " Molecule(total_multiplicity=2, total_charge=0, logp=1.1242699999999999, rdkit_fp_1024=array([0., 0., 0., ..., 0., 0., 0.], dtype=float32), topological_torsion_fp_1024=array([0., 0., 0., ..., 0., 0., 0.], dtype=float32), commit_time=datetime.datetime(2024, 5, 11, 20, 22, 14, 281735), snapshot_number=1, formula_id=117, smiles='CC[CH]C#N', qed=0.4514593057065473, morgan_fp3_1024=array([0., 0., 0., ..., 0., 0., 0.], dtype=float32), atompair_fp_1024=array([0., 0., 0., ..., 0., 0., 0.], dtype=float32), id=1694, update_time=datetime.datetime(2024, 5, 11, 20, 22, 14, 338390), snapshot_ids=[1710]),\n",
       " Molecule(total_multiplicity=2, total_charge=0, logp=0.48368999999999995, rdkit_fp_1024=array([0., 0., 0., ..., 1., 0., 1.], dtype=float32), topological_torsion_fp_1024=array([0., 0., 0., ..., 0., 0., 0.], dtype=float32), commit_time=datetime.datetime(2024, 5, 11, 20, 22, 14, 730501), snapshot_number=1, formula_id=111, smiles='CCN1[CH]C1', qed=0.40548636480174016, morgan_fp3_1024=array([0., 0., 0., ..., 0., 0., 0.], dtype=float32), atompair_fp_1024=array([0., 0., 0., ..., 0., 0., 0.], dtype=float32), id=1708, update_time=datetime.datetime(2024, 5, 11, 20, 22, 14, 782484), snapshot_ids=[1724]),\n",
       " Molecule(total_multiplicity=2, total_charge=0, logp=0.20590000000000003, rdkit_fp_1024=array([0., 0., 1., ..., 0., 0., 1.], dtype=float32), topological_torsion_fp_1024=array([0., 0., 0., ..., 0., 0., 0.], dtype=float32), commit_time=datetime.datetime(2024, 5, 11, 20, 22, 15, 520307), snapshot_number=1, formula_id=7, smiles='CCC([NH])=O', qed=0.4360585540177881, morgan_fp3_1024=array([0., 0., 0., ..., 0., 0., 0.], dtype=float32), atompair_fp_1024=array([0., 0., 0., ..., 0., 0., 0.], dtype=float32), id=1730, update_time=datetime.datetime(2024, 5, 11, 20, 22, 15, 568104), snapshot_ids=[1747]),\n",
       " Molecule(total_multiplicity=1, total_charge=0, logp=-0.24769999999999998, rdkit_fp_1024=array([0., 0., 1., ..., 0., 0., 1.], dtype=float32), topological_torsion_fp_1024=array([0., 0., 0., ..., 0., 0., 0.], dtype=float32), commit_time=datetime.datetime(2024, 5, 11, 20, 34, 9, 231504), snapshot_number=1, formula_id=366, smiles='CCNC=O', qed=0.4486453600169233, morgan_fp3_1024=array([0., 0., 0., ..., 0., 0., 1.], dtype=float32), atompair_fp_1024=array([0., 0., 0., ..., 0., 0., 0.], dtype=float32), id=36448, update_time=datetime.datetime(2024, 5, 11, 20, 34, 9, 261306), snapshot_ids=[37063]),\n",
       " Molecule(total_multiplicity=1, total_charge=-1, logp=-0.6051, rdkit_fp_1024=array([0., 0., 1., ..., 0., 0., 1.], dtype=float32), topological_torsion_fp_1024=array([0., 0., 0., ..., 0., 0., 0.], dtype=float32), commit_time=datetime.datetime(2024, 5, 11, 21, 6, 53, 668847), snapshot_number=1, formula_id=7, smiles='CC/N=C\\\\[O-]', qed=0.3005586028774481, morgan_fp3_1024=array([0., 0., 0., ..., 0., 0., 0.], dtype=float32), atompair_fp_1024=array([0., 0., 0., ..., 0., 0., 0.], dtype=float32), id=137950, update_time=datetime.datetime(2024, 5, 11, 21, 6, 53, 703229), snapshot_ids=[139355]),\n",
       " Molecule(total_multiplicity=1, total_charge=-1, logp=-0.3368999999999999, rdkit_fp_1024=array([0., 0., 1., ..., 0., 0., 1.], dtype=float32), topological_torsion_fp_1024=array([0., 0., 0., ..., 0., 0., 0.], dtype=float32), commit_time=datetime.datetime(2024, 5, 11, 21, 6, 53, 734684), snapshot_number=1, formula_id=7, smiles='CCN[C-]=O', qed=0.3507770243108268, morgan_fp3_1024=array([0., 0., 0., ..., 0., 0., 0.], dtype=float32), atompair_fp_1024=array([0., 0., 0., ..., 0., 0., 0.], dtype=float32), id=137953, update_time=datetime.datetime(2024, 5, 11, 21, 6, 53, 768226), snapshot_ids=[139360]),\n",
       " Molecule(total_multiplicity=1, total_charge=-1, logp=0.48368999999999995, rdkit_fp_1024=array([0., 0., 0., ..., 1., 0., 1.], dtype=float32), topological_torsion_fp_1024=array([0., 0., 0., ..., 0., 0., 0.], dtype=float32), commit_time=datetime.datetime(2024, 5, 11, 21, 6, 54, 514085), snapshot_number=1, formula_id=111, smiles='CCN1[CH-]C1', qed=0.32018310817502693, morgan_fp3_1024=array([0., 0., 0., ..., 0., 0., 0.], dtype=float32), atompair_fp_1024=array([0., 0., 0., ..., 0., 0., 0.], dtype=float32), id=138017, update_time=datetime.datetime(2024, 5, 11, 21, 6, 54, 550141), snapshot_ids=[139424]),\n",
       " Molecule(total_multiplicity=1, total_charge=1, logp=-0.056900000000000006, rdkit_fp_1024=array([0., 0., 0., ..., 0., 1., 1.], dtype=float32), topological_torsion_fp_1024=array([0., 0., 0., ..., 0., 0., 0.], dtype=float32), commit_time=datetime.datetime(2024, 5, 11, 21, 13, 58, 132583), snapshot_number=2, formula_id=7, smiles='CCNC#[O+]', qed=0.34137617164906364, morgan_fp3_1024=array([0., 0., 0., ..., 0., 0., 0.], dtype=float32), atompair_fp_1024=array([0., 0., 0., ..., 0., 0., 0.], dtype=float32), id=160963, update_time=datetime.datetime(2024, 5, 12, 2, 2, 11, 391654), snapshot_ids=[162599, 1053682])]"
      ]
     },
     "execution_count": 11,
     "metadata": {},
     "output_type": "execute_result"
    }
   ],
   "source": [
    "molecules_crud.get_molecules_by_conditions(\n",
    "    session=session,\n",
    "    molecule_filter=MoleculeFilter(\n",
    "        smiles=\"CCCC\",\n",
    "        method=\"morgan\",\n",
    "        distance=\"inner_product\",\n",
    "        numeric_filters=[\n",
    "            NumericFilter(\n",
    "                column=\"molwt\",\n",
    "                min=50,\n",
    "                max=80,\n",
    "            )\n",
    "        ],\n",
    "        element_filters=[ElementFilter(element=\"N\", count=-1)],\n",
    "    ),\n",
    "    skip=0,\n",
    "    limit=10,\n",
    ")"
   ]
  },
  {
   "cell_type": "markdown",
   "metadata": {},
   "source": [
    "The Molecule class has direct access to the Formula and Snapshot subclasses it contains."
   ]
  },
  {
   "cell_type": "code",
   "execution_count": 12,
   "metadata": {},
   "outputs": [
    {
     "data": {
      "text/plain": [
       "Formula(formula_string='H7C4O2', Ga=0, Gd=0, Am=0, He=0, Ge=0, Tb=0, Cm=0, Li=0, Se=0, Dy=0, Bk=0, Be=0, Br=0, Ho=0, Cf=0, B=0, Kr=0, Er=0, Es=0, C=4, Rb=0, Tm=0, Fm=0, N=0, Sr=0, Yb=0, Md=0, O=2, Y=0, Lu=0, No=0, F=0, Zr=0, Hf=0, Lr=0, Ne=0, Nb=0, Ta=0, Rf=0, Na=0, Mo=0, W=0, Db=0, Mg=0, Tc=0, Re=0, Sg=0, Al=0, Ru=0, Os=0, Bh=0, Si=0, Rh=0, Ir=0, Hs=0, P=0, Pd=0, Pt=0, Mt=0, S=0, Ag=0, Au=0, Ds=0, Cl=0, Cd=0, Hg=0, Rg=0, Ar=0, In=0, Tl=0, Cn=0, K=0, Sn=0, Pb=0, Nh=0, Ca=0, Sb=0, Bi=0, Fl=0, Sc=0, Te=0, Po=0, Mc=0, Ti=0, I=0, At=0, Lv=0, V=0, Xe=0, Rn=0, Ts=0, Cr=0, Cs=0, Fr=0, Og=0, As=0, Ba=0, Ra=0, atom_number=13, Mn=0, La=0, Ac=0, molwt=87.098, Fe=0, Ce=0, Th=0, id=22, Co=0, Pr=0, Pa=0, commit_time=datetime.datetime(2024, 5, 11, 20, 19, 9, 251142), Ni=0, Nd=0, U=0, update_time=datetime.datetime(2024, 5, 12, 9, 39, 11, 58194), Cu=0, Pm=0, Np=0, molecule_number=421, Zn=0, Sm=0, Pu=0, molecule_ids=[75, 76, 77, 78, 88, 89, 90, 144, 145, 146, 176, 177, 178, 179, 215, 1939, 1945, 1954, 2397, 2405, 2412, 2413, 2420, 2421, 2487, 2495, 2503, 2510, 2517, 2524, 2525, 2532, 2533, 2540, 2541, 2549, 2577, 2582, 2585, 2591, 2593, 2603, 2604, 2611, 2612, 2684, 2692, 2734, 2744, 2751, 2760, 2768, 2816, 2823, 2831, 2898, 2907, 2915, 2925, 2933, 3016, 3024, 3033, 3039, 3041, 3046, 3051, 3055, 3064, 3173, 3183, 3188, 3196, 3203, 3209, 3217, 3262, 3270, 3276, 3283, 3308, 3316, 3325, 3334, 3347, 3355, 3360, 3362, 3367, 3375, 3383, 3391, 3427, 3434, 3442, 3451, 3459, 3607, 3615, 3624, 3631, 3639, 3648, 137203, 137205, 137207, 137222, 137224, 137226, 137228, 137231, 137291, 137292, 137319, 138423, 138429, 138438, 138667, 138782, 138784, 138790, 138792, 138795, 138801, 138803, 138810, 138816, 138843, 138850, 138858, 138866, 138922, 138934, 138941, 138948, 138957, 138962, 138977, 138984, 138989, 138997, 139025, 139033, 139040, 139047, 139195, 139208, 139212, 139219, 139226, 139241, 139246, 139251, 139258, 139293, 139315, 139322, 139327, 139334, 139367, 139375, 139501, 139508, 139513, 139694, 139700, 139707, 139715, 139720, 139899, 139954, 140009, 140016, 161105, 161152, 161179, 161244, 161266, 161649, 161665, 161695, 161717, 161744, 161856, 161909, 161931, 161952, 161978, 162077, 162150, 162215, 162235, 162254, 162258, 162275, 162278, 162302, 162457, 162557, 162566, 162588, 162657, 162662, 162701, 162706, 162745, 162949, 162977, 163029, 163060, 163087, 163119, 163247, 163372, 163381, 163400, 163429, 163536, 163559, 163579, 163607, 163634, 163659, 163746, 163817, 163885, 164075, 164153, 164173, 164181, 164195, 164201, 164222, 164242, 164251, 164287, 765819, 765828, 765836, 765977, 765983, 765992, 765999, 766461, 766730, 766739, 766746, 766751, 766975, 788578, 788684, 788790, 788796, 788806, 788905, 789104, 789110, 789115, 789119, 789239, 789244, 789259, 789265, 789350, 789366, 789372, 789450, 789466, 789540, 789544, 789546, 789551, 789556, 789563, 789616, 789622, 789626, 789633, 789635, 789643, 789662, 789699, 789709, 789714, 789743, 789749, 789759, 789793, 789806, 789817, 789850, 789858, 789944, 790093, 790138, 790151, 790161, 790207, 790236, 790238, 790244, 790254, 790258, 790264, 790275, 790335, 790365, 790368, 1031679, 1031819, 1031826, 1031880, 1031914, 1031925, 1032001, 1032008, 1071088, 1071107, 1071131, 1071133, 1071138, 1071145, 1071211, 1261099, 1261104, 1261111, 1261116, 1261386, 1261393, 1261402, 1261404, 1261510, 1261514, 1261521, 1261529, 1261535, 1261582, 1261590, 1261597, 1261605, 1261613, 1261770, 1261778, 1261784, 1261791, 1261797, 1302180, 1302188, 1302197, 1302206, 1302215, 1302222, 1302229, 1302236, 1302315, 1302325, 1302331, 1302509, 1302517, 1302524, 1302530, 1302589, 1302597, 1302606, 1302613, 1302894, 1302900, 1302907, 1302916, 1314013, 1338002, 1338044, 1338210, 1342728, 1342803, 1342868, 1345835, 1354496, 1354634, 1354754, 1370340, 1370478, 1370574, 1370716, 1370759, 1370781, 1377381, 1377486, 1377930, 1427180, 1427281, 1427284, 1427289, 1448392, 1451786, 1451824, 1451830, 1451843, 1451847, 1451857, 1451862, 1451943, 1451948, 1451955, 1451980, 1451990, 1452020, 1452025, 1452029, 1452031, 1452034, 1452043, 1452051, 1452056, 1452075, 1452083, 1452168, 1452179, 1452239, 1907823, 1909152], H=7, Eu=0)"
      ]
     },
     "execution_count": 12,
     "metadata": {},
     "output_type": "execute_result"
    }
   ],
   "source": [
    "molecule.formula"
   ]
  },
  {
   "cell_type": "code",
   "execution_count": 13,
   "metadata": {},
   "outputs": [
    {
     "data": {
      "text/plain": [
       "[Snapshot(frame_id=17, qm_software='Gaussian', temperature=298.15, gibbs_free_energy_correction=0.071066, rotation_consts=[5.4659251, 3.0702314, 2.600142], freqs=[189.7168, 210.3566, 213.9166, 241.4435, 286.396, 390.1606, 405.3836, 444.7355, 486.3495, 663.991, 738.376, 815.1107, 873.1236, 886.7643, 936.5614, 962.8866, 996.2191, 1078.9872, 1147.7324, 1197.6947, 1270.1278, 1326.3212, 1381.7, 1439.4633, 1473.6047, 1484.3283, 2961.2922, 3007.4701, 3017.6351, 3087.1087, 3091.7482, 3754.9907, 3928.3303], octapole=[2.5002, 6.9827, 0.2486, 5.174, -2.9254, 0.6748, -4.2879, 8.0761, 3.4223, -0.7056], hirshfeld_charges=[], owner_id=1, filename='dsgdb9nsd_000300-7-.log', qm_software_version='Gaussian 16:  ES64L-G16RevC.01  3-Jul-2019', mulliken_charge=[-0.754266, 0.238633, -0.224929, -0.461204, -0.345452, -0.397673, 0.137757, 0.089825, 0.12231, 0.180728, 0.094841, 0.067143, 0.252286], U_0=-307.005709, isotropic_polarizability=90.25, reduced_masses=[1.4427, 1.5326, 1.3466, 1.4033, 1.9371, 4.919, 2.7604, 2.556, 3.0295, 5.244, 3.5991, 5.0773, 1.6007, 1.723, 1.4293, 1.8619, 1.6901, 1.7236, 1.5394, 2.024, 1.562, 2.4118, 1.3356, 1.2237, 1.0533, 1.0589, 1.0497, 1.0527, 1.0876, 1.0989, 1.1069, 1.0656, 1.0674], hexadecapole=[-363.1944, -294.0673, -190.9041, -8.8929, 32.0194, -20.3874, -14.4424, -3.6334, -8.9305, -123.1961, -98.8273, -84.9691, -4.2775, -6.3051, -4.6348], is_TS=False, molecule_id=765999, coords=[[-0.004625000059604645, 1.5242359638214111, 0.04736800119280815], [0.03666599839925766, 0.012280000373721123, 0.07078299671411514], [-1.221987009048462, -0.5504530072212219, -0.3829199969768524], [1.3093910217285156, -0.6911720037460327, -0.3101170063018799], [0.7422670125961304, -0.74058997631073, 1.13966703414917], [1.4808189868927002, 0.2028539925813675, 2.0164759159088135], [0.9333909749984741, 1.93612802028656, 0.4260750114917755], [-0.18140999972820282, 1.9161709547042847, -0.9652090072631836], [-0.816025972366333, 1.8793729543685913, 0.6949790120124817], [-1.1978839635849, -0.4892460107803345, -1.3460489511489868], [1.2842140197753906, -1.6130679845809937, -0.8888940215110779], [2.161879062652588, -0.04069200158119202, -0.5276889801025391], [1.6128029823303223, -0.3175469934940338, 2.8061718940734863]], basis='6-311+G(d,p)', spin_densities=[], electronic_spatial_extent=575.6965, alpha_homo=0.025049999356269836, IR_intensities=[5.1165, 79.702, 11.008, 45.1763, 11.671, 2.6408, 8.7182, 4.0363, 16.4228, 8.1196, 92.4264, 116.5163, 12.9415, 28.8018, 11.7057, 55.2627, 54.7, 10.7241, 127.738, 18.4136, 37.2475, 11.0886, 5.1617, 1.6937, 1.6772, 3.633, 116.3942, 130.4904, 59.2981, 15.7525, 71.6744, 18.1069, 105.2053], nbo_bond_order=[[0.0, 1.0, 1.0, -0.885862627], [0.0, 6.0, 1.0, -0.657781938], [0.0, 7.0, 1.0, -0.671135244], [0.0, 8.0, 1.0, -0.6537303396], [1.0, 2.0, 1.0, -1.2430048254], [1.0, 3.0, 1.0, -0.6986213985999999], [1.0, 4.0, 1.0, -0.6798594021000001], [2.0, 9.0, 1.0, -1.057339368], [3.0, 4.0, 1.0, -0.5144087025], [3.0, 10.0, 1.0, -0.6418104996], [3.0, 11.0, 1.0, -0.6414208843], [4.0, 5.0, 1.0, -1.085405997], [5.0, 12.0, 1.0, -1.03803412]], is_optimized=True, atoms=[6, 6, 8, 6, 6, 8, 1, 1, 1, 1, 1, 1, 1], functional='rb3lyp', gradients=[[8.863000402925536e-06, -1.1682000149448868e-05, 6.73200020173681e-06], [-1.3535999642044771e-05, 3.826000011031283e-06, -2.3345999579760246e-05], [5.872000201634364e-06, 1.0134000149264466e-05, 2.969999968627235e-06], [-1.8881000869441777e-05, 2.9500000664484105e-07, -1.262999944628973e-06], [6.029999894963112e-06, -4.874999831372406e-06, 5.6903998483903706e-05], [-1.2583999705384485e-05, -1.0275000022375025e-05, -1.7414000467397273e-05], [-1.884999960566347e-06, 2.3370000690192683e-06, -1.7959999922823044e-06], [-3.4639999739738414e-06, 2.586999926279532e-06, -2.618000053189462e-06], [-2.114999915647786e-06, 4.663999789045192e-06, 2.322000000276603e-06], [8.110000067063083e-07, -1.612999994904385e-06, -2.0400000266818097e-06], [1.761599924066104e-05, 1.26400004774041e-06, -1.3576999663200695e-05], [8.257000445155427e-06, -2.499999993688107e-07, -5.853999937244225e-06], [5.016000159230316e-06, 3.5900000057154102e-06, -1.0200000133409048e-06]], U_T=-306.9984973, alpha_lumo=0.12973999977111816, force_constants=[0.0306, 0.04, 0.0363, 0.0482, 0.0936, 0.4412, 0.2673, 0.2979, 0.4222, 1.3622, 1.1561, 1.9875, 0.719, 0.7983, 0.7386, 1.0171, 0.9882, 1.1823, 1.1948, 1.7107, 1.4847, 2.4997, 1.5023, 1.4939, 1.3477, 1.3746, 5.4237, 5.61, 5.8353, 6.1705, 6.2337, 8.8527, 9.7045], wiberg_bond_order=[], is_error=False, bonds=[[1, 0, 1], [2, 1, 1], [3, 1, 1], [4, 3, 1], [4, 1, 1], [5, 4, 1], [6, 0, 1], [7, 0, 1], [8, 0, 1], [9, 2, 1], [10, 3, 1], [11, 3, 1], [12, 5, 1]], keywords=' %chk=dsgdb9nsd_000300-7.chk  %mem=60GB  %nprocshared=32  Will use up to   32 processors via shared memory.\\n #p opt freq b3lyp/6-311+g** em=gd3bj', single_point_energy=-307.1068368, H_T=-306.9975531, alpha_gap=0.10469000041484833, spin_quantum_number=None, mo_bond_order=[], id=777930, formal_charges=[0, 0, 0, 0, -1, 0, 0, 0, 0, 0, 0, 0, 0], solvent_model='', zpve=0.101128, G_T=-307.0357712, beta_homo=None, spin_square=None, atom_atom_overlap_bond_order=[], hash_token='2f7cb1daba413e693f2b8b968a9a66d6ac7b3a3a015732e04c314ce9d29e32b3', formal_num_radicals=[0, 0, 0, 0, 0, 0, 0, 0, 0, 0, 0, 0, 0], solvent='', energy_correction=0.10834, S=80.437, beta_lumo=None, dipole=[1.5952, 2.0184, 2.621], nbo_charges=[-0.59453, 0.12209, -0.76484, -0.53119, -0.18602, -0.82926, 0.20957, 0.16263, 0.18674, 0.42455, 0.17855, 0.16804, 0.45367], commit_time=datetime.datetime(2024, 5, 12, 0, 27, 16, 900124), standard_coords=[[0.5592389702796936, 1.4492930173873901, 0.34808599948883057], [0.48539599776268005, -0.017389999702572823, -0.01475599966943264], [1.6917979717254639, -0.4464530050754547, -0.698291003704071], [-0.17096300423145294, -0.9754049777984619, 0.9397900104522705], [-0.7801560163497925, -0.6570850014686584, -0.45788800716400146], [-1.903601050376892, 0.30454400181770325, -0.32567599415779114], [-0.36834898591041565, 1.7695039510726929, 0.8276619911193848], [1.4007869958877563, 1.6651569604873657, 1.022902011871338], [0.6929619908332825, 2.0464649200439453, -0.5626270174980164], [2.3490779399871826, -0.573809027671814, -0.00279999990016222], [0.2346380054950714, -1.9741530418395996, 1.0930830240249634], [-0.6161190271377563, -0.5235159993171692, 1.8313219547271729], [-2.559675931930542, -0.07085400074720383, -0.9091969728469849]], enthalpy_correction=0.109284, Cv=26.544, beta_gap=None, quadrupole=[-46.0262, -48.9693, -48.2772, -0.7654, 3.5323, -3.3574], lowdin_charges=[], update_time=datetime.datetime(2024, 5, 12, 0, 34, 23, 297943))]"
      ]
     },
     "execution_count": 13,
     "metadata": {},
     "output_type": "execute_result"
    }
   ],
   "source": [
    "molecule.snapshots"
   ]
  },
  {
   "cell_type": "markdown",
   "metadata": {},
   "source": [
    "## Query a snapshot\n",
    "\n",
    "Snapshot represents in the qm9star database a specific spatial feature of the topology of a molecule, i.e. a set of atomic coordinates and their corresponding quantum chemical properties."
   ]
  },
  {
   "cell_type": "markdown",
   "metadata": {},
   "source": [
    "### Get Snapshot count"
   ]
  },
  {
   "cell_type": "code",
   "execution_count": 14,
   "metadata": {},
   "outputs": [
    {
     "data": {
      "text/plain": [
       "ItemCount(count=2013205)"
      ]
     },
     "execution_count": 14,
     "metadata": {},
     "output_type": "execute_result"
    }
   ],
   "source": [
    "snapshots_crud.get_snapshot_count(session=session)"
   ]
  },
  {
   "cell_type": "markdown",
   "metadata": {},
   "source": [
    "### Get Snapshot by id"
   ]
  },
  {
   "cell_type": "code",
   "execution_count": 16,
   "metadata": {},
   "outputs": [
    {
     "data": {
      "text/plain": [
       "Snapshot(frame_id=12, qm_software='Gaussian', temperature=298.15, gibbs_free_energy_correction=0.027357, rotation_consts=[6.3089385, 2.8029699, 2.0762843], freqs=[128.5821, 183.9502, 199.6908, 256.4165, 338.6203, 471.2538, 565.1562, 593.357, 702.5074, 717.7736, 851.6473, 1003.108, 1010.4644, 1228.3791, 1317.5539, 1374.9625, 2224.1958, 2353.0867, 3043.3924, 3390.5246, 3473.5788], octapole=[-38.4703, -8.5213, 0.4824, -6.5397, -1.3988, -2.5544, 2.0145, 5.4381, -3.207, -3.455], hirshfeld_charges=[], owner_id=1, filename='dsgdb9nsd_000330-1.log', qm_software_version='Gaussian 16:  ES64L-G16RevC.01  3-Jul-2019', mulliken_charge=[-0.14263, 0.040729, 0.923103, -1.119824, -0.042644, -0.265868, 0.215621, 0.222574, 0.168938], U_0=-263.588068, isotropic_polarizability=54.81, reduced_masses=[5.7907, 6.5033, 4.761, 1.3052, 6.3671, 3.8653, 9.4496, 5.8429, 1.2549, 1.2685, 5.6019, 4.2966, 5.9104, 1.2394, 1.2853, 1.1739, 5.8622, 12.6688, 1.0819, 1.0742, 1.1649], hexadecapole=[-467.4621, -264.2525, -56.7178, 64.0616, 23.2592, 10.6462, -6.3413, 0.8151, -3.2252, -118.7689, -97.1209, -43.9866, 3.4637, 3.59, 1.1769], is_TS=False, molecule_id=95, coords=[[-0.07014299929141998, 1.4673019647598267, 0.07537999749183655], [-0.020836999639868736, -0.0015249999705702066, -0.005803000181913376], [-1.3803019523620605, -0.5368239879608154, 0.11508499830961227], [-2.510246992111206, -0.9219729900360107, 0.23726299405097961], [0.6184579730033875, -0.44218501448631287, -1.2602449655532837], [1.137747049331665, -0.7419160008430481, -2.244225025177002], [-0.5524830222129822, 1.779770016670227, -0.7779790163040161], [0.5879529714584351, -0.36703500151634216, 0.8278120160102844], [-3.507596969604492, -1.2762219905853271, 0.3387390077114105]], basis='6-311+G(d,p)', spin_densities=[1.001578, -0.092524, 0.049996, 0.034371, 0.027981, 0.01204, -0.032481, 0.000408, -0.001368], electronic_spatial_extent=563.5283, alpha_homo=-0.3215000033378601, IR_intensities=[2.3516, 18.1068, 10.132, 50.6822, 9.0024, 12.901, 3.1495, 13.2322, 42.5715, 38.5614, 18.6048, 19.8129, 20.2755, 15.8326, 7.2277, 14.2342, 4.3153, 1.2921, 1.3733, 2.8831, 71.8168], nbo_bond_order=[[0.0, 1.0, 1.0, -0.7529308578], [0.0, 6.0, 1.0, -0.6474689535999999], [1.0, 2.0, 1.0, -0.7328339382], [1.0, 4.0, 1.0, -0.7373553915], [1.0, 7.0, 1.0, -0.5426906236], [2.0, 3.0, 3.0, -1.5458659793999998], [3.0, 8.0, 1.0, -0.6205942874], [4.0, 5.0, 3.0, -1.8225944552]], is_optimized=True, atoms=[7, 6, 6, 6, 6, 7, 1, 1, 1], functional='ub3lyp', gradients=[[1.1903999620699324e-05, -3.848399865091778e-05, 1.084100040316116e-05], [3.439899955992587e-05, 7.148699660319835e-05, 3.2469000871060416e-05], [-2.79949999821838e-05, -1.9167000573361292e-05, -5.984999916108791e-06], [-6.856999789306428e-06, -2.5960000584746012e-06, 7.496999842260266e-06], [1.847100065788254e-05, -2.096599928336218e-05, -2.8582000595633872e-05], [-7.138999990274897e-06, 8.50000014906982e-06, 6.846999895060435e-06], [-8.424999577982817e-06, 6.307000148808584e-06, -1.607000012882054e-05], [-1.2710999726550654e-05, -4.274999810149893e-06, -6.80799985275371e-06], [-1.6479999658258748e-06, -8.060000027398928e-07, -2.069999993636884e-07]], U_T=-263.5815771, alpha_lumo=-0.31349000334739685, force_constants=[0.0564, 0.1297, 0.1119, 0.0506, 0.4301, 0.5058, 1.7783, 1.212, 0.3649, 0.385, 2.3939, 2.5473, 3.5555, 1.1018, 1.3146, 1.3076, 17.0866, 41.3295, 5.9043, 7.2753, 8.2812], wiberg_bond_order=[], is_error=False, bonds=[[1, 0, 1], [1, 2, 1], [1, 7, 1], [2, 3, 3], [3, 8, 1], [4, 1, 1], [5, 4, 3], [6, 0, 1]], keywords=' %chk=dsgdb9nsd_000330-1.chk  %mem=60GB  %nprocshared=32  Will use up to   32 processors via shared memory.\\n #p opt freq b3lyp/6-311+g** em=gd3bj', single_point_energy=-263.6459978, H_T=-263.580633, alpha_gap=0.008009999990463257, spin_quantum_number=0.5018, mo_bond_order=[], id=100, formal_charges=[0, 0, 0, 0, 0, 0, 0, 0, 0], solvent_model='', zpve=0.05793, G_T=-263.6186411, beta_homo=-0.31297001242637634, spin_square=0.7536, atom_atom_overlap_bond_order=[], hash_token='1a258ef7959bd5593bad1913425e47bbdff5efc0c73da654b519e97825a3ad8f', formal_num_radicals=[1, 0, 0, 0, 0, 0, 0, 0, 0], solvent='', energy_correction=0.064421, S=79.995, beta_lumo=-0.14883999526500702, dipole=[-3.0066, 0.1559, 0.1049], nbo_charges=[-0.33553, -0.25735, -0.03551, -0.15294, 0.28376, -0.29189, 0.2988, 0.25389, 0.23676], commit_time=datetime.datetime(2024, 5, 11, 20, 19, 10, 608119), standard_coords=[[0.08084399998188019, 1.7295730113983154, -0.21262399852275848], [0.056129999458789825, 0.4212450087070465, 0.46127501130104065], [-1.1931129693984985, -0.2694689929485321, 0.12719500064849854], [-2.2385780811309814, -0.7817680239677429, -0.16366000473499298], [1.231726050376892, -0.38897401094436646, 0.08976099640130997], [2.1722989082336426, -0.9807819724082947, -0.2148749977350235], [0.15390999615192413, 1.526110053062439, -1.2184940576553345], [0.09612999856472015, 0.5954070091247559, 1.541646957397461], [-3.1590280532836914, -1.2492519617080688, -0.4180789887905121]], enthalpy_correction=0.065365, Cv=21.784, beta_gap=0.16413000226020813, quadrupole=[-36.9028, -40.3464, -31.937, 6.5241, 2.3056, -1.2717], lowdin_charges=[], update_time=datetime.datetime(2024, 5, 11, 20, 19, 10, 627003))"
      ]
     },
     "execution_count": 16,
     "metadata": {},
     "output_type": "execute_result"
    }
   ],
   "source": [
    "snapshot = snapshots_crud.get_snapshot_by_id(session=session, snapshot_id=100)\n",
    "snapshot"
   ]
  },
  {
   "cell_type": "markdown",
   "metadata": {},
   "source": [
    "### Get Snapshots by Conditions"
   ]
  },
  {
   "cell_type": "code",
   "execution_count": 17,
   "metadata": {},
   "outputs": [
    {
     "data": {
      "text/plain": [
       "[Snapshot(frame_id=9, qm_software='Gaussian', temperature=298.15, gibbs_free_energy_correction=0.006705, rotation_consts=[286.5303061, 10.3251829, 9.9660608], freqs=[385.471, 434.2716, 677.9265, 1033.1579, 1061.6757, 1441.4833, 2132.6473, 3159.0532, 3263.7445], octapole=[-12.207, 0.0007, -0.0023, -2.9898, -0.0048, -0.0023, 0.7439, -0.0002, -0.002, 0.0], hirshfeld_charges=[], owner_id=1, filename='dsgdb9nsd_000010-2.log', qm_software_version='Gaussian 16:  ES64L-G16RevC.01  3-Jul-2019', mulliken_charge=[-0.19278, 0.101835, -0.267061, 0.178949, 0.179057], U_0=-132.107894, isotropic_polarizability=27.23, reduced_masses=[3.2456, 5.1514, 1.4095, 1.4995, 4.4008, 1.193, 12.5101, 1.0502, 1.1194], hexadecapole=[-162.0348, -23.5982, -20.5422, 0.0145, 0.0162, -0.0004, 0.0, 0.0008, 0.0, -26.0274, -31.2457, -7.8076, 0.0, 0.0025, 0.0001], is_TS=False, molecule_id=1, coords=[[0.13295499980449677, 1.366778016090393, 0.26319900155067444], [0.04202200099825859, 0.005342000164091587, 0.06984899938106537], [-0.03693399950861931, -1.1488929986953735, -0.09599699825048447], [0.9756669998168945, 1.9155739545822144, -0.13468700647354126], [-0.6372550129890442, 1.890231966972351, 0.8129379749298096]], basis='6-311+G(d,p)', spin_densities=[0.91752, -0.255865, 0.420773, -0.041227, -0.041202], electronic_spatial_extent=145.0989, alpha_homo=-0.3538999855518341, IR_intensities=[0.2528, 0.0068, 56.7994, 0.0078, 7.0649, 3.7492, 1.3353, 0.2221, 1.3999], nbo_bond_order=[[0.0, 1.0, 1.0, -0.8014062650000001], [0.0, 3.0, 1.0, -0.5791144814], [0.0, 4.0, 1.0, -0.579303742], [1.0, 2.0, 3.0, -1.7937788345]], is_optimized=True, atoms=[6, 6, 7, 1, 1], functional='ub3lyp', gradients=[[0.00020311700063757598, 0.00017112800560425967, -1.3793999642075505e-05], [-0.00021357799414545298, -0.00016063499788288027, -9.967700316337869e-05], [7.215199730126187e-05, -5.517699901247397e-05, 5.640599920297973e-05], [-2.166400008718483e-05, 5.3851999837206677e-05, 2.8807999115088023e-05], [-4.002700006822124e-05, -9.16800036065979e-06, 2.825699993991293e-05]], U_T=-132.1042704, alpha_lumo=-0.2745000123977661, force_constants=[0.2841, 0.5724, 0.3817, 0.943, 2.9226, 1.4605, 33.5234, 6.1749, 7.0252], wiberg_bond_order=[], is_error=False, bonds=[[3, 0, 1], [2, 1, 3], [1, 0, 1], [0, 4, 1]], keywords=' %chk=dsgdb9nsd_000010-2.chk  %mem=60GB  %nprocshared=32  Will use up to   32 processors via shared memory.\\n #p opt freq b3lyp/6-311+g** em=gd3bj', single_point_energy=-132.1388531, H_T=-132.1033262, alpha_gap=0.07940000295639038, spin_quantum_number=0.5085, mo_bond_order=[], id=1, formal_charges=[0, 0, 0, 0, 0], solvent_model='', zpve=0.030959, G_T=-132.1321476, beta_homo=-0.3487299978733063, spin_square=0.7671, atom_atom_overlap_bond_order=[], hash_token='1251764af8757f41a18b829d8e386b088179ed86ed92f42b596723d959de2057', formal_num_radicals=[1, 0, 0, 0, 0], solvent='', energy_correction=0.034583, S=60.66, beta_lumo=-0.14427000284194946, dipole=[-3.5226, 0.0002, 0.0007], nbo_charges=[-0.33679, 0.18063, -0.26765, 0.21187, 0.21194], commit_time=datetime.datetime(2024, 5, 11, 20, 19, 4, 394869), standard_coords=[[-1.1910109519958496, -0.00012700000661425292, -0.00020599999697878957], [0.1870889961719513, 0.0002099999983329326, 0.001019999966956675], [1.3558470010757446, -0.00013800000306218863, -0.0005119999987073243], [-1.733180046081543, 0.935666024684906, -0.0006489999941550195], [-1.7342150211334229, -0.9352030158042908, -0.0006469999789260328]], enthalpy_correction=0.035527, Cv=10.486, beta_gap=0.2044599950313568, quadrupole=[-19.2241, -16.4622, -18.4989, 0.0016, 0.0037, 0.0], lowdin_charges=[], update_time=datetime.datetime(2024, 5, 11, 20, 19, 4, 418019)),\n",
       " Snapshot(frame_id=10, qm_software='Gaussian', temperature=298.15, gibbs_free_energy_correction=0.021811, rotation_consts=[12.0963124, 10.5657257, 5.6806502], freqs=[321.3533, 349.9509, 431.335, 507.8923, 555.694, 707.336, 919.8858, 1057.1724, 1156.7222, 1383.6296, 1583.3544, 1658.7172, 3463.3515, 3592.9374, 3722.6307], octapole=[5.5599, -0.4312, -0.5418, 8.0026, -1.389, -1.2999, -1.3745, 1.3724, -1.733, -2.4292], hirshfeld_charges=[], owner_id=1, filename='dsgdb9nsd_000020-1.log', qm_software_version='Gaussian 16:  ES64L-G16RevC.01  3-Jul-2019', mulliken_charge=[-0.228547, 0.177572, -0.373703, -0.340549, 0.231076, 0.264764, 0.269387], U_0=-224.626481, isotropic_polarizability=34.33, reduced_masses=[1.4707, 1.28, 1.8245, 1.5021, 2.0784, 4.7931, 5.1677, 1.7013, 1.4169, 3.3463, 1.8196, 2.677, 1.0731, 1.0448, 1.1056], hexadecapole=[-111.2917, -133.1334, -25.7931, 4.723, 7.9207, -7.3015, 2.3804, 2.3049, 1.0895, -39.3624, -30.1874, -25.6561, 1.7827, 3.2549, -0.1843], is_TS=False, molecule_id=2, coords=[[0.009193000383675098, 1.345458984375, -0.2991349995136261], [-0.034439001232385635, -0.025963999330997467, -0.052824001759290695], [1.1812649965286255, -0.6295610070228577, 0.023408999666571617], [-1.1092829704284668, -0.6168500185012817, -0.0014449999434873462], [-0.7841839790344238, 1.766489028930664, 0.19244100153446198], [2.0057880878448486, -0.119439996778965, -0.24926899373531342], [1.2163159847259521, -1.6359829902648926, 0.05827400088310242]], basis='6-311+G(d,p)', spin_densities=[0.906169, -0.091972, 0.028541, 0.193025, -0.031503, -0.003812, -0.000448], electronic_spatial_extent=232.1078, alpha_homo=-0.31075000762939453, IR_intensities=[59.6273, 291.4425, 22.5452, 2.3755, 28.866, 35.7856, 4.2888, 61.6298, 64.6857, 62.1125, 27.522, 363.3663, 12.932, 62.0372, 64.3369], nbo_bond_order=[[0.0, 1.0, 1.0, -0.8230227589], [0.0, 4.0, 1.0, -0.6373531385], [1.0, 2.0, 2.0, -0.8980705641], [1.0, 3.0, 2.0, -1.2337440576], [2.0, 5.0, 1.0, -0.6987036375000001], [2.0, 6.0, 1.0, -0.6945147335]], is_optimized=True, atoms=[7, 6, 7, 8, 1, 1, 1], functional='ub3lyp', gradients=[[2.2453999918070622e-05, -6.096899960539304e-05, 1.220499962073518e-05], [0.00019982100639026612, 0.0001766420027706772, -1.3107999620842747e-05], [-3.0076000257395208e-05, -3.2083000405691564e-05, 4.14099986301153e-06], [-0.0001625989971216768, -9.725300333229825e-05, 1.1291999726381619e-05], [-2.6702000468503684e-05, 2.9099999210302485e-07, -4.9300001592200715e-06], [-7.94100014900323e-06, 1.2268999853404239e-05, -6.6289999267610256e-06], [5.042999873694498e-06, 1.1030000450773514e-06, -2.9709999580518343e-06]], U_T=-224.6219856, alpha_lumo=-0.2906000018119812, force_constants=[0.0895, 0.0924, 0.2, 0.2283, 0.3781, 1.4129, 2.5764, 1.1203, 1.117, 3.7745, 2.6877, 4.3395, 7.584, 7.9469, 9.0273], wiberg_bond_order=[], is_error=False, bonds=[[0, 1, 1], [0, 4, 1], [1, 3, 2], [1, 2, 1], [2, 6, 1], [5, 2, 1]], keywords=' %chk=dsgdb9nsd_000020-1.chk  %mem=60GB  %nprocshared=32  Will use up to   32 processors via shared memory.\\n #p opt freq b3lyp/6-311+g** em=gd3bj', single_point_energy=-224.6752613, H_T=-224.6210414, alpha_gap=0.020150000229477882, spin_quantum_number=0.5041, mo_bond_order=[], id=2, formal_charges=[0, 0, 0, 0, 0, 0, 0], solvent_model='', zpve=0.04878, G_T=-224.6534505, beta_homo=-0.2803399860858917, spin_square=0.7583, atom_atom_overlap_bond_order=[], hash_token='47826b9c686c7cf8dc944e42b5203d3078f85165a327617d223c4e558eaeeb37', formal_num_radicals=[1, 0, 0, 0, 0, 0, 0], solvent='', energy_correction=0.053276, S=68.211, beta_lumo=-0.15817999839782715, dipole=[2.1371, -1.6226, -0.6816], nbo_charges=[-0.44977, 0.694, -0.8027, -0.57526, 0.33055, 0.40132, 0.40185], commit_time=datetime.datetime(2024, 5, 11, 20, 19, 4, 459572), standard_coords=[[-0.9153410196304321, -1.0129419565200806, 0.07459200173616409], [-0.051458001136779785, 0.07749500125646591, -0.015003000386059284], [1.2688970565795898, -0.24393099546432495, -0.05276999995112419], [-0.48766300082206726, 1.224256992340088, 0.026683000847697258], [-1.765246033668518, -0.7687640190124512, -0.4415450096130371], [1.5542750358581543, -1.1902860403060913, 0.1405870020389557], [1.946133017539978, 0.49814000725746155, 0.024757999926805496]], enthalpy_correction=0.05422, Cv=14.984, beta_gap=0.12216000258922577, quadrupole=[-17.3284, -27.6945, -24.438, 0.7705, 2.3661, 0.8407], lowdin_charges=[], update_time=datetime.datetime(2024, 5, 11, 20, 19, 4, 475325)),\n",
       " Snapshot(frame_id=10, qm_software='Gaussian', temperature=298.15, gibbs_free_energy_correction=0.041168, rotation_consts=[28.1555167, 4.805543, 4.3376343], freqs=[71.9217, 190.873, 328.7241, 465.4087, 597.9826, 672.5293, 675.4595, 778.8404, 914.3257, 1056.1928, 1085.459, 1279.1102, 1308.7241, 1455.4178, 1468.1462, 2208.3376, 3014.2981, 3047.2297, 3143.7637, 3254.1608, 3478.9568], octapole=[17.999, 2.3011, 0.0002, -2.4416, -7.2015, 0.0075, -4.706, 0.5259, -0.0017, -0.0008], hirshfeld_charges=[], owner_id=1, filename='dsgdb9nsd_000030-3.log', qm_software_version='Gaussian 16:  ES64L-G16RevC.01  3-Jul-2019', mulliken_charge=[-0.24306, -0.491545, 1.121248, -1.196975, 0.148941, 0.148946, 0.180631, 0.180614, 0.151201], U_0=-155.281962, isotropic_polarizability=44.83, reduced_masses=[1.0478, 2.9357, 2.9392, 2.0392, 2.4211, 1.2484, 1.2572, 1.1426, 5.0779, 3.0738, 1.5409, 1.1162, 1.3749, 1.1443, 1.0937, 5.9333, 1.0571, 1.1024, 1.0494, 1.1202, 1.1609], hexadecapole=[-299.2605, -80.651, -43.4806, -15.6703, -0.0094, -1.7313, 0.0042, -0.0034, 0.0006, -66.4523, -64.0726, -18.3153, -0.0031, 0.0025, 1.1716], is_TS=False, molecule_id=3, coords=[[0.04725699871778488, 1.5237009525299072, -0.10647500306367874], [0.04363999888300896, 0.023124000057578087, -0.0719980001449585], [0.7125980257987976, -0.549871027469635, -1.2460130453109741], [1.2670990228652954, -0.9869570136070251, -2.2196149826049805], [0.9171500205993652, 2.0700020790100098, 0.23432299494743347], [-0.7033439874649048, 2.052978038787842, -0.6789789795875549], [0.5477150082588196, -0.339819997549057, 0.8307030200958252], [-0.9837300181388855, -0.3560130000114441, -0.034074001014232635], [1.7555910348892212, -1.3788189888000488, -3.0775649547576904]], basis='6-311+G(d,p)', spin_densities=[1.105407, -0.097235, -0.000546, 0.06769, -0.04859, -0.048593, 0.011275, 0.011209, -0.000618], electronic_spatial_extent=313.6451, alpha_homo=-0.27827000617980957, IR_intensities=[0.8709, 2.499, 9.6985, 29.9075, 39.717, 54.2618, 53.9733, 0.2857, 4.054, 1.0017, 0.0012, 0.7225, 3.1661, 1.9949, 3.9738, 7.5215, 15.3425, 6.8411, 10.7648, 7.5829, 67.166], nbo_bond_order=[[0.0, 1.0, 1.0, -0.6480611852000001], [0.0, 4.0, 1.0, -0.5416523515], [0.0, 5.0, 1.0, -0.5416623056], [1.0, 2.0, 1.0, -0.6879906872], [1.0, 6.0, 1.0, -0.5018899409], [1.0, 7.0, 1.0, -0.5018899409], [2.0, 3.0, 3.0, -1.428865909], [3.0, 8.0, 1.0, -0.5838124849999999]], is_optimized=True, atoms=[6, 6, 6, 6, 1, 1, 1, 1, 1], functional='ub3lyp', gradients=[[1.98500001715729e-05, -5.5551001423737034e-05, -3.542099875630811e-05], [-2.9237999115139246e-05, -3.9095000829547644e-05, 3.7459998566191643e-05], [-2.4003000362426974e-05, 6.713400216540322e-05, 6.306599971139804e-05], [2.8533000659081154e-05, -3.205900065950118e-05, -6.731799658155069e-05], [-2.395999945292715e-05, 2.84590005321661e-05, -1.1410000297473744e-05], [2.2345000616041943e-05, 2.8930999178555794e-05, 1.3992000276630279e-05], [-9.24600044527324e-06, 1.7830000160756754e-06, 1.9290000636829063e-06], [2.0249999579391442e-06, 5.709000106435269e-06, 1.475000044592889e-05], [1.3693000255443621e-05, -5.309999778546626e-06, -1.7049000234692357e-05]], U_T=-155.2764929, alpha_lumo=-0.2262199968099594, force_constants=[0.0032, 0.063, 0.1871, 0.2602, 0.5101, 0.3327, 0.3379, 0.4084, 2.5011, 2.0203, 1.0697, 1.076, 1.3875, 1.4281, 1.389, 17.0481, 5.6591, 6.0311, 6.1105, 6.9888, 8.2783], wiberg_bond_order=[], is_error=False, bonds=[[8, 3, 1], [3, 2, 3], [2, 1, 1], [5, 0, 1], [0, 1, 1], [0, 4, 1], [1, 7, 1], [1, 6, 1]], keywords=' %chk=dsgdb9nsd_000030-3.chk  %mem=60GB  %nprocshared=32  Will use up to   32 processors via shared memory.\\n #p opt freq b3lyp/6-311+g** em=gd3bj', single_point_energy=-155.3514364, H_T=-155.2755487, alpha_gap=0.05204999819397926, spin_quantum_number=0.5018, mo_bond_order=[], id=3, formal_charges=[0, 0, 0, 0, 0, 0, 0, 0, 0], solvent_model='', zpve=0.069475, G_T=-155.3102681, beta_homo=-0.277319997549057, spin_square=0.7537, atom_atom_overlap_bond_order=[], hash_token='7722bead948bba76b4fc45451e386be72d000f8ae183297970c228611eb622c6', formal_num_radicals=[1, 0, 0, 0, 0, 0, 0, 0, 0], solvent='', energy_correction=0.074943, S=73.073, beta_lumo=-0.07647000253200531, dipole=[-0.4467, 0.1675, 0.0002], nbo_charges=[-0.23415, -0.53686, -0.0039, -0.24438, 0.16477, 0.16477, 0.23126, 0.23125, 0.22723], commit_time=datetime.datetime(2024, 5, 11, 20, 19, 4, 513532), standard_coords=[[-1.6094419956207275, -0.5032259821891785, 7.999999979801942e-06], [-0.6287310123443604, 0.6330569982528687, -9.7999996796716e-05], [0.7587509751319885, 0.15448600053787231, 3.899999865097925e-05], [1.8837900161743164, -0.2706089913845062, 3.199999991920777e-05], [-1.8720099925994873, -0.9905679821968079, -0.9299690127372742], [-1.8732680082321167, -0.9893820285797119, 0.9302480220794678], [-0.7802489995956421, 1.2688380479812622, -0.8795949816703796], [-0.7802960276603699, 1.2690620422363281, 0.8792189955711365], [2.8796160221099854, -0.6401879787445068, 0.0002099999983329326]], enthalpy_correction=0.075888, Cv=17.781, beta_gap=0.2008499950170517, quadrupole=[-23.1285, -25.1094, -25.1189, -1.34, -0.0009, 0.0006], lowdin_charges=[], update_time=datetime.datetime(2024, 5, 11, 20, 19, 4, 530258)),\n",
       " Snapshot(frame_id=16, qm_software='Gaussian', temperature=298.15, gibbs_free_energy_correction=0.041642, rotation_consts=[38.6315281, 4.4400511, 4.082619], freqs=[79.6134, 210.9595, 388.1271, 446.7574, 554.7662, 599.431, 651.2126, 869.5475, 1005.9722, 1098.8935, 1151.4885, 1387.3117, 1403.0658, 1474.918, 1493.0211, 2013.045, 2999.0751, 3035.1745, 3111.8457, 3149.8891, 3470.1882], octapole=[11.416, 1.6338, -0.0005, -2.6768, -4.9966, -0.0012, -3.7495, -0.2303, 0.0003, 0.0], hirshfeld_charges=[], owner_id=1, filename='dsgdb9nsd_000030-4.log', qm_software_version='Gaussian 16:  ES64L-G16RevC.01  3-Jul-2019', mulliken_charge=[-0.62523, -0.535566, 1.372287, -0.987906, 0.152514, 0.150972, 0.150994, 0.160387, 0.161547], U_0=-155.309062, isotropic_polarizability=48.07, reduced_masses=[1.1309, 3.171, 3.6134, 1.1847, 3.9185, 1.4458, 1.2371, 2.3739, 1.3674, 1.8124, 1.9888, 1.7783, 1.2109, 1.0458, 1.1014, 6.806, 1.0391, 1.0986, 1.0965, 1.0859, 1.1379], hexadecapole=[-304.4738, -64.5111, -39.2077, -18.5579, -0.0056, -1.4862, 0.0003, -0.0004, 0.0005, -74.0288, -68.9816, -19.4436, 0.0012, -0.0008, 0.0388], is_TS=False, molecule_id=4, coords=[[-0.05944899842143059, 1.581737995147705, 0.020031999796628952], [-0.2547670006752014, 0.17998400330543518, -0.4676949977874756], [0.6050959825515747, -0.4479590058326721, -1.3315249681472778], [1.3784220218658447, -0.9981070160865784, -2.1021549701690674], [0.8436880111694336, 2.0273149013519287, -0.39809900522232056], [-0.9139429926872253, 2.213918924331665, -0.25073400139808655], [0.0160910002887249, 1.6094679832458496, 1.1139479875564575], [-1.1235270500183105, -0.3710390031337738, -0.11998599767684937], [2.0473968982696533, -1.4804840087890625, -2.7713499069213867]], basis='6-311+G(d,p)', spin_densities=[-0.064458, 0.748428, -0.238847, 0.548362, 0.001246, 0.032663, 0.032681, -0.037539, -0.022536], electronic_spatial_extent=327.9302, alpha_homo=-0.2829799950122833, IR_intensities=[0.6846, 1.9241, 5.5001, 64.3512, 6.5109, 19.1846, 57.2805, 3.0256, 0.0155, 5.6387, 2.1196, 16.4011, 2.5923, 8.225, 7.2269, 0.1301, 26.882, 17.8978, 8.3796, 10.1061, 68.2465], nbo_bond_order=[[0.0, 1.0, 1.0, -0.6445050456], [0.0, 4.0, 1.0, -0.506910288], [0.0, 5.0, 1.0, -0.5064813648], [0.0, 6.0, 1.0, -0.5064813648], [1.0, 2.0, 1.0, -0.747557271], [1.0, 7.0, 1.0, -0.5200296975], [2.0, 3.0, 3.0, -1.4369306521], [3.0, 8.0, 1.0, -0.5978468223000001]], is_optimized=True, atoms=[6, 6, 6, 6, 1, 1, 1, 1, 1], functional='ub3lyp', gradients=[[-2.6000000374892807e-08, -9.964999662770424e-06, -2.18700006371364e-06], [9.045999831869267e-06, 1.3312999726622365e-05, -4.18699983129045e-06], [-4.645999979402404e-06, 5.109000085212756e-06, -3.3740000162651995e-06], [3.212999899915303e-06, -1.9029999975828105e-06, 5.558999873755965e-06], [-7.770000252094178e-07, 1.4629999895987567e-06, 2.077000090139336e-06], [-1.4790000477660215e-06, -2.1070000002509914e-06, -1.3400000398178236e-06], [3.8700000004610047e-07, 2.980000033403485e-07, 2.0449999738048064e-06], [-3.632000016295933e-06, -3.3280000479862792e-06, 3.4869999581133015e-06], [-2.08599999496073e-06, -2.880000010918593e-06, -2.0790000689885346e-06]], U_T=-155.303675, alpha_lumo=-0.2041199952363968, force_constants=[0.0042, 0.0831, 0.3207, 0.1393, 0.7105, 0.3061, 0.3091, 1.0575, 0.8153, 1.2895, 1.5537, 2.0166, 1.4045, 1.3403, 1.4466, 16.2499, 5.5068, 5.9632, 6.2561, 6.3481, 8.0734], wiberg_bond_order=[], is_error=False, bonds=[[8, 3, 1], [3, 2, 3], [2, 1, 1], [1, 7, 1], [1, 0, 1], [4, 0, 1], [5, 0, 1], [0, 6, 1]], keywords=' %chk=dsgdb9nsd_000030-4.chk  %mem=60GB  %nprocshared=32  Will use up to   32 processors via shared memory.\\n #p opt freq b3lyp/6-311+g** em=gd3bj', single_point_energy=-155.3787613, H_T=-155.3027308, alpha_gap=0.07885999977588654, spin_quantum_number=0.5094, mo_bond_order=[], id=4, formal_charges=[0, 0, 0, 0, 0, 0, 0, 0, 0], solvent_model='', zpve=0.069699, G_T=-155.3371198, beta_homo=-0.27911999821662903, spin_square=0.7689, atom_atom_overlap_bond_order=[], hash_token='e9aa44b19500ce37b4d665f2a57a702c716444356389d0d83ebe07d595bc4049', formal_num_radicals=[0, 1, 0, 0, 0, 0, 0, 0, 0], solvent='', energy_correction=0.075086, S=72.378, beta_lumo=-0.0902400016784668, dipole=[-0.6653, -0.073, -0.0001], nbo_charges=[-0.61663, -0.16705, -0.0909, -0.19153, 0.21365, 0.21379, 0.21379, 0.2002, 0.22468], commit_time=datetime.datetime(2024, 5, 11, 20, 19, 4, 574484), standard_coords=[[-1.666267991065979, -0.36757099628448486, 7.000000096013537e-06], [-0.4988510012626648, 0.5694860219955444, -6.000000212225132e-06], [0.8071709871292114, 0.15213200449943542, -5.6000000768108293e-05], [1.9680349826812744, -0.23122400045394897, 5.6000000768108293e-05], [-1.3420310020446777, -1.4086769819259644, 0.00015799999528098851], [-2.3011679649353027, -0.20322899520397186, 0.8792229890823364], [-2.300985097885132, -0.20342899858951569, -0.8793789744377136], [-0.6945300102233887, 1.6376539468765259, 7.899999764049426e-05], [2.9781980514526367, -0.5592589974403381, -8.900000102585182e-05]], enthalpy_correction=0.07603, Cv=17.519, beta_gap=0.18887999653816223, quadrupole=[-20.3512, -24.7529, -26.7645, -1.6518, -0.0005, 0.0002], lowdin_charges=[], update_time=datetime.datetime(2024, 5, 11, 20, 19, 4, 592125)),\n",
       " Snapshot(frame_id=13, qm_software='Gaussian', temperature=298.15, gibbs_free_energy_correction=0.043016, rotation_consts=[28.1181334, 4.7965835, 4.3361998], freqs=[121.8335, 210.0132, 335.8372, 437.874, 728.6951, 830.8831, 1010.8084, 1028.8705, 1078.001, 1262.9951, 1317.3789, 1412.5808, 1414.9381, 1495.7812, 1501.9378, 1605.6201, 2989.3015, 3017.4916, 3040.7972, 3109.6932, 3116.9759], octapole=[25.374, 3.8977, -0.6707, 6.0969, 3.4387, -4.6917, 4.0464, 1.2851, -0.3856, -0.9033], hirshfeld_charges=[], owner_id=1, filename='dsgdb9nsd_000030-6.log', qm_software_version='Gaussian 16:  ES64L-G16RevC.01  3-Jul-2019', mulliken_charge=[-0.478132, -0.429934, 0.389817, -0.305373, 0.157078, 0.151603, 0.142952, 0.189299, 0.182691], U_0=-155.233485, isotropic_polarizability=57.25, reduced_masses=[4.297, 1.2743, 2.3808, 4.0993, 1.3995, 3.0125, 1.9259, 1.6379, 1.6837, 1.1797, 1.4602, 1.147, 1.21, 1.038, 1.0486, 6.2066, 1.0651, 1.0886, 1.0344, 1.1025, 1.1035], hexadecapole=[-384.5497, -80.3459, -42.5937, -7.2619, 14.1465, -3.9932, -0.1536, 2.1894, 1.1101, -76.4434, -67.1767, -18.1945, 2.5737, 1.1085, -1.5364], is_TS=False, molecule_id=5, coords=[[-1.5163660049438477, -0.4438900053501129, 0.0010219999821856618], [-0.41724398732185364, 0.6280040144920349, -0.026127999648451805], [0.9331420063972473, 0.11443399637937546, 0.13477100431919098], [2.073301076889038, -0.3694460093975067, -0.08042000234127045], [-1.378227949142456, -1.1555509567260742, -0.8146740198135376], [-1.4951720237731934, -0.9972519874572754, 0.9414910078048706], [-2.49938702583313, 0.020394999533891678, -0.10583200305700302], [-0.4576770067214966, 1.2073129415512085, -0.9575700163841248], [-0.5788379907608032, 1.3679100275039673, 0.7712230086326599]], basis='6-311+G(d,p)', spin_densities=[-0.007437, -0.002882, 0.345901, 0.611949, 0.001743, 0.000713, -0.000562, 0.019011, 0.031564], electronic_spatial_extent=310.8216, alpha_homo=-0.2996000051498413, IR_intensities=[15.094, 3.7353, 27.178, 5.4761, 32.6832, 15.6461, 25.7328, 19.013, 11.7705, 15.1503, 206.5802, 154.7697, 2.6887, 8.9549, 1.5952, 1097.0993, 7.341, 13.0999, 23.6257, 19.5092, 17.2176], nbo_bond_order=[[0.0, 1.0, 1.0, -0.626701014], [0.0, 4.0, 1.0, -0.5140131600000001], [0.0, 5.0, 1.0, -0.5148551737], [0.0, 6.0, 1.0, -0.514329773], [1.0, 2.0, 1.0, -0.725056144], [1.0, 7.0, 1.0, -0.5168065660000001], [1.0, 8.0, 1.0, -0.5165993311], [2.0, 3.0, 3.0, -1.4635625145]], is_optimized=True, atoms=[6, 6, 6, 6, 1, 1, 1, 1, 1], functional='ub3lyp', gradients=[[-4.593000085151289e-06, 7.410999842250021e-06, -7.286999789357651e-06], [8.251999679487199e-05, 2.9196999093983322e-05, 4.3831998482346535e-05], [0.00015474999963771552, -9.844599844655022e-05, -6.608200055779889e-05], [-0.00019874199642799795, 8.83169996086508e-05, 4.950500078848563e-05], [1.3039999657848966e-06, -4.853000064031221e-06, -6.039999789209105e-07], [-2.4599999051133636e-06, -8.906999937607907e-06, 1.2740000556732411e-06], [-8.889999776329205e-07, -6.65400011712336e-06, 4.06299977839808e-06], [-1.8063999959849752e-05, -1.4460000556937302e-06, -5.484000212163664e-06], [-1.3824000234308187e-05, -4.618999810190871e-06, -1.9216999135096557e-05]], U_T=-155.2284445, alpha_lumo=-0.2900699973106384, force_constants=[0.0376, 0.0331, 0.1582, 0.4631, 0.4378, 1.2253, 1.1594, 1.0216, 1.1528, 1.1087, 1.4931, 1.3484, 1.4273, 1.3682, 1.3937, 9.4273, 5.6078, 5.8401, 5.6353, 6.2815, 6.3169], wiberg_bond_order=[], is_error=False, bonds=[[7, 1, 1], [4, 0, 1], [6, 0, 1], [3, 2, 3], [1, 0, 1], [1, 2, 1], [1, 8, 1], [0, 5, 1]], keywords=' %chk=dsgdb9nsd_000030-6.chk  %mem=60GB  %nprocshared=32  Will use up to   32 processors via shared memory.\\n #p opt freq b3lyp/6-311+g** em=gd3bj', single_point_energy=-155.3042638, H_T=-155.2275003, alpha_gap=0.009530000388622284, spin_quantum_number=0.5068, mo_bond_order=[], id=5, formal_charges=[0, 0, 0, 0, 0, 0, 0, 0, 0], solvent_model='', zpve=0.070779, G_T=-155.2612483, beta_homo=-0.27959001064300537, spin_square=0.7636, atom_atom_overlap_bond_order=[], hash_token='9333b510a4b2284012cb42628444eb08fc0e8775185863611be1e3ab5d1d65a0', formal_num_radicals=[0, 0, 0, 1, 0, 0, 0, 0, 0], solvent='', energy_correction=0.075819, S=71.029, beta_lumo=-0.1868399977684021, dipole=[3.1349, 1.2118, -0.5369], nbo_charges=[-0.56248, -0.49036, -0.11206, 0.05621, 0.20921, 0.20632, 0.20322, 0.24524, 0.24469], commit_time=datetime.datetime(2024, 5, 11, 20, 19, 4, 633016), standard_coords=[[1.5191949605941772, -0.43804100155830383, 0.0010679999832063913], [0.4154050052165985, 0.6288650035858154, 0.03454500064253807], [-0.9321100115776062, 0.1112470030784607, -0.13709600269794464], [-2.0710580348968506, -0.3796060085296631, 0.06849599629640579], [1.3807790279388428, -1.1585129499435425, 0.8089450001716614], [1.5041919946670532, -0.9819239974021912, -0.945032000541687], [2.499782085418701, 0.02928899973630905, 0.11665800213813782], [0.44957301020622253, 1.1988669633865356, 0.9719610214233398], [0.5770819783210754, 1.3774930238723755, -0.7546060085296631]], enthalpy_correction=0.076764, Cv=15.809, beta_gap=0.09274999797344208, quadrupole=[-30.8947, -25.5862, -24.8167, -0.7935, 1.7076, 0.3133], lowdin_charges=[], update_time=datetime.datetime(2024, 5, 11, 20, 19, 4, 649770)),\n",
       " Snapshot(frame_id=12, qm_software='Gaussian', temperature=298.15, gibbs_free_energy_correction=0.064118, rotation_consts=[28.8504702, 3.9980827, 3.6960182], freqs=[106.7571, 141.1845, 238.5927, 278.7759, 457.7802, 502.5311, 765.6784, 882.589, 1003.0902, 1050.8105, 1078.958, 1119.8276, 1207.3271, 1252.6057, 1303.5164, 1342.443, 1444.2487, 1464.2552, 1471.2104, 1522.1695, 2937.7975, 2979.0778, 3012.59, 3047.7716, 3135.5209, 3238.7106, 3847.971], octapole=[20.5802, -0.1421, 0.133, 2.1929, 6.782, -2.1542, 3.9349, -0.3561, 0.625, -1.6171], hirshfeld_charges=[], owner_id=1, filename='dsgdb9nsd_000040-3.log', qm_software_version='Gaussian 16:  ES64L-G16RevC.01  3-Jul-2019', mulliken_charge=[-0.275399, -0.217912, -0.270208, -0.334756, 0.143086, 0.129162, 0.163557, 0.153156, 0.137256, 0.12859, 0.243468], U_0=-193.665037, isotropic_polarizability=42.13, reduced_masses=[1.257, 1.8694, 1.0769, 2.5163, 2.9761, 1.4701, 1.1738, 1.4731, 1.7533, 6.3622, 2.0481, 1.7182, 1.2381, 1.258, 1.1163, 1.3911, 1.4408, 1.1628, 1.0962, 1.0841, 1.0719, 1.0568, 1.1019, 1.089, 1.0516, 1.1176, 1.0668], hexadecapole=[-311.9232, -79.3969, -46.6158, 21.8507, 0.8522, 1.1638, 2.1028, -0.8548, 0.41, -72.4131, -74.0466, -19.5311, 3.3843, -0.9791, 1.9602], is_TS=False, molecule_id=6, coords=[[0.08797100186347961, 1.4398829936981201, -0.17560699582099915], [-0.0006980000180192292, -0.039813000708818436, -0.05090399831533432], [-1.4362610578536987, -0.5499629974365234, -0.01539700012654066], [-1.3938720226287842, -1.976976990699768, 0.020975999534130096], [0.9503700137138367, 1.9792230129241943, 0.19363799691200256], [-0.6407909989356995, 1.9924620389938354, -0.757955014705658], [0.5018560290336609, -0.5319520235061646, -0.9008650183677673], [0.5259060263633728, -0.38833099603652954, 0.8436700105667114], [-1.95045804977417, -0.15153099596500397, 0.8686450123786926], [-1.9739470481872559, -0.20040899515151978, -0.9076470136642456], [-2.291719913482666, -2.314131021499634, 0.08770599961280823]], basis='6-311+G(d,p)', spin_densities=[1.120259, -0.116005, 0.015837, 0.002596, -0.049889, -0.050437, 0.063948, 0.014405, 0.000809, -0.00148, -4.2e-05], electronic_spatial_extent=361.5527, alpha_homo=-0.28418999910354614, IR_intensities=[6.7468, 2.0468, 126.6859, 6.7207, 19.4899, 52.103, 1.5896, 1.9053, 5.6335, 104.7995, 6.1569, 1.4231, 6.5096, 41.3567, 1.9859, 3.9779, 5.3733, 1.6601, 3.0652, 2.9584, 14.192, 59.0742, 44.7604, 34.9177, 15.9885, 12.6881, 33.1579], nbo_bond_order=[[0.0, 1.0, 1.0, -0.6501833406], [0.0, 4.0, 1.0, -0.53330926], [0.0, 5.0, 1.0, -0.5343000764000001], [1.0, 2.0, 1.0, -0.6120772485], [1.0, 6.0, 1.0, -0.4880757986], [1.0, 7.0, 1.0, -0.48723402539999994], [2.0, 3.0, 1.0, -0.8151876221000001], [2.0, 8.0, 1.0, -0.507243834], [2.0, 9.0, 1.0, -0.5072263896], [3.0, 10.0, 1.0, -0.7144460389]], is_optimized=True, atoms=[6, 6, 6, 8, 1, 1, 1, 1, 1, 1, 1], functional='ub3lyp', gradients=[[-1.451800017093774e-05, -6.598999789275695e-06, 2.2834999981569126e-05], [4.417400123202242e-05, 4.229600017424673e-05, -7.144000119296834e-05], [-1.1506000191729981e-05, -8.999999749903509e-07, 3.662999915832188e-06], [1.2980000292373006e-06, -9.805000445339829e-06, 3.201000026820111e-06], [3.212999899915303e-06, -3.943000137951458e-06, -1.6860000187080004e-06], [1.040000029206567e-06, -7.822999577911105e-06, -2.820999952746206e-06], [-2.366700027778279e-05, -1.2528000297606923e-05, 3.4082000638591126e-05], [1.276199964195257e-05, -2.018000031966949e-06, 1.8287999409949407e-05], [-1.5409999605253688e-06, -1.99300006897829e-06, -2.626999958010856e-06], [-6.036999820935307e-06, 1.4072000340092927e-05, -8.559999855606293e-07], [-5.2189998314133845e-06, -1.0757999916677363e-05, -2.640000047904323e-06]], U_T=-193.659059, alpha_lumo=-0.21201999485492706, force_constants=[0.0084, 0.022, 0.0361, 0.1152, 0.3675, 0.2187, 0.4055, 0.6761, 1.0394, 4.1391, 1.4048, 1.2695, 1.0633, 1.163, 1.1175, 1.4771, 1.7707, 1.4689, 1.398, 1.4799, 5.4508, 5.5259, 5.8922, 5.9598, 6.0917, 6.9066, 9.3066], wiberg_bond_order=[], is_error=False, bonds=[[9, 2, 1], [6, 1, 1], [5, 0, 1], [0, 1, 1], [0, 4, 1], [1, 2, 1], [1, 7, 1], [2, 3, 1], [2, 8, 1], [3, 10, 1]], keywords=' %chk=dsgdb9nsd_000040-3.chk  %mem=60GB  %nprocshared=32  Will use up to   32 processors via shared memory.\\n #p opt freq b3lyp/6-311+g** em=gd3bj', single_point_energy=-193.7580635, H_T=-193.6581148, alpha_gap=0.07216999679803848, spin_quantum_number=0.5019, mo_bond_order=[], id=6, formal_charges=[0, 0, 0, 0, 0, 0, 0, 0, 0, 0, 0], solvent_model='', zpve=0.093026, G_T=-193.6939458, beta_homo=-0.28363001346588135, spin_square=0.7538, atom_atom_overlap_bond_order=[], hash_token='79258020e7186626c52d1c6b8b7fd712d95158fb0b3d3a0706a4533129d2085e', formal_num_radicals=[1, 0, 0, 0, 0, 0, 0, 0, 0, 0, 0], solvent='', energy_correction=0.099004, S=75.412, beta_lumo=-0.06632000207901001, dipole=[0.0444, 1.4626, -0.1726], nbo_charges=[-0.27292, -0.49267, -0.017, -0.74043, 0.16722, 0.15878, 0.21915, 0.21179, 0.15612, 0.15161, 0.45836], commit_time=datetime.datetime(2024, 5, 11, 20, 19, 4, 693943), standard_coords=[[-1.9321459531784058, 0.15649700164794922, -0.0018860000418499112], [-0.5976380109786987, -0.500108003616333, 0.027672000229358673], [0.5561839938163757, 0.4900740087032318, -0.07522500306367874], [1.7755980491638184, -0.24307000637054443, 0.047331999987363815], [-2.806941032409668, -0.3754720091819763, -0.3521760106086731], [-2.0821640491485596, 1.1294950246810913, 0.4523580074310303], [-0.46331900358200073, -1.0646450519561768, 0.9659950137138367], [-0.5084919929504395, -1.2392590045928955, -0.7752910256385803], [0.5107259750366211, 1.0148899555206299, -1.038125991821289], [0.47173601388931274, 1.2390179634094238, 0.7243720293045044], [2.5152668952941895, 0.361750990152359, -0.059153001755476]], enthalpy_correction=0.099949, Cv=19.371, beta_gap=0.21730999648571014, quadrupole=[-24.6974, -26.2145, -27.1824, 4.1287, -0.6597, 0.643], lowdin_charges=[], update_time=datetime.datetime(2024, 5, 11, 20, 19, 4, 710506)),\n",
       " Snapshot(frame_id=18, qm_software='Gaussian', temperature=298.15, gibbs_free_energy_correction=0.062938, rotation_consts=[30.8939654, 3.7967348, 3.5519635], freqs=[58.8602, 99.1224, 237.7173, 274.4407, 390.1406, 465.7588, 888.5177, 928.8891, 1010.1812, 1046.8071, 1103.9952, 1129.0125, 1219.7068, 1263.7641, 1339.29, 1409.5851, 1451.5918, 1474.3161, 1482.1607, 1496.7153, 2873.4503, 2936.8722, 2941.0348, 3017.6942, 3088.6396, 3181.5003, 3846.7712], octapole=[-19.6065, -1.3062, 0.4577, -1.5531, 6.8472, 2.0623, -1.9246, 1.6838, 0.0792, 0.1186], hirshfeld_charges=[], owner_id=1, filename='dsgdb9nsd_000040-4.log', qm_software_version='Gaussian 16:  ES64L-G16RevC.01  3-Jul-2019', mulliken_charge=[-0.536311, 0.096828, -0.321056, -0.325749, 0.14756, 0.135348, 0.14346, 0.154485, 0.131772, 0.1347, 0.238963], U_0=-193.669201, isotropic_polarizability=42.59, reduced_masses=[2.1692, 1.1818, 1.0777, 2.3848, 1.3061, 4.2367, 1.8811, 1.2938, 1.5328, 5.77, 1.6686, 1.9057, 1.1007, 1.2514, 1.4319, 1.2531, 1.5759, 1.071, 1.0552, 1.0867, 1.0738, 1.0677, 1.0741, 1.0736, 1.0951, 1.0883, 1.0668], hexadecapole=[-333.0845, -73.9534, -46.234, -20.3679, -5.2563, -2.0086, -1.86, 0.1227, -0.2153, -75.8675, -73.2272, -20.058, 0.8366, -0.3405, 0.4361], is_TS=False, molecule_id=7, coords=[[0.00215000007301569, 1.5475490093231201, 0.04188700020313263], [-0.16833899915218353, 0.08079099655151367, 0.22319099307060242], [-1.493546962738037, -0.5573570132255554, 0.03908799961209297], [-1.3321080207824707, -1.9757189750671387, -0.019480999559164047], [1.056833028793335, 1.824720025062561, -0.01835400052368641], [-0.4959230124950409, 1.9030989408493042, -0.8683779835700989], [-0.4322569966316223, 2.124177932739258, 0.8758569955825806], [0.6045529842376709, -0.5132330060005188, 0.6968579888343811], [-2.1694180965423584, -0.2886289954185486, 0.874629020690918], [-1.9707070589065552, -0.1767680048942566, -0.879302978515625], [-2.2001290321350098, -2.386852979660034, 0.024646999314427376]], basis='6-311+G(d,p)', spin_densities=[-0.082964, 1.030578, -0.081019, -0.000377, 0.008172, 0.024184, 0.063191, -0.049375, 0.058932, 0.026637, 0.00204], electronic_spatial_extent=377.2174, alpha_homo=-0.28687000274658203, IR_intensities=[6.4164, 0.3015, 132.2068, 5.1045, 20.0843, 8.6623, 2.5502, 3.7398, 14.5296, 92.5114, 5.3965, 11.1062, 11.4891, 41.1258, 5.8535, 3.1286, 3.095, 8.1084, 2.9411, 7.733, 75.3325, 41.7635, 61.9919, 31.0222, 21.2354, 9.6948, 27.3733], nbo_bond_order=[[0.0, 1.0, 1.0, -0.6474243008], [0.0, 4.0, 1.0, -0.49936979540000004], [0.0, 5.0, 1.0, -0.5005254576], [0.0, 6.0, 1.0, -0.5014383804], [1.0, 2.0, 1.0, -0.648804363], [1.0, 7.0, 1.0, -0.5147596779000001], [2.0, 3.0, 1.0, -0.8126036896000001], [2.0, 8.0, 1.0, -0.5100779094], [2.0, 9.0, 1.0, -0.5077626624], [3.0, 10.0, 1.0, -0.7133069989999999]], is_optimized=True, atoms=[6, 6, 6, 8, 1, 1, 1, 1, 1, 1, 1], functional='ub3lyp', gradients=[[1.583999960530491e-06, -9.809999937715475e-06, 1.0912000107055064e-05], [6.8700001065735705e-06, 2.0649999896704685e-06, -2.058400059468113e-05], [1.2819999710700358e-06, 1.2579999975059764e-06, 1.5547000657534227e-05], [4.940000053466065e-06, -1.5599999869664316e-06, -1.8360000240136287e-06], [5.3000000832525984e-08, 3.359999993790552e-07, -5.520000172509754e-07], [-1.9839999367832206e-06, 2.896000069085858e-06, -1.2780000133716385e-06], [-1.0659999816198251e-06, 5.219999820837984e-06, -1.6449999975520768e-06], [-4.393999915919267e-06, -2.275000042573083e-06, 4.515000000537839e-06], [-4.614999852492474e-06, -7.169999776124314e-07, -3.6110000110056717e-06], [-2.6780001007864485e-06, 1.0830000292116893e-06, -2.800999936880544e-06], [7.000000135093387e-09, 1.503000021330081e-06, 1.3330000001587905e-06]], U_T=-193.6630042, alpha_lumo=-0.1939300000667572, force_constants=[0.0044, 0.0068, 0.0359, 0.1058, 0.1171, 0.5415, 0.875, 0.6577, 0.9216, 3.7253, 1.1982, 1.4312, 0.9648, 1.1775, 1.5132, 1.4669, 1.9564, 1.3715, 1.3658, 1.4344, 5.2235, 5.4258, 5.474, 5.7602, 6.1554, 6.4901, 9.3005], wiberg_bond_order=[], is_error=False, bonds=[[9, 2, 1], [5, 0, 1], [3, 10, 1], [3, 2, 1], [4, 0, 1], [2, 1, 1], [2, 8, 1], [0, 1, 1], [0, 6, 1], [1, 7, 1]], keywords=' %chk=dsgdb9nsd_000040-4.chk  %mem=60GB  %nprocshared=32  Will use up to   32 processors via shared memory.\\n #p opt freq b3lyp/6-311+g** em=gd3bj', single_point_energy=-193.7618233, H_T=-193.66206, alpha_gap=0.09294000267982483, spin_quantum_number=0.502, mo_bond_order=[], id=7, formal_charges=[0, 0, 0, 0, 0, 0, 0, 0, 0, 0, 0], solvent_model='', zpve=0.092622, G_T=-193.6988855, beta_homo=-0.2836900055408478, spin_square=0.754, atom_atom_overlap_bond_order=[], hash_token='2d79d29e6d66ab9a5a605d85628c191ae401482841564186f56e6cf5c29770cd', formal_num_radicals=[0, 1, 0, 0, 0, 0, 0, 0, 0, 0, 0], solvent='', energy_correction=0.098819, S=77.506, beta_lumo=-0.054420001804828644, dipole=[0.3318, 1.7764, 0.6628], nbo_charges=[-0.64947, -0.10539, -0.09382, -0.73382, 0.21394, 0.20348, 0.20523, 0.18288, 0.16016, 0.16055, 0.45627], commit_time=datetime.datetime(2024, 5, 11, 20, 19, 4, 755425), standard_coords=[[1.9268720149993896, 0.06819000095129013, -0.05769500136375427], [0.5382459759712219, -0.4547809958457947, 0.0497019998729229], [-0.6204800009727478, 0.46932700276374817, 0.0758500024676323], [-1.8249390125274658, -0.2760179936885834, -0.11118199676275253], [2.637511968612671, -0.7258340120315552, -0.29712599515914917], [2.008697032928467, 0.8427169919013977, -0.8300219774246216], [2.2715470790863037, 0.5324090123176575, 0.8816739916801453], [0.3537349998950958, -1.4864619970321655, 0.3257009983062744], [-0.6583380103111267, 1.0117440223693848, 1.0409899950027466], [-0.5071529746055603, 1.2379800081253052, -0.7066469788551331], [-2.5743229389190674, 0.2991740107536316, 0.06774800270795822]], enthalpy_correction=0.099763, Cv=19.33, beta_gap=0.22926999628543854, quadrupole=[-23.6459, -26.2291, -27.3455, -3.7994, -1.1334, -0.4304], lowdin_charges=[], update_time=datetime.datetime(2024, 5, 11, 20, 19, 4, 773489)),\n",
       " Snapshot(frame_id=10, qm_software='Gaussian', temperature=298.15, gibbs_free_energy_correction=0.065769, rotation_consts=[30.5984033, 3.8513907, 3.5930639], freqs=[93.7425, 229.0531, 272.1253, 352.9546, 461.7467, 562.8332, 793.6795, 897.0145, 1045.8881, 1079.6894, 1091.2147, 1187.1323, 1248.0521, 1268.7392, 1344.1115, 1412.6602, 1444.7405, 1480.8777, 1498.6283, 1507.6171, 2928.2768, 3021.2038, 3026.4817, 3085.4219, 3097.4744, 3113.3934, 3847.128], octapole=[23.0828, 0.133, 0.4914, 3.4639, 8.4365, -0.1177, 1.5152, -0.7179, 0.9008, 0.0981], hirshfeld_charges=[], owner_id=1, filename='dsgdb9nsd_000040-6.log', qm_software_version='Gaussian 16:  ES64L-G16RevC.01  3-Jul-2019', mulliken_charge=[-0.498905, -0.156955, -0.175049, -0.244492, 0.1379, 0.131243, 0.141705, 0.140695, 0.151503, 0.116952, 0.255405], U_0=-193.676121, isotropic_polarizability=43.01, reduced_masses=[2.9479, 1.0836, 2.5686, 1.1133, 3.9884, 1.276, 1.1811, 1.756, 2.9285, 1.449, 1.3963, 3.1834, 1.3954, 1.1933, 1.386, 1.2566, 1.6659, 1.077, 1.0387, 1.0772, 1.0733, 1.0809, 1.0382, 1.1007, 1.1019, 1.0884, 1.0666], hexadecapole=[-324.5131, -76.6862, -46.7475, 27.0708, -1.8286, 2.9034, 3.2406, 0.6532, 0.7602, -71.8915, -71.8153, -20.2049, -0.0875, 0.1021, -0.6157], is_TS=False, molecule_id=8, coords=[[-0.014705999754369259, 1.509232997894287, -0.0030620000325143337], [0.008533000014722347, -0.022081999108195305, -0.01990099996328354], [-1.355476975440979, -0.6085339784622192, -0.08449199795722961], [-1.4016740322113037, -1.9758100509643555, 0.06324899941682816], [0.9992589950561523, 1.914186954498291, 0.028653999790549278], [-0.5026569962501526, 1.9065489768981934, -0.898248016834259], [-0.558135986328125, 1.883767008781433, 0.8681579828262329], [0.6133679747581482, -0.3714140057563782, -0.8743849992752075], [0.5148249864578247, -0.4041529893875122, 0.8745419979095459], [-2.127211093902588, -0.1578029990196228, -0.7058349847793579], [-2.306267023086548, -2.2834720611572266, -0.04786200076341629]], basis='6-311+G(d,p)', spin_densities=[0.011482, -0.105689, 0.952794, 0.0988, -0.000681, -0.000822, 0.002592, 0.060532, 0.018415, -0.032972, -0.004451], electronic_spatial_extent=372.4298, alpha_homo=-0.3444899916648865, IR_intensities=[3.6429, 3.8355, 8.2307, 128.2249, 11.9135, 17.9896, 0.9448, 3.2, 1.3187, 3.8013, 28.3311, 113.0168, 50.1499, 14.7916, 13.5933, 1.0559, 12.7636, 1.0471, 8.1605, 8.438, 51.6216, 9.0058, 34.8145, 37.374, 30.1758, 40.2798, 62.0746], nbo_bond_order=[[0.0, 1.0, 1.0, -0.6002770991999999], [0.0, 4.0, 1.0, -0.49221239959999996], [0.0, 5.0, 1.0, -0.49290338699999997], [0.0, 6.0, 1.0, -0.49144553209999997], [1.0, 2.0, 1.0, -0.6382746709], [1.0, 7.0, 1.0, -0.48169378079999997], [1.0, 8.0, 1.0, -0.4805117104], [2.0, 3.0, 1.0, -0.8830420632], [2.0, 9.0, 1.0, -0.5319773224], [3.0, 10.0, 1.0, -0.7399327487999999]], is_optimized=True, atoms=[6, 6, 6, 8, 1, 1, 1, 1, 1, 1, 1], functional='ub3lyp', gradients=[[5.399999736255268e-07, -1.1250000397922122e-06, 2.800999936880544e-06], [-2.5256000299123116e-05, -1.580999992256693e-06, -8.914999853004701e-06], [8.494999747199472e-06, -1.1948999599553645e-05, 5.667000095854746e-06], [-2.4089999897114467e-06, 7.325999831664376e-06, -8.877999789547175e-06], [1.5340000345531735e-06, -1.4500000133921276e-06, 3.6200000863573223e-07], [-1.2660000265896088e-06, -2.3180000425782055e-06, -1.2880000213044696e-06], [8.160000106727239e-07, 1.6049999658207525e-06, -2.1430000742839184e-06], [7.1829999797046185e-06, 4.672000159189338e-06, 3.4560000585770467e-06], [9.745000170369167e-06, -1.2430000424501486e-06, 5.1860001804016065e-06], [-2.810000125919032e-07, 3.114000037385267e-06, -2.5320000531792175e-06], [8.989999855657516e-07, 2.947999973912374e-06, 6.281999958446249e-06]], U_T=-193.6704753, alpha_lumo=-0.1717900037765503, force_constants=[0.0153, 0.0335, 0.1121, 0.0817, 0.501, 0.2382, 0.4384, 0.8325, 1.8874, 0.9952, 0.9796, 2.6432, 1.2806, 1.1317, 1.4753, 1.4774, 2.0487, 1.3916, 1.3744, 1.4425, 5.4222, 5.813, 5.6026, 6.174, 6.2288, 6.2157, 9.301], wiberg_bond_order=[], is_error=False, bonds=[[5, 0, 1], [7, 1, 1], [9, 2, 1], [2, 1, 1], [2, 3, 1], [10, 3, 1], [1, 0, 1], [1, 8, 1], [0, 4, 1], [0, 6, 1]], keywords=' %chk=dsgdb9nsd_000040-6.chk  %mem=60GB  %nprocshared=32  Will use up to   32 processors via shared memory.\\n #p opt freq b3lyp/6-311+g** em=gd3bj', single_point_energy=-193.7704189, H_T=-193.6695311, alpha_gap=0.17270000278949738, spin_quantum_number=0.5017, mo_bond_order=[], id=8, formal_charges=[0, 0, 0, 0, 0, 0, 0, 0, 0, 0, 0], solvent_model='', zpve=0.094298, G_T=-193.7046499, beta_homo=-0.33256998658180237, spin_square=0.7535, atom_atom_overlap_bond_order=[], hash_token='65ee615c05c14ea3d99427b7823a5583e6ba01a6b802c2579d7034fa1866d7e9', formal_num_radicals=[0, 0, 1, 0, 0, 0, 0, 0, 0, 0, 0], solvent='', energy_correction=0.099944, S=73.914, beta_lumo=-0.03539999946951866, dipole=[0.2061, 1.251, 0.4554], nbo_charges=[-0.57079, -0.47384, 0.13742, -0.69524, 0.20143, 0.19282, 0.19815, 0.19688, 0.2083, 0.13483, 0.47005], commit_time=datetime.datetime(2024, 5, 11, 20, 19, 4, 809261), standard_coords=[[-1.8681529760360718, 0.1863359957933426, -0.06614899635314941], [-0.5145589709281921, -0.5141119956970215, 0.08519399911165237], [0.6272119879722595, 0.4315260052680969, -0.018485000357031822], [1.866852045059204, -0.16465100646018982, -0.05411500111222267], [-2.689361095428467, -0.5275030136108398, 0.029606999829411507], [-2.003988027572632, 0.9531930088996887, 0.7024829983711243], [-1.9515570402145386, 0.6721600294113159, -1.0416669845581055], [-0.4814319908618927, -1.0455420017242432, 1.051882028579712], [-0.40064001083374023, -1.2901090383529663, -0.6810879707336426], [0.5737670063972473, 1.4214190244674683, 0.43101900815963745], [2.551393985748291, 0.5110840201377869, -0.06268099695444107]], enthalpy_correction=0.100888, Cv=18.635, beta_gap=0.2971700131893158, quadrupole=[-23.4123, -26.0261, -27.3727, 4.0876, 0.2218, 0.714], lowdin_charges=[], update_time=datetime.datetime(2024, 5, 11, 20, 19, 4, 825041)),\n",
       " Snapshot(frame_id=17, qm_software='Gaussian', temperature=298.15, gibbs_free_energy_correction=0.063796, rotation_consts=[27.9609563, 3.9152096, 3.6654048], freqs=[98.2851, 180.4943, 229.6212, 275.1281, 473.993, 768.1482, 885.6361, 956.9559, 1028.5719, 1063.1182, 1123.8889, 1227.5069, 1299.4352, 1311.547, 1351.8104, 1400.3654, 1417.0312, 1490.3001, 1501.748, 1506.1531, 2866.7146, 2883.4813, 3020.1824, 3033.371, 3060.3673, 3084.444, 3095.7594], octapole=[7.2415, 0.3918, 0.08, -1.7331, 0.1904, 0.0513, -3.5721, 0.6428, 0.0089, -0.167], hirshfeld_charges=[], owner_id=1, filename='dsgdb9nsd_000040-8.log', qm_software_version='Gaussian 16:  ES64L-G16RevC.01  3-Jul-2019', mulliken_charge=[-0.460488, -0.123036, -0.291607, -0.163181, 0.145291, 0.131921, 0.131346, 0.14854, 0.14895, 0.169096, 0.163168], U_0=-193.665161, isotropic_polarizability=42.15, reduced_masses=[4.4833, 1.1726, 1.0921, 2.8282, 4.6909, 1.098, 1.8696, 1.0758, 3.5074, 3.5178, 2.1212, 1.4181, 1.1245, 1.2314, 1.1707, 1.434, 1.2303, 1.0578, 1.0379, 1.0751, 1.0683, 1.0722, 1.0374, 1.0589, 1.1025, 1.1038, 1.0996], hexadecapole=[-389.0927, -78.5961, -46.6515, -4.3874, -0.2777, -1.7817, 0.0816, -0.0559, 0.1688, -73.3682, -65.8035, -18.2858, 0.3118, 0.002, 0.3833], is_TS=False, molecule_id=9, coords=[[-1.8221880197525024, 0.16878299415111542, -0.11469600349664688], [-0.47933799028396606, -0.5479519963264465, 0.0398700013756752], [0.7026640176773071, 0.4179080128669739, -0.031272001564502716], [1.9444999694824219, -0.13569800555706024, 0.08435600250959396], [-2.654620885848999, -0.5356789827346802, -0.05628399923443794], [-1.9668259620666504, 0.9173719882965088, 0.6706889867782593], [-1.8905349969863892, 0.6827269792556763, -1.0787489414215088], [-0.4374670088291168, -1.0751080513000488, 0.998117983341217], [-0.35690999031066895, -1.3041260242462158, -0.7416179776191711], [0.7004560232162476, 0.9818699955940247, -0.988631010055542], [0.6153209805488586, 1.2263269424438477, 0.7232369780540466]], basis='6-311+G(d,p)', spin_densities=[-0.002054, 0.000394, -0.067082, 0.881532, -0.000321, 0.000224, 0.000245, 0.003134, 0.002105, 0.100436, 0.081386], electronic_spatial_extent=365.5744, alpha_homo=-0.32594001293182373, IR_intensities=[0.476, 35.8283, 0.0261, 5.515, 4.9839, 0.823, 10.9394, 2.6366, 0.4111, 10.5475, 4.2541, 0.0952, 0.1939, 1.5189, 21.9848, 14.1399, 9.9902, 1.3365, 7.9058, 8.9411, 17.4044, 13.9458, 21.8931, 25.2692, 0.0316, 57.8397, 30.9311], nbo_bond_order=[[0.0, 1.0, 1.0, -0.6115452252], [0.0, 4.0, 1.0, -0.5022379586], [0.0, 5.0, 1.0, -0.503478402], [0.0, 6.0, 1.0, -0.5035181948], [1.0, 2.0, 1.0, -0.6231189604999999], [1.0, 7.0, 1.0, -0.48973268940000003], [1.0, 8.0, 1.0, -0.48993055739999997], [2.0, 3.0, 1.0, -0.8955857817], [2.0, 9.0, 1.0, -0.5235808192000001], [2.0, 10.0, 1.0, -0.5228862114]], is_optimized=True, atoms=[6, 6, 6, 8, 1, 1, 1, 1, 1, 1, 1], functional='ub3lyp', gradients=[[3.799999959142042e-08, 6.559000212291721e-06, 2.5100000584643567e-06], [-8.091000381682534e-06, -1.7378999473294243e-05, 1.254000039807579e-06], [4.354900011094287e-05, 5.576699913945049e-05, -2.2606000129599124e-05], [-2.0430999938980676e-05, -3.519000074447831e-06, 1.0538999958953355e-05], [5.030000238548382e-07, -1.6049999658207525e-06, -1.6730000425013714e-06], [3.3599999369471334e-06, -2.790000053209951e-06, -6.789999815737247e-07], [-1.2839999499192345e-06, 3.8400000335059303e-07, 6.550000080096652e-07], [-7.669000297028106e-06, 6.700000199089118e-07, -1.050000037139398e-06], [5.601999873761088e-06, 2.744000084931031e-06, 1.687999997557199e-06], [-1.8509999790694565e-05, -2.2260999685386196e-05, -5.4209999689192045e-06], [2.933999894594308e-06, -1.8569999156170525e-05, 1.4780999663344119e-05]], U_T=-193.6594386, alpha_lumo=-0.2895500063896179, force_constants=[0.0255, 0.0225, 0.0339, 0.1261, 0.6209, 0.3817, 0.864, 0.5805, 2.1863, 2.3426, 1.5786, 1.2589, 1.1188, 1.248, 1.2604, 1.6568, 1.4555, 1.3842, 1.3792, 1.437, 5.1725, 5.2524, 5.5752, 5.7404, 6.0841, 6.1873, 6.2089], wiberg_bond_order=[], is_error=False, bonds=[[0, 4, 1], [0, 1, 1], [0, 5, 1], [1, 7, 1], [2, 1, 1], [2, 3, 1], [2, 10, 1], [6, 0, 1], [8, 1, 1], [9, 2, 1]], keywords=' %chk=dsgdb9nsd_000040-8.chk  %mem=60GB  %nprocshared=32  Will use up to   32 processors via shared memory.\\n #p opt freq b3lyp/6-311+g** em=gd3bj', single_point_energy=-193.7577324, H_T=-193.6584944, alpha_gap=0.036389999091625214, spin_quantum_number=0.5019, mo_bond_order=[], id=9, formal_charges=[0, 0, 0, 0, 0, 0, 0, 0, 0, 0, 0], solvent_model='', zpve=0.092571, G_T=-193.6939367, beta_homo=-0.27042001485824585, spin_square=0.7537, atom_atom_overlap_bond_order=[], hash_token='60b581809e1b990a04b2360128214b03ab33aa822802a715ce67690dfb798d2f', formal_num_radicals=[0, 0, 0, 1, 0, 0, 0, 0, 0, 0, 0], solvent='', energy_correction=0.098294, S=74.595, beta_lumo=-0.14842000603675842, dipole=[2.1476, 0.8669, 0.0205], nbo_charges=[-0.5828, -0.41893, -0.10294, -0.31018, 0.20805, 0.19525, 0.19489, 0.20075, 0.20116, 0.2131, 0.20164], commit_time=datetime.datetime(2024, 5, 11, 20, 19, 4, 872632), standard_coords=[[1.8238500356674194, 0.1710350066423416, 0.0028470000252127647], [0.47635000944137573, -0.5535730123519897, -0.0031030001118779182], [-0.7025089859962463, 0.418724000453949, -0.005305000115185976], [-1.9475940465927124, -0.1395850032567978, 0.0024220000486820936], [2.653740882873535, -0.5388180017471313, -0.0007650000043213367], [1.934473991394043, 0.8135039806365967, -0.8764309883117676], [1.9323680400848389, 0.8026090264320374, 0.8902860283851624], [0.39454299211502075, -1.1976350545883179, -0.8842269778251648], [0.3877590000629425, -1.2041579484939575, 0.8723419904708862], [-0.6604009866714478, 1.099357008934021, 0.8719419836997986], [-0.6478800177574158, 1.124703049659729, -0.8591560125350952]], enthalpy_correction=0.099238, Cv=18.208, beta_gap=0.12200000137090683, quadrupole=[-32.1957, -25.9483, -24.8848, -1.4798, -0.0257, 0.1108], lowdin_charges=[], update_time=datetime.datetime(2024, 5, 11, 20, 19, 4, 889919)),\n",
       " Snapshot(frame_id=8, qm_software='Gaussian', temperature=298.15, gibbs_free_energy_correction=0.040728, rotation_consts=[9.9569679, 8.8199128, 4.6770063], freqs=[489.7401, 541.8596, 661.938, 709.4812, 819.2739, 836.3696, 887.5241, 910.2884, 936.3358, 1045.3319, 1078.7715, 1089.2762, 1210.3824, 1290.7285, 1354.258, 1429.5948, 1554.3221, 3197.1508, 3201.3453, 3227.9278, 3247.3571], octapole=[13.6789, 0.0, 0.0, -2.0295, 0.0, 0.0, -1.3759, 0.0, 0.0001, 0.0001], hirshfeld_charges=[], owner_id=1, filename='dsgdb9nsd_000050-1.log', qm_software_version='Gaussian 16:  ES64L-G16RevC.01  3-Jul-2019', mulliken_charge=[-0.173065, -0.088517, -0.103449, -0.103449, -0.088517, 0.143207, 0.135292, 0.135292, 0.143207], U_0=-209.512247, isotropic_polarizability=48.88, reduced_masses=[2.1917, 2.1735, 8.7286, 1.1639, 1.484, 1.7938, 5.0228, 1.3959, 2.1251, 1.7259, 4.7685, 1.417, 2.5383, 1.2193, 1.8756, 3.4719, 3.925, 1.0898, 1.0955, 1.09, 1.1067], hexadecapole=[-207.8391, -158.7862, -36.8829, -0.0001, -0.0005, 0.0, 0.0001, 0.0, 0.0, -52.063, -42.8979, -38.8354, 0.0001, -0.0001, 0.0], is_TS=False, molecule_id=10, coords=[[-0.07072900235652924, 1.3971179723739624, 0.010811000131070614], [1.2112829685211182, 1.803320050239563, 0.00033099998836405575], [2.1468698978424072, 0.6819999814033508, -0.014999999664723873], [1.3686410188674927, -0.4352110028266907, -0.01345600001513958], [-0.007424000184983015, 0.05376699939370155, 0.0027910000644624233], [1.4633790254592896, 2.8565471172332764, 0.003616000059992075], [3.2242050170898438, 0.7491850256919861, -0.02525000087916851], [1.6790080070495605, -1.4690710306167603, -0.02218399941921234], [-0.9079840183258057, -0.5477390289306641, 0.008383999578654766]], basis='6-311+G(d,p)', spin_densities=[-0.162418, 0.524433, 0.093064, 0.093065, 0.524432, -0.029621, -0.006666, -0.006666, -0.029621], electronic_spatial_extent=294.2218, alpha_homo=-0.2666899859905243, IR_intensities=[0.0, 21.5094, 4.3377, 75.9163, 0.0, 0.4877, 9.1004, 0.0, 0.0289, 1.27, 6.682, 44.8282, 3.1412, 0.1203, 48.2279, 24.4515, 2.3266, 15.6492, 0.6817, 5.0519, 1.5666], nbo_bond_order=[[0.0, 1.0, 2.0, -1.105685981], [0.0, 4.0, 1.0, -0.8074372943], [1.0, 2.0, 1.0, -0.6734016848000001], [1.0, 5.0, 1.0, -0.5583639426], [2.0, 3.0, 2.0, -0.9854782129999999], [2.0, 6.0, 1.0, -0.5500026363], [3.0, 4.0, 1.0, -0.6734016848000001], [3.0, 7.0, 1.0, -0.5500026363], [4.0, 8.0, 1.0, -0.5583639426]], is_optimized=True, atoms=[7, 6, 6, 6, 6, 1, 1, 1, 1], functional='ub3lyp', gradients=[[-1.6512000001966953e-05, 1.1512000128277577e-05, -9.053000212588813e-06], [4.877600076724775e-05, -4.108700159122236e-05, 1.0321000445401296e-05], [-6.31340008112602e-05, -2.291999953740742e-05, -4.76100012747338e-06], [-3.769999921132694e-07, 6.712500180583447e-05, 6.900000215637192e-08], [5.543299994315021e-05, -3.151800046907738e-05, 4.425000042829197e-06], [-2.989999984492897e-06, 4.437999905348988e-06, -1.0060000477096764e-06], [-1.269999984288006e-06, 1.5257000086421613e-05, -3.419999927700701e-07], [-1.474900000175694e-05, -4.082000032212818e-06, 4.46999990799668e-07], [-5.177999810257461e-06, 1.2750000450978405e-06, -1.0000000116860974e-07]], U_T=-209.5083212, alpha_lumo=-0.25450000166893005, force_constants=[0.3097, 0.376, 2.2534, 0.3452, 0.5869, 0.7393, 2.3311, 0.6815, 1.0977, 1.1112, 3.2696, 0.9906, 2.191, 1.1968, 2.0267, 4.1806, 5.5869, 6.5632, 6.615, 6.6917, 6.8761], wiberg_bond_order=[], is_error=False, bonds=[[6, 2, 1], [7, 3, 1], [2, 3, 2], [2, 1, 1], [3, 4, 1], [1, 5, 1], [1, 0, 2], [4, 8, 1], [4, 0, 1]], keywords=' %chk=dsgdb9nsd_000050-1.chk  %mem=60GB  %nprocshared=32  Will use up to   32 processors via shared memory.\\n #p opt freq b3lyp/6-311+g** em=gd3bj', single_point_energy=-209.5799521, H_T=-209.507377, alpha_gap=0.012190000154078007, spin_quantum_number=0.5073, mo_bond_order=[], id=10, formal_charges=[0, 0, 0, 0, 0, 0, 0, 0, 0], solvent_model='', zpve=0.067705, G_T=-209.5392237, beta_homo=-0.2631399929523468, spin_square=0.7647, atom_atom_overlap_bond_order=[], hash_token='0b36b64020d6d424a7606f07d5c07de485fde0ae89e591eb314521a771a433bf', formal_num_radicals=[0, 0, 0, 0, 1, 0, 0, 0, 0], solvent='', energy_correction=0.071631, S=67.027, beta_lumo=-0.15137000381946564, dipole=[2.1821, 0.0, 0.0001], nbo_charges=[-0.55396, 0.14367, -0.27227, -0.27227, 0.14367, 0.18818, 0.21741, 0.21741, 0.18818], commit_time=datetime.datetime(2024, 5, 11, 20, 19, 4, 928536), standard_coords=[[-1.2450859546661377, -1.9999999949504854e-06, -2.5999999706982635e-05], [-0.42525601387023926, -1.0660909414291382, 2.700000004551839e-05], [0.9834470152854919, -0.6807699799537659, -1.4000000192027073e-05], [0.9834449887275696, 0.6807730197906494, 3.000000106112566e-06], [-0.4252600073814392, 1.0660890340805054, 1.2000000424450263e-05], [-0.8204249739646912, -2.074402093887329, 2.2000000171829015e-05], [1.829103946685791, -1.3516910076141357, -2.5999999706982635e-05], [1.8291000127792358, 1.3516960144042969, 7.000000096013537e-06], [-0.8204309940338135, 2.074399948120117, 1.2000000424450263e-05]], enthalpy_correction=0.072575, Cv=14.325, beta_gap=0.11176999658346176, quadrupole=[-32.5779, -23.406, -31.7459, 0.0, -0.0001, 0.0], lowdin_charges=[], update_time=datetime.datetime(2024, 5, 11, 20, 19, 4, 944234))]"
      ]
     },
     "execution_count": 17,
     "metadata": {},
     "output_type": "execute_result"
    }
   ],
   "source": [
    "snapshots_crud.get_snapshots_by_conditions(\n",
    "    session=session,\n",
    "    snapshot_filter=SnapshotFilter(\n",
    "        numeric_filters=[\n",
    "            NumericFilter(column=\"total_charge\", min=0, max=0),\n",
    "            NumericFilter(column=\"total_num_radicals\", min=2, max=2),\n",
    "        ],\n",
    "        class_filters=[],\n",
    "        bool_filters=[],\n",
    "        element_filters=[],\n",
    "    ),\n",
    "    skip=0,\n",
    "    limit=10,\n",
    ")"
   ]
  },
  {
   "cell_type": "markdown",
   "metadata": {},
   "source": [
    "The Snapshot class has direct access to the Formula and Molecule subclasses it contains."
   ]
  },
  {
   "cell_type": "code",
   "execution_count": 18,
   "metadata": {},
   "outputs": [
    {
     "data": {
      "text/plain": [
       "Molecule(total_multiplicity=2, total_charge=0, logp=-0.2053199999999999, rdkit_fp_1024=array([0., 0., 0., ..., 0., 1., 1.], dtype=float32), topological_torsion_fp_1024=array([0., 0., 0., ..., 0., 0., 0.], dtype=float32), commit_time=datetime.datetime(2024, 5, 11, 20, 19, 10, 583727), snapshot_number=1, formula_id=28, smiles='C#C[C@H]([NH])C#N', qed=0.37057188130091795, morgan_fp3_1024=array([0., 1., 0., ..., 0., 0., 0.], dtype=float32), atompair_fp_1024=array([0., 0., 0., ..., 1., 0., 0.], dtype=float32), id=95, update_time=datetime.datetime(2024, 5, 11, 20, 19, 10, 616534), snapshot_ids=[100])"
      ]
     },
     "execution_count": 18,
     "metadata": {},
     "output_type": "execute_result"
    }
   ],
   "source": [
    "snapshot.molecule"
   ]
  },
  {
   "cell_type": "code",
   "execution_count": 19,
   "metadata": {},
   "outputs": [
    {
     "data": {
      "text/plain": [
       "Formula(formula_string='H3C4N2', Ga=0, Gd=0, Am=0, He=0, Ge=0, Tb=0, Cm=0, Li=0, Se=0, Dy=0, Bk=0, Be=0, Br=0, Ho=0, Cf=0, B=0, Kr=0, Er=0, Es=0, C=4, Rb=0, Tm=0, Fm=0, N=2, Sr=0, Yb=0, Md=0, O=0, Y=0, Lu=0, No=0, F=0, Zr=0, Hf=0, Lr=0, Ne=0, Nb=0, Ta=0, Rf=0, Na=0, Mo=0, W=0, Db=0, Mg=0, Tc=0, Re=0, Sg=0, Al=0, Ru=0, Os=0, Bh=0, Si=0, Rh=0, Ir=0, Hs=0, P=0, Pd=0, Pt=0, Mt=0, S=0, Ag=0, Au=0, Ds=0, Cl=0, Cd=0, Hg=0, Rg=0, Ar=0, In=0, Tl=0, Cn=0, K=0, Sn=0, Pb=0, Nh=0, Ca=0, Sb=0, Bi=0, Fl=0, Sc=0, Te=0, Po=0, Mc=0, Ti=0, I=0, At=0, Lv=0, V=0, Xe=0, Rn=0, Ts=0, Cr=0, Cs=0, Fr=0, Og=0, As=0, Ba=0, Ra=0, atom_number=9, Mn=0, La=0, Ac=0, molwt=79.08200000000001, Fe=0, Ce=0, Th=0, id=28, Co=0, Pr=0, Pa=0, commit_time=datetime.datetime(2024, 5, 11, 20, 19, 10, 585027), Ni=0, Nd=0, U=0, update_time=datetime.datetime(2024, 5, 12, 4, 59, 41, 895267), Cu=0, Pm=0, Np=0, molecule_number=38, Zn=0, Sm=0, Pu=0, molecule_ids=[95, 96, 97, 2330, 2364, 2371, 2376, 2993, 2999, 137239, 137242, 138382, 138387, 138832, 766067, 766075, 766081, 788532, 788538, 788545, 789185, 790586, 790594, 1031649, 1031655, 1031837, 1261056, 1261063, 1261429, 1427056, 1451726, 1451729, 1451773, 1451780, 1451785, 1451789, 1452209, 1452216], H=3, Eu=0)"
      ]
     },
     "execution_count": 19,
     "metadata": {},
     "output_type": "execute_result"
    }
   ],
   "source": [
    "snapshot.molecule.formula"
   ]
  },
  {
   "cell_type": "markdown",
   "metadata": {},
   "source": [
    "### Transform into RDKit"
   ]
  },
  {
   "cell_type": "code",
   "execution_count": 20,
   "metadata": {},
   "outputs": [
    {
     "data": {
      "image/png": "[encoded data removed]",
      "text/plain": [
       "<rdkit.Chem.rdchem.Mol at 0x7f7b869b1e00>"
      ]
     },
     "execution_count": 20,
     "metadata": {},
     "output_type": "execute_result"
    }
   ],
   "source": [
    "recover_rdmol_from_snapshot(snapshot)"
   ]
  },
  {
   "cell_type": "code",
   "execution_count": null,
   "metadata": {},
   "outputs": [],
   "source": [
    "from sqlmodel import select, col\n",
    "from qm9star_query.models import Snapshot\n",
    "session.exec(select(Snapshot).where(col(Snapshot.mulliken_charge).any()))"
   ]
  }
 ],
 "metadata": {
  "kernelspec": {
   "display_name": "qm9q",
   "language": "python",
   "name": "python3"
  },
  "language_info": {
   "codemirror_mode": {
    "name": "ipython",
    "version": 3
   },
   "file_extension": ".py",
   "mimetype": "text/x-python",
   "name": "python",
   "nbconvert_exporter": "python",
   "pygments_lexer": "ipython3",
   "version": "3.1.-1"
  }
 },
 "nbformat": 4,
 "nbformat_minor": 2
}
